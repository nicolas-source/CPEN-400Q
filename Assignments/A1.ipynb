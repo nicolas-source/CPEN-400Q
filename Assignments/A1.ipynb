{
 "cells": [
  {
   "cell_type": "code",
   "execution_count": 1,
   "metadata": {
    "collapsed": true
   },
   "outputs": [],
   "source": [
    "import pennylane as qml\n",
    "from pennylane import numpy as np"
   ]
  },
  {
   "cell_type": "code",
   "execution_count": 2,
   "outputs": [],
   "source": [
    "\n",
    "\n",
    "\n",
    "def prepare_state(theta, phi):\n",
    "    \"\"\"Quantum function to prepare states of the form\n",
    "        cos(\\theta/2) |0> + e^(i\\phi) sin(\\theta/2) |1>.\n",
    "\n",
    "    In principle, this function would be hidden, with no knowledge of theta/phi,\n",
    "    in order to prepare a truly random state. It is provided here just for\n",
    "    expository purposes.\n",
    "    \"\"\"\n",
    "    qml.RY(theta, wires=0)\n",
    "    qml.RZ(phi, wires=0)\n",
    "\n",
    "    return qml.state()\n",
    "\n",
    "\n",
    "def extract_bloch_vector(theta, phi):\n",
    "    \"\"\"Given a set of angular parameters representing the quantum state\n",
    "        cos(\\theta/2) |0> + e^(i\\phi) sin(\\theta/2) |1>,\n",
    "    compute the Bloch vector associated to this state.\n",
    "\n",
    "    The Bloch vector has three real-valued elements representing the position of\n",
    "    the quantum state in the 3-dimensional space of the Bloch sphere. It can\n",
    "    be computed by measuring a cleverly-chosen set of expectation values.\n",
    "\n",
    "    Args:\n",
    "        theta (float): Angular parameter of the states.\n",
    "        phi (float): Phase parameter of the state.\n",
    "\n",
    "    Returns:\n",
    "        bloch_vector (array[float, float, float]): A NumPy array representing the\n",
    "        3-element Bloch vector.\n",
    "    \"\"\"\n",
    "    # Note here that we use an analytic device so that we get exact results\n",
    "    dev = qml.device(\"default.qubit\", wires=1)\n",
    "\n",
    "    # YOUR CODE HERE\n",
    "    # Use theta, phi *only* as arguments to prepare_state\n",
    "\n",
    "    x = np.cos(phi) * np.sin(theta)\n",
    "    y = np.sin(phi) * np.sin(theta)\n",
    "    z = np.cos(theta)\n",
    "\n",
    "    return np.array([x, y, z])"
   ],
   "metadata": {
    "collapsed": false
   }
  },
  {
   "cell_type": "code",
   "execution_count": 3,
   "outputs": [],
   "source": [
    "def part_a():\n",
    "    \"\"\"Write a quantum circuit that computes the Boolean function\n",
    "        f(a, b, c, d) = ab + cd\n",
    "    where the + here represents the XOR operation.\n",
    "\n",
    "    The first four qubits of your circuit should correspond to the\n",
    "    input variables, a, b, c, d, in that order. The last qubit of your\n",
    "    circuit should correspond to the output. If you use an auxiliary wires\n",
    "    in your circuit, these should be uncomputed, like so:\n",
    "          _______\n",
    "     a ---|  C  |--- a\n",
    "     b ---|  I  |--- b\n",
    "     c ---|  R  |--- c\n",
    "     d ---|  C  |--- d\n",
    "     0 ---|     |--- 0 # Optional aux. wires\n",
    "     0 ---|     |--- 0\n",
    "          ...\n",
    "     0 ---=======--- ab + cd\n",
    "\n",
    "    \"\"\"\n",
    "\n",
    "    # You can change this to as many wires as you need\n",
    "    num_wires = 7\n",
    "\n",
    "    # Do not change the number of shots on the device\n",
    "    dev = qml.device(\"default.qubit\", wires=num_wires, shots=1)\n",
    "\n",
    "    @qml.qnode(dev)\n",
    "    def my_circuit(a, b, c, d):\n",
    "        \"\"\" Args:\n",
    "                a, b, c, d (int): The input variables, either 0 or 1.\n",
    "\n",
    "            Returns:\n",
    "                array[int]: A single sample of the output of your circuit.\n",
    "        \"\"\"\n",
    "\n",
    "        # YOUR CODE HERE\n",
    "        # Apply some quantum gates\n",
    "        # Don't forget to initialize the first 4 wires based on a, b, c, d\n",
    "\n",
    "        if a == 1:\n",
    "            qml.PauliX(wires=0)\n",
    "        if b == 1:\n",
    "            qml.PauliX(wires=1)\n",
    "        if c == 1:\n",
    "            qml.PauliX(wires=3)\n",
    "        if d == 1:\n",
    "            qml.PauliX(wires=4)\n",
    "\n",
    "\n",
    "        qml.Toffoli(wires=[0,1,2])\n",
    "        qml.Toffoli(wires=[3,4,5])\n",
    "        qml.CNOT(wires=[2, 5])\n",
    "\n",
    "        # wires 2, 6 not used\n",
    "\n",
    "        return qml.sample(wires=[0,1,3,4,2,6,5])\n",
    "\n",
    "    return my_circuit"
   ],
   "metadata": {
    "collapsed": false
   }
  },
  {
   "cell_type": "code",
   "execution_count": 4,
   "outputs": [
    {
     "data": {
      "text/plain": "tensor([1, 1, 1, 1, 1, 0, 0], requires_grad=True)"
     },
     "execution_count": 4,
     "metadata": {},
     "output_type": "execute_result"
    }
   ],
   "source": [
    "part_a()(1,1,1,1)"
   ],
   "metadata": {
    "collapsed": false
   }
  },
  {
   "cell_type": "code",
   "execution_count": 5,
   "outputs": [],
   "source": [
    "def part_b():\n",
    "    \"\"\"Write a quantum circuit that computes the Boolean function\n",
    "        f(a, b, c) = NOT(a) * b * c\n",
    "    where the * here represents the AND operation.\n",
    "\n",
    "    The first three qubits of your circuit should correspond to the\n",
    "    input variables, a, b, c, in that order. The last qubit of your\n",
    "    circuit should correspond to the output. If you use an auxiliary wires\n",
    "    in your circuit, these should be uncomputed.\n",
    "\n",
    "          _______\n",
    "     a ---|  C  |--- a\n",
    "     b ---|  I  |--- b\n",
    "     c ---|  R  |--- c\n",
    "     0 ---|  C  |--- 0 # Optional aux. wires\n",
    "     0 ---|     |--- 0\n",
    "            ...\n",
    "     0 ---=======--- NOT(a) * b * c\n",
    "\n",
    "    \"\"\"\n",
    "\n",
    "    # You can change this to as many wires as you need\n",
    "    num_wires = 10\n",
    "\n",
    "    # Do not change the number of shots on the device\n",
    "    dev = qml.device(\"default.qubit\", wires=num_wires, shots=1)\n",
    "\n",
    "    @qml.qnode(dev)\n",
    "    def my_circuit(a, b, c):\n",
    "        \"\"\" Args:\n",
    "                a, b, c (int): The input variables, either 0 or 1.\n",
    "\n",
    "            Returns:\n",
    "                array[int]: A single sample of the output of your circuit.\n",
    "        \"\"\"\n",
    "\n",
    "        # YOUR CODE HERE\n",
    "        # Apply some quantum gates\n",
    "        qml.PauliX(wires=0)\n",
    "\n",
    "        if a == 1:\n",
    "            qml.PauliX(wires=1)\n",
    "            qml.PauliX(wires=4)\n",
    "        if b == 1:\n",
    "            qml.PauliX(wires=2)\n",
    "            qml.PauliX(wires=5)\n",
    "        if c == 1:\n",
    "            qml.PauliX(wires=3)\n",
    "            qml.PauliX(wires=6)\n",
    "\n",
    "\n",
    "\n",
    "        qml.CNOT(wires=[0,1])\n",
    "        qml.Toffoli(wires=[1,2,8])\n",
    "        qml.Toffoli(wires=[3,8,9])\n",
    "\n",
    "\n",
    "\n",
    "        return qml.sample(wires=[4,5,6,9])\n",
    "\n",
    "    return my_circuit"
   ],
   "metadata": {
    "collapsed": false
   }
  },
  {
   "cell_type": "code",
   "execution_count": 6,
   "outputs": [
    {
     "data": {
      "text/plain": "tensor([0, 0, 1, 0], requires_grad=True)"
     },
     "execution_count": 6,
     "metadata": {},
     "output_type": "execute_result"
    }
   ],
   "source": [
    "part_b()(0,0,1)"
   ],
   "metadata": {
    "collapsed": false
   }
  },
  {
   "cell_type": "code",
   "execution_count": 7,
   "outputs": [],
   "source": [
    "def part_c():\n",
    "    \"\"\"Write a quantum circuit that computes the Boolean function\n",
    "        f(a, b, c) = a + a * NOT(b) + NOT(a * b * c)\n",
    "    where the * here represents the AND operation, and + the XOR.\n",
    "\n",
    "    The first three qubits of your circuit should correspond to the\n",
    "    input variables, a, b, c, in that order. The last qubit of your\n",
    "    circuit should correspond to the output. If you use an auxiliary wires\n",
    "    in your circuit, these should be uncomputed.\n",
    "          _______\n",
    "     a ---|  C  |--- a\n",
    "     b ---|  I  |--- b\n",
    "     c ---|  R  |--- c\n",
    "     0 ---|  C  |--- 0 # Optional aux. wires\n",
    "     0 ---|     | 0\n",
    "            ...\n",
    "     0 ---=======---- a + a * NOT(b) + NOT(a * b * c)\n",
    "\n",
    "    \"\"\"\n",
    "\n",
    "    # You can change this to as many wires as you need\n",
    "    num_wires = 14\n",
    "\n",
    "    # Do not change the number of shots on the device\n",
    "    dev = qml.device(\"default.qubit\", wires=num_wires, shots=1)\n",
    "\n",
    "    @qml.qnode(dev)\n",
    "    def my_circuit(a, b, c):\n",
    "        \"\"\" Args:\n",
    "                a, b, c (int): The input variables, either 0 or 1.\n",
    "\n",
    "            Returns:\n",
    "                array[int]: A single sample of the output of your circuit.\n",
    "        \"\"\"\n",
    "\n",
    "        # YOUR CODE HERE\n",
    "        # Apply some quantum gates\n",
    "        if a == 1:\n",
    "            qml.PauliX(wires=0)\n",
    "            qml.PauliX(wires=3)\n",
    "            qml.PauliX(wires=11)\n",
    "            qml.PauliX(wires=13)\n",
    "        if b == 1:\n",
    "            qml.PauliX(wires=1)\n",
    "            qml.PauliX(wires=4)\n",
    "            qml.PauliX(wires=9)\n",
    "        if c == 1:\n",
    "            qml.PauliX(wires=2)\n",
    "            qml.PauliX(wires=5)\n",
    "\n",
    "        qml.PauliX(wires=8)\n",
    "        qml.PauliX(wires=10)\n",
    "\n",
    "        qml.Toffoli(wires=[3,4,6])\n",
    "        qml.Toffoli(wires=[5,6,7])\n",
    "        qml.CNOT(wires=[8,7])\n",
    "        qml.CNOT(wires=[10,9])\n",
    "        qml.Toffoli(wires=[9,11,12])\n",
    "        qml.CNOT(wires=[12,13])\n",
    "        qml.CNOT(wires=[7,13])\n",
    "\n",
    "\n",
    "\n",
    "        return qml.sample(wires=[0,1,2,13])\n",
    "\n",
    "    return my_circuit"
   ],
   "metadata": {
    "collapsed": false
   }
  },
  {
   "cell_type": "code",
   "execution_count": 8,
   "outputs": [
    {
     "name": "stdout",
     "output_type": "stream",
     "text": [
      "[1 1 1 1]\n",
      "[1 1 0 0]\n",
      "[1 0 1 1]\n",
      "[1 0 0 1]\n",
      "[0 1 1 1]\n",
      "[0 1 0 1]\n",
      "[0 0 1 1]\n",
      "[0 0 0 1]\n"
     ]
    }
   ],
   "source": [
    "print(part_c()(1,1,1))\n",
    "print(part_c()(1,1,0))\n",
    "print(part_c()(1,0,1))\n",
    "print(part_c()(1,0,0))\n",
    "print(part_c()(0,1,1))\n",
    "print(part_c()(0,1,0))\n",
    "print(part_c()(0,0,1))\n",
    "print(part_c()(0,0,0))"
   ],
   "metadata": {
    "collapsed": false
   }
  },
  {
   "cell_type": "code",
   "execution_count": 88,
   "outputs": [],
   "source": [
    "def part_d():\n",
    "    \"\"\"Write a quantum circuit that computes the function\n",
    "        f(a, b) = a + b\n",
    "    where a, b are two-bit binary values, and + is regular binary addition.\n",
    "\n",
    "    The first four qubits of your circuit should correspond to the input\n",
    "    variables, a[0], a[1], b[0], b[1], in that order. The last three qubits of your\n",
    "    circuit should correspond to the output in the order: carry, (a + b)[0], (a + b)[1].\n",
    "    If you use an auxiliary wires in your circuit, these should be uncomputed.\n",
    "           _______\n",
    "     a0 ---|  C  |--- a0\n",
    "     a1 ---|  I  |--- a1\n",
    "     b0 ---|  R  |--- b0\n",
    "     b1 ---|  C  |--- b1\n",
    "      0 ---|     |--- 0 # Optional aux wires\n",
    "             ...\n",
    "      0 ---|     |--- 0\n",
    "      0 ---|     |--- carry\n",
    "      0 ---|     |--- s0\n",
    "      0 ---=======--- s1\n",
    "\n",
    "    \"\"\"\n",
    "\n",
    "    # You can change this to as many wires as you need\n",
    "    num_wires = 15\n",
    "\n",
    "    # Do not change the number of shots on the device\n",
    "    dev = qml.device(\"default.qubit\", wires=num_wires, shots=1)\n",
    "\n",
    "    @qml.qnode(dev)\n",
    "    def my_circuit(aa, bb, cc, dd):\n",
    "        \"\"\" Args:\n",
    "                a, b (list([int])): The input variables. For example, a = [1, 0] corresponds\n",
    "                to a decimal value of 2.\n",
    "\n",
    "            Returns:\n",
    "                array[int]: A single sample of the output of your circuit.\n",
    "        \"\"\"\n",
    "        a = [aa, bb]\n",
    "        b = [cc, dd]\n",
    "\n",
    "        if a[0] == 1:\n",
    "            qml.PauliX(wires=0)\n",
    "        if a[1] == 1:\n",
    "            qml.PauliX(wires=1)\n",
    "        if b[0] == 1:\n",
    "            qml.PauliX(wires=2)\n",
    "        if b[1] == 1:\n",
    "            qml.PauliX(wires=3)\n",
    "\n",
    "\n",
    "        if a[0] == 1:\n",
    "            qml.PauliX(wires=4)\n",
    "            qml.PauliX(wires=9)\n",
    "        if a[1] == 1:\n",
    "            qml.PauliX(wires=5)\n",
    "        if b[0] == 1:\n",
    "            qml.PauliX(wires=6)\n",
    "            qml.PauliX(wires=10)\n",
    "        if b[1] == 1:\n",
    "            qml.PauliX(wires=7)\n",
    "\n",
    "        qml.Toffoli(wires=[4,6,8])\n",
    "        qml.CNOT(wires=[4,6])\n",
    "        qml.Toffoli(wires=[9,10,11])\n",
    "        qml.Toffoli(wires=[5,7,13])\n",
    "        qml.CNOT(wires=[5,7])\n",
    "        qml.CNOT(wires=[7,8])\n",
    "        qml.Toffoli(wires=[7,11,12])\n",
    "        qml.Toffoli(wires=[12,13,14])\n",
    "        qml.CNOT(wires=[12,13])\n",
    "        qml.CNOT(wires=[13,14])\n",
    "\n",
    "        qml.CNOT(wires=[5, 7])\n",
    "        qml.Toffoli(wires=[9,10,11])\n",
    "        qml.CNOT(wires=[12,13])\n",
    "        qml.Toffoli(wires=[7,11,12])\n",
    "        qml.Toffoli(wires=[5,7,13])\n",
    "\n",
    "\n",
    "\n",
    "        return qml.sample(wires=[0,1,2,3,14,6,8, 12,13])\n",
    "    return my_circuit"
   ],
   "metadata": {
    "collapsed": false
   }
  },
  {
   "cell_type": "code",
   "execution_count": 89,
   "outputs": [
    {
     "name": "stdout",
     "output_type": "stream",
     "text": [
      "[0 0 0 0 0 0 0 0 0]\n",
      "[0 0 1 0 0 1 0 0 0]\n",
      "[0 0 0 1 0 0 1 0 0]\n",
      "[0 0 1 1 0 1 1 0 0]\n",
      "[1 0 0 0 0 1 0 0 0]\n",
      "[1 0 1 0 0 0 1 0 0]\n",
      "[1 0 0 1 0 1 1 0 0]\n",
      "[1 0 1 1 1 0 0 1 0]\n",
      "[0 1 0 0 0 0 1 0 0]\n",
      "[0 1 1 0 0 1 1 0 0]\n",
      "[0 1 0 1 1 0 0 0 0]\n",
      "[0 1 1 1 1 1 0 0 0]\n",
      "[1 1 0 0 0 1 1 0 0]\n",
      "[1 1 1 0 1 0 0 1 0]\n",
      "[1 1 0 1 1 1 0 0 0]\n",
      "[1 1 1 1 1 0 1 0 0]\n"
     ]
    }
   ],
   "source": [
    "#            a0,a1,b0,b1\n",
    "print(part_d()(0,0,0,0))\n",
    "print(part_d()(0,0,1,0))\n",
    "print(part_d()(0,0,0,1))\n",
    "print(part_d()(0,0,1,1))\n",
    "print(part_d()(1,0,0,0))\n",
    "print(part_d()(1,0,1,0))\n",
    "print(part_d()(1,0,0,1))\n",
    "print(part_d()(1,0,1,1))\n",
    "print(part_d()(0,1,0,0))\n",
    "print(part_d()(0,1,1,0))\n",
    "print(part_d()(0,1,0,1))\n",
    "print(part_d()(0,1,1,1))\n",
    "print(part_d()(1,1,0,0))\n",
    "print(part_d()(1,1,1,0))\n",
    "print(part_d()(1,1,0,1))\n",
    "print(part_d()(1,1,1,1))\n",
    "# https://www.quora.com/What-is-a-2-bit-full-adder-truth-table"
   ],
   "metadata": {
    "collapsed": false
   }
  },
  {
   "cell_type": "code",
   "execution_count": 129,
   "outputs": [
    {
     "data": {
      "text/plain": "<Figure size 1500x1600 with 1 Axes>",
      "image/png": "[encoded data removed]"
     },
     "metadata": {},
     "output_type": "display_data"
    }
   ],
   "source": [
    "fig, ax = qml.draw_mpl(part_d())(0,0,0,0)"
   ],
   "metadata": {
    "collapsed": false
   }
  },
  {
   "cell_type": "code",
   "execution_count": 87,
   "outputs": [
    {
     "name": "stdout",
     "output_type": "stream",
     "text": [
      "[ True  True  True  True  True  True  True]\n",
      "[ True  True  True  True  True  True  True]\n",
      "[ True  True  True  True  True  True  True]\n",
      "[ True  True  True  True  True  True  True]\n",
      "[ True  True  True  True  True  True  True]\n",
      "[ True  True  True  True  True  True  True]\n",
      "[ True  True  True  True  True  True  True]\n",
      "[ True  True  True  True  True  True  True]\n",
      "[ True  True  True  True  True  True  True]\n",
      "[ True  True  True  True  True  True  True]\n",
      "[ True  True  True  True  True  True  True]\n",
      "[ True  True  True  True  True  True  True]\n",
      "[ True  True  True  True  True  True  True]\n",
      "[ True  True  True  True  True  True  True]\n",
      "[ True  True  True  True  True  True  True]\n",
      "[ True  True  True  True  True  True  True]\n"
     ]
    }
   ],
   "source": [
    "#            a0,a1,b0,b1          c,s0,s1\n",
    "print(part_d()(0,0,0,0) == [0,0,0,0,0,0,0])\n",
    "print(part_d()(0,0,1,0) == [0,0,1,0,0,1,0])\n",
    "print(part_d()(0,0,0,1) == [0,0,0,1,0,0,1])\n",
    "print(part_d()(0,0,1,1) == [0,0,1,1,0,1,1])\n",
    "print(part_d()(1,0,0,0) == [1,0,0,0,0,1,0])\n",
    "print(part_d()(1,0,1,0) == [1,0,1,0,0,0,1])\n",
    "print(part_d()(1,0,0,1) == [1,0,0,1,0,1,1])\n",
    "print(part_d()(1,0,1,1) == [1,0,1,1,1,0,0])\n",
    "print(part_d()(0,1,0,0) == [0,1,0,0,0,0,1])\n",
    "print(part_d()(0,1,1,0) == [0,1,1,0,0,1,1])\n",
    "print(part_d()(0,1,0,1) == [0,1,0,1,1,0,0])\n",
    "print(part_d()(0,1,1,1) == [0,1,1,1,1,1,0])\n",
    "print(part_d()(1,1,0,0) == [1,1,0,0,0,1,1])\n",
    "print(part_d()(1,1,1,0) == [1,1,1,0,1,0,0])\n",
    "print(part_d()(1,1,0,1) == [1,1,0,1,1,1,0])\n",
    "print(part_d()(1,1,1,1) == [1,1,1,1,1,0,1])\n",
    "# https://www.quora.com/What-is-a-2-bit-full-adder-truth-table"
   ],
   "metadata": {
    "collapsed": false
   }
  },
  {
   "cell_type": "code",
   "execution_count": 12,
   "outputs": [],
   "source": [
    "import numpy as np\n",
    "import pennylane as qml\n",
    "\n",
    "dev = qml.device(\"default.qubit\", wires=3)\n",
    "\n",
    "def bell():\n",
    "    qml.Hadamard(wires=1)\n",
    "    qml.CNOT(wires=[1,2])\n",
    "\n",
    "# YOUR CODE HERE: implement the circuit in the picture in the QNode below\n",
    "# The QNode should return the measurement outcome probabilities on the\n",
    "# last two qubits.\n",
    "@qml.qnode(dev)\n",
    "def quiz_3_qnode(y):\n",
    "    qml.Hadamard(wires=0)\n",
    "    qml.Hadamard(wires=1)\n",
    "    qml.Hadamard(wires=2)\n",
    "\n",
    "    qml.CZ(wires=[0,1])\n",
    "    qml.CZ(wires=[1,2])\n",
    "\n",
    "\n",
    "    m_0 = qml.measure(0)\n",
    "\n",
    "    qml.cond(m_0 == 1, qml.RY)(y, wires=1)\n",
    "    # qml.cond(m_0 == 1, qml.adjoint(bell))()\n",
    "    # qml.cond(m_0 == 1, qml.adjoint(qml.CNOT))(wires=[1,2])\n",
    "    # qml.cond(m_0 == 1, qml.adjoint(qml.Hadamard))(wires=[1])\n",
    "    return qml.probs(wires=[1,2])\n"
   ],
   "metadata": {
    "collapsed": false
   }
  },
  {
   "cell_type": "code",
   "execution_count": 13,
   "outputs": [
    {
     "data": {
      "text/plain": "tensor([0.33458002, 0.16541998, 0.16541998, 0.33458002], requires_grad=True)"
     },
     "execution_count": 13,
     "metadata": {},
     "output_type": "execute_result"
    }
   ],
   "source": [
    "quiz_3_qnode(y=0.743190)"
   ],
   "metadata": {
    "collapsed": false
   }
  },
  {
   "cell_type": "code",
   "execution_count": 121,
   "outputs": [],
   "source": [
    "import numpy as np\n",
    "import pennylane as qml\n",
    "\n",
    "from pennylane.wires import Wires\n",
    "\n",
    "def quantum_function():\n",
    "    \"\"\"This quantum function performs all the operations in the circuit.\n",
    "    It is up to you to set up QNodes in the measurement routines\n",
    "    that make use of it.\n",
    "    \"\"\"\n",
    "    qml.Hadamard(wires=0)\n",
    "    qml.CNOT(wires=[0, 1])\n",
    "    qml.S(wires=1)\n",
    "    qml.RZ(0.4, wires=0)\n",
    "    qml.RY(0.2, wires=1)\n",
    "    qml.CNOT(wires=[1, 0])\n",
    "\n",
    "\n",
    "def are_commuting(obs_1, obs_2):\n",
    "    \"\"\"Determines if two two-qubit observables commute.\n",
    "\n",
    "    Two observables, A and B are said to commute if AB - BA\n",
    "    = 0, where 0 is the all-zeros matrix having the same size as A and B.\n",
    "\n",
    "    The two observables will be selected from the following six options:\n",
    "         qml.PauliX(0), qml.PauliX(1),\n",
    "         qml.PauliY(0), qml.PauliY(1),\n",
    "         qml.PauliZ(0), qml.PauliZ(1)\n",
    "\n",
    "    Args:\n",
    "        obs_1 (qml.Observable): The first two-qubit observable.\n",
    "        obs_2 (qml.Observable): The second two-qubit observable.\n",
    "\n",
    "    Returns:\n",
    "        bool: True if the two observables commute, False otherwise\n",
    "    \"\"\"\n",
    "    dev1 = qml.device('default.qubit', wires=2)\n",
    "    @qml.qnode(dev1)\n",
    "    def circ1():\n",
    "        qml.Hadamard(wires=0)\n",
    "        qml.Hadamard(wires=1)\n",
    "        return qml.expval(obs_2 @ obs_1)\n",
    "\n",
    "    dev2 = qml.device('default.qubit', wires=2)\n",
    "    @qml.qnode(dev2)\n",
    "    def circ2():\n",
    "        qml.Hadamard(wires=0)\n",
    "        qml.Hadamard(wires=1)\n",
    "        return qml.expval(obs_1 @ obs_2)\n",
    "    # YOUR CODE HERE\n",
    "    print(circ1())\n",
    "    print(circ2())\n",
    "    ans = circ1() - circ2()\n",
    "    return np.allclose(circ1(), circ2())\n"
   ],
   "metadata": {
    "collapsed": false
   }
  },
  {
   "cell_type": "code",
   "execution_count": 128,
   "outputs": [
    {
     "name": "stdout",
     "output_type": "stream",
     "text": [
      "0.9999999999999996\n",
      "0.9999999999999996\n"
     ]
    },
    {
     "name": "stderr",
     "output_type": "stream",
     "text": [
      "/Users/nicolas/opt/anaconda3/envs/PennyLane/lib/python3.9/site-packages/pennylane/operation.py:1830: UserWarning: Tensor object acts on overlapping wires; in some PennyLane functions this will lead to undefined behaviour\n",
      "  warnings.warn(\n"
     ]
    },
    {
     "data": {
      "text/plain": "True"
     },
     "execution_count": 128,
     "metadata": {},
     "output_type": "execute_result"
    }
   ],
   "source": [
    "are_commuting(qml.PauliX(0),qml.PauliZ(0))"
   ],
   "metadata": {
    "collapsed": false
   }
  },
  {
   "cell_type": "code",
   "execution_count": 16,
   "outputs": [
    {
     "ename": "TypeError",
     "evalue": "'bool' object is not subscriptable",
     "output_type": "error",
     "traceback": [
      "\u001B[0;31m---------------------------------------------------------------------------\u001B[0m",
      "\u001B[0;31mTypeError\u001B[0m                                 Traceback (most recent call last)",
      "Cell \u001B[0;32mIn[16], line 1\u001B[0m\n\u001B[0;32m----> 1\u001B[0m \u001B[43mare_commuting\u001B[49m\u001B[43m(\u001B[49m\u001B[38;5;241;43m1\u001B[39;49m\u001B[43m,\u001B[49m\u001B[38;5;241;43m1\u001B[39;49m\u001B[43m)\u001B[49m\u001B[43m[\u001B[49m\u001B[38;5;241;43m1\u001B[39;49m\u001B[43m]\u001B[49m()\n",
      "\u001B[0;31mTypeError\u001B[0m: 'bool' object is not subscriptable"
     ]
    }
   ],
   "source": [
    "are_commuting(1,1)[1]()"
   ],
   "metadata": {
    "collapsed": false
   }
  },
  {
   "cell_type": "code",
   "execution_count": null,
   "outputs": [],
   "source": [
    "def measure_non_commuting_separately(obs_1, obs_2):\n",
    "    \"\"\"Runs a quantum circuit and computes the expectation value of\n",
    "    two non-commuting observables independently.\n",
    "\n",
    "    The expectation values must be computed from samples taken by\n",
    "    running the circuit on the provided device.\n",
    "\n",
    "    Args:\n",
    "        obs_1 (qml.Observable): The first observable to measure.\n",
    "        obs_2 (qml.Observable): The second observable to measure.\n",
    "\n",
    "    Returns:\n",
    "        float, float: A tuple of expectation values corresponding to obs_1\n",
    "        and obs_2 respectively.\n",
    "    \"\"\"\n",
    "    dev = qml.device(\"default.qubit\", wires=2, shots=100000)\n",
    "\n",
    "    # YOUR CODE HERE\n",
    "    return"
   ],
   "metadata": {
    "collapsed": false
   }
  },
  {
   "cell_type": "code",
   "execution_count": null,
   "outputs": [],
   "source": [
    "def measure_commuting_together(obs_1, obs_2):\n",
    "    \"\"\"Runs a quantum circuit and computes the expectation value of\n",
    "    two commuting observables.\n",
    "\n",
    "    The expectation values must be computed from samples taken by\n",
    "    running the circuit on the provided device.\n",
    "\n",
    "    Args:\n",
    "        obs_1 (qml.Observable): The first observable to measure.\n",
    "        obs_2 (qml.Observable): The second observable to measure.\n",
    "\n",
    "    Returns:\n",
    "        float, float: A tuple of expectation values corresponding to obs_1\n",
    "        and obs_2 respectively.\n",
    "    \"\"\"\n",
    "    dev = qml.device(\"default.qubit\", wires=2, shots=100000)\n",
    "\n",
    "    # YOUR CODE HERE\n",
    "    return"
   ],
   "metadata": {
    "collapsed": false
   }
  },
  {
   "cell_type": "code",
   "execution_count": null,
   "outputs": [],
   "source": [
    "def measure_pair_of_observables(obs_1, obs_2):\n",
    "    \"\"\"Compute the expectation values of two two-qubit observables.\n",
    "\n",
    "    The two observables will be selected from the following set:\n",
    "       [XI, IX, ZI, IZ, YI, IY]\n",
    "    and will be provided in the following form:\n",
    "        obs_1 = qml.PauliX(1)   (IX)\n",
    "        obs_2 = qml.PauliZ(0)   (ZI)\n",
    "\n",
    "    If the two observables commute, the observables can be measured\n",
    "    simultaneously using the same measurement samples in the function\n",
    "    `measure_commuting_together`. If not, they must be measured individually\n",
    "    using the `measure_non_commuting_separately` function.\n",
    "\n",
    "    Args:\n",
    "        obs_1 (qml.Observable): The first observable to measure.\n",
    "        obs_2 (qml.Observable): The second observable to measure.\n",
    "\n",
    "    Returns:\n",
    "        float, float: A tuple of expectation values corresponding to obs_1\n",
    "        and obs_2 respectively.\n",
    "    \"\"\"\n",
    "\n",
    "    # YOUR CODE HERE\n",
    "    return"
   ],
   "metadata": {
    "collapsed": false
   }
  }
 ],
 "metadata": {
  "kernelspec": {
   "name": "pennylane",
   "language": "python",
   "display_name": "PennyLane"
  },
  "language_info": {
   "codemirror_mode": {
    "name": "ipython",
    "version": 2
   },
   "file_extension": ".py",
   "mimetype": "text/x-python",
   "name": "python",
   "nbconvert_exporter": "python",
   "pygments_lexer": "ipython2",
   "version": "2.7.6"
  }
 },
 "nbformat": 4,
 "nbformat_minor": 0
}
