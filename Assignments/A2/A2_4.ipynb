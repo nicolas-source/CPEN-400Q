{
 "cells": [
  {
   "cell_type": "code",
   "execution_count": 1,
   "metadata": {
    "collapsed": true
   },
   "outputs": [],
   "source": [
    "import pennylane as qml\n",
    "from pennylane import numpy as np"
   ]
  },
  {
   "cell_type": "code",
   "execution_count": 7,
   "outputs": [],
   "source": [
    "from problem_3_data import *"
   ],
   "metadata": {
    "collapsed": false
   }
  },
  {
   "cell_type": "code",
   "execution_count": 26,
   "outputs": [
    {
     "data": {
      "text/plain": "'22kbvkbq1vibovbvib7k2k7qbmviobbvbvoq2qvvkb2bqm7bbmbx21bbmbrvmvb7kb7m'"
     },
     "execution_count": 26,
     "metadata": {},
     "output_type": "execute_result"
    }
   ],
   "source": [
    "import pennylane as qml\n",
    "from pennylane import numpy as np\n",
    "from fractions import Fraction\n",
    "\n",
    "\n",
    "def fractional_binary_to_float(sample):\n",
    "    return np.sum(\n",
    "        [int(sample[bit]) / 2 ** (bit + 1) for bit in range(len(sample))]\n",
    "    )\n",
    "\n",
    "\n",
    "\n",
    "def phase_to_order(phase, max_denominator):\n",
    "    s_over_r = Fraction(phase)\n",
    "    return s_over_r.limit_denominator(max_denominator).denominator\n",
    "\n",
    "\n",
    "def get_U_Na(N, a):\n",
    "    n_qubits = int(np.ceil(np.log2(N)))\n",
    "\n",
    "    U_Na = np.zeros([2 ** n_qubits, 2 ** n_qubits])\n",
    "\n",
    "    for k in range(N):\n",
    "        U_Na[(k * a) % N, k] = 1\n",
    "\n",
    "    for extra in range(N, 2 ** n_qubits):\n",
    "        U_Na[extra, extra] = 1\n",
    "\n",
    "    return U_Na\n",
    "\n",
    "def run_order_finding(a, N):\n",
    "    U_Na = get_U_Na(a, N)\n",
    "\n",
    "    num_estimation_qubits = 10\n",
    "    num_target_qubits = int(np.log2(len(U_Na)))\n",
    "\n",
    "    estimation_wires = range(num_estimation_qubits)\n",
    "    target_wires = range(num_estimation_qubits, num_estimation_qubits + num_target_qubits)\n",
    "\n",
    "    dev = qml.device('default.qubit', wires=num_estimation_qubits+num_target_qubits, shots=1)\n",
    "\n",
    "    @qml.qnode(dev)\n",
    "    def find_order():\n",
    "        # Prepare target register\n",
    "        qml.PauliX(wires=target_wires[-1])\n",
    "\n",
    "        # Do phase estimation\n",
    "        qml.QuantumPhaseEstimation(\n",
    "            U_Na,\n",
    "            estimation_wires=estimation_wires,\n",
    "            target_wires=target_wires\n",
    "        )\n",
    "\n",
    "        return qml.sample(wires=estimation_wires)\n",
    "\n",
    "    possible_r = []\n",
    "\n",
    "    for _ in range(10):\n",
    "        sample = find_order()\n",
    "        #print(f\"Sample = {sample}\")\n",
    "        phase = fractional_binary_to_float(sample)\n",
    "        #print(f\"Numerical phase = {phase}\")\n",
    "        est_r = phase_to_order(phase, N)\n",
    "        #print(f\"Guess for r = {est_r}\")\n",
    "        possible_r.append(est_r)\n",
    "\n",
    "    return max(possible_r)\n",
    "\n",
    "def factor_with_shor(N):\n",
    "    \"\"\"Implements Shor's algorithm to determine the prime factors of a provided\n",
    "    value N.\n",
    "\n",
    "    This function _must_ execute a QNode in order to factor the number.\n",
    "\n",
    "    Args:\n",
    "        N (int): The number to factor.\n",
    "\n",
    "    Returns:\n",
    "        int, int: p, q such that N = p * q.\n",
    "    \"\"\"\n",
    "    p, q = 0, 0\n",
    "\n",
    "    def shors_algorithm(N):\n",
    "        for _ in range(10):\n",
    "            a = np.random.choice(list(range(2, N-1)))\n",
    "\n",
    "            r = run_order_finding(a, N)\n",
    "\n",
    "            if r % 2 == 1:\n",
    "                continue\n",
    "\n",
    "            x = (a ** (r // 2)) % N\n",
    "\n",
    "            if x == 1 or x == (N - 1):\n",
    "                continue\n",
    "\n",
    "            p = np.gcd(x - 1, N)\n",
    "            q = np.gcd(x + 1, N)\n",
    "            return p, q\n",
    "\n",
    "    for _ in range(300):\n",
    "        p, q = shors_algorithm(N)\n",
    "        if p * q == N:\n",
    "            print(f\"p={p}\\nq={q}\")\n",
    "            break\n",
    "\n",
    "    return p, q\n",
    "\n",
    "\n",
    "def decode_message(message, key_pair):\n",
    "    \"\"\"Use Shor's algorithm to decrypt an arbitrary secret message encoded using\n",
    "    the provided RSA public key pair.\n",
    "\n",
    "    Messages are encoded as a list of integers; the mapping between characters in\n",
    "    the message and `decoded` integers is:\n",
    "      - 0-9: numbers 0-9\n",
    "      - 10-35: letters a-z (only lowercase is used)\n",
    "      - 36: space\n",
    "\n",
    "    Args:\n",
    "        message (List[int]): A list of integers representing the secret message.\n",
    "            Each integer in the list represents a different character in the  message.\n",
    "        key_pair ((int, int)): The public RSA key (e, N).\n",
    "\n",
    "    Returns:\n",
    "        str: The decoded message.\n",
    "    \"\"\"\n",
    "    decoded_message = \"\"\n",
    "\n",
    "    def get_d(e, theta):\n",
    "        for d in range(1, theta):\n",
    "            if (d * e) % N == 1:\n",
    "                # print(f\"D= {d} for e= {e}\")\n",
    "                return d\n",
    "\n",
    "    p = 13\n",
    "    q = 23\n",
    "\n",
    "    theta = (p-1) * (q-1)\n",
    "    e, N = key_pair\n",
    "    d = get_d(e, theta)\n",
    "\n",
    "    letters = ['a','b','c','d','e','f','g','h','i','j','k','l','m','n','o','p','q','r','s','t','u','v','w','x','y','z']\n",
    "\n",
    "    def int_to_char(num):\n",
    "        if num <= 9:\n",
    "            return str(num)\n",
    "        if 10 <= num <= 35:\n",
    "            index = num - 10\n",
    "            return letters[index]\n",
    "        if num == 36:\n",
    "            return ' '\n",
    "\n",
    "    for msg in message:\n",
    "        decoded_int = msg ** d % N % 37\n",
    "        decoded_message += int_to_char(decoded_int)\n",
    "\n",
    "\n",
    "    return decoded_message\n",
    "\n",
    "\n",
    "\n",
    "\n",
    "def find_party_location(party_message, party_key_pair):\n",
    "    \"\"\"Recover the location of the surprise party.\n",
    "\n",
    "    *Note that there is no explicit test function provided for this; a hidden\n",
    "    test function will be used (with just this one test case), and is worth 1\n",
    "    point. The values that will be passed to the test function are in\n",
    "    problem_3_data.py.*\n",
    "\n",
    "    Args:\n",
    "        party_message (List[int]): A list of integers representing the secret message.\n",
    "            Each integer in the list represents a different character in the message.\n",
    "        party_key_pair ((int, int)): The public RSA key (e, N).\n",
    "\n",
    "    Returns:\n",
    "        str: a 10-character string indicating the location of the surprise party.\n",
    "\n",
    "    \"\"\"\n",
    "\n",
    "    location = \"\"\n",
    "\n",
    "    e, N = party_key_pair\n",
    "\n",
    "    p, q  = factor_with_shor(N)\n",
    "\n",
    "    decode_message(party_message, party_key_pair)\n",
    "\n",
    "\n",
    "    return location\n",
    "\n",
    "decode_message(party_message, party_key_pair)"
   ],
   "metadata": {
    "collapsed": false
   }
  },
  {
   "cell_type": "code",
   "execution_count": 19,
   "outputs": [],
   "source": [],
   "metadata": {
    "collapsed": false
   }
  },
  {
   "cell_type": "code",
   "execution_count": 6,
   "outputs": [
    {
     "data": {
      "text/plain": "263"
     },
     "execution_count": 6,
     "metadata": {},
     "output_type": "execute_result"
    }
   ],
   "source": [
    "decode_message(party_message, party_key_pair)"
   ],
   "metadata": {
    "collapsed": false
   }
  },
  {
   "cell_type": "code",
   "execution_count": 11,
   "outputs": [
    {
     "name": "stdout",
     "output_type": "stream",
     "text": [
      "D= 12 for e= 25\n"
     ]
    }
   ],
   "source": [
    "e = 25\n",
    "N = 299\n",
    "def get_d(e, theta):\n",
    "    for d in range(1, theta):\n",
    "        if (d * e) % N == 1:\n",
    "            print(f\"D= {d} for e= {e}\")\n",
    "            return d"
   ],
   "metadata": {
    "collapsed": false
   }
  },
  {
   "cell_type": "code",
   "execution_count": null,
   "outputs": [],
   "source": [],
   "metadata": {
    "collapsed": false
   }
  }
 ],
 "metadata": {
  "kernelspec": {
   "display_name": "Python 3",
   "language": "python",
   "name": "python3"
  },
  "language_info": {
   "codemirror_mode": {
    "name": "ipython",
    "version": 2
   },
   "file_extension": ".py",
   "mimetype": "text/x-python",
   "name": "python",
   "nbconvert_exporter": "python",
   "pygments_lexer": "ipython2",
   "version": "2.7.6"
  }
 },
 "nbformat": 4,
 "nbformat_minor": 0
}
