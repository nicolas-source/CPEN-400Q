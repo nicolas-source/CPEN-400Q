{
 "cells": [
  {
   "cell_type": "code",
   "execution_count": 1,
   "metadata": {
    "collapsed": true
   },
   "outputs": [],
   "source": [
    "import pennylane as qml\n",
    "from pennylane import numpy as np"
   ]
  },
  {
   "cell_type": "code",
   "execution_count": null,
   "outputs": [],
   "source": [
    "import pennylane as qml\n",
    "from pennylane import numpy as np\n",
    "\n",
    "\n",
    "def factor_with_shor(N):\n",
    "    \"\"\"Implements Shor's algorithm to determine the prime factors of a provided\n",
    "    value N.\n",
    "\n",
    "    This function _must_ execute a QNode in order to factor the number.\n",
    "\n",
    "    Args:\n",
    "        N (int): The number to factor.\n",
    "\n",
    "    Returns:\n",
    "        int, int: p, q such that N = p * q.\n",
    "    \"\"\"\n",
    "    p, q = 0, 0\n",
    "\n",
    "    # YOUR CODE HERE\n",
    "\n",
    "    return p, q\n",
    "\n",
    "\n",
    "def decode_message(message, key_pair):\n",
    "    \"\"\"Use Shor's algorithm to decrypt an arbitrary secret message encoded using\n",
    "    the provided RSA public key pair.\n",
    "\n",
    "    Messages are encoded as a list of integers; the mapping between characters in\n",
    "    the message and `decoded` integers is:\n",
    "      - 0-9: numbers 0-9\n",
    "      - 10-35: letters a-z (only lowercase is used)\n",
    "      - 36: space\n",
    "\n",
    "    Args:\n",
    "        message (List[int]): A list of integers representing the secret message.\n",
    "            Each integer in the list represents a different character in the  message.\n",
    "        key_pair ((int, int)): The public RSA key (e, N).\n",
    "\n",
    "    Returns:\n",
    "        str: The decoded message.\n",
    "    \"\"\"\n",
    "    decoded_message = \"\"\n",
    "\n",
    "    # YOUR CODE HERE\n",
    "\n",
    "    return decoded_message\n",
    "\n",
    "\n",
    "def find_party_location(party_message, party_key_pair):\n",
    "    \"\"\"Recover the location of the surprise party.\n",
    "\n",
    "    *Note that there is no explicit test function provided for this; a hidden\n",
    "    test function will be used (with just this one test case), and is worth 1\n",
    "    point. The values that will be passed to the test function are in\n",
    "    problem_3_data.py.*\n",
    "\n",
    "    Args:\n",
    "        party_message (List[int]): A list of integers representing the secret message.\n",
    "            Each integer in the list represents a different character in the message.\n",
    "        party_key_pair ((int, int)): The public RSA key (e, N).\n",
    "\n",
    "    Returns:\n",
    "        str: a 10-character string indicating the location of the surprise party.\n",
    "\n",
    "    \"\"\"\n",
    "\n",
    "    location = \"\"\n",
    "\n",
    "    # YOUR CODE HERE\n",
    "\n",
    "    return location"
   ],
   "metadata": {
    "collapsed": false
   }
  }
 ],
 "metadata": {
  "kernelspec": {
   "display_name": "Python 3",
   "language": "python",
   "name": "python3"
  },
  "language_info": {
   "codemirror_mode": {
    "name": "ipython",
    "version": 2
   },
   "file_extension": ".py",
   "mimetype": "text/x-python",
   "name": "python",
   "nbconvert_exporter": "python",
   "pygments_lexer": "ipython2",
   "version": "2.7.6"
  }
 },
 "nbformat": 4,
 "nbformat_minor": 0
}
