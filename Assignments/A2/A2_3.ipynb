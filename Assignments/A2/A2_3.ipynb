{
 "cells": [
  {
   "cell_type": "code",
   "execution_count": 5,
   "outputs": [],
   "source": [
    "import pennylane as qml\n",
    "from pennylane import numpy as np"
   ],
   "metadata": {
    "collapsed": false
   }
  },
  {
   "cell_type": "code",
   "execution_count": 7,
   "outputs": [],
   "source": [
    "U11 = [0.58939515 - 0.13274642j, 0.64381996 + 0.46956108j, 0.79653634 + 0.02283875j, -0.38478345 - 0.46577886j]\n",
    "U12 = [-0.25432824 + 0.63921011j, -0.62853537 - 0.3628648j, 0.56165482 + 0.45964273j, 0.50800259 - 0.46390278j]\n",
    "U13 = [0.18203758 + 0.17691194j, -0.73088329 - 0.63354092j, 0.96399606 - 0.07922173j, 0.25139533 - 0.03515543j]"
   ],
   "metadata": {
    "collapsed": false
   }
  },
  {
   "cell_type": "code",
   "execution_count": 8,
   "outputs": [],
   "source": [
    "U11 = np.array(U11).reshape((2, 2))\n",
    "U12 = np.array(U12).reshape((2, 2))\n",
    "U13 = np.array(U13).reshape((2, 2))"
   ],
   "metadata": {
    "collapsed": false
   }
  },
  {
   "cell_type": "code",
   "execution_count": 9,
   "outputs": [],
   "source": [
    "U21 = [-0.38244183 - 0.12961519j, -0.58523477 - 0.07874502j, 0.30743697 - 0.1900339j,\n",
    "       0.35244239 - 0.48310622j, 0.0520515 + 0.11832368j, -0.31650125 - 0.29741055j,\n",
    "       -0.43985789 + 0.65802989j, -0.22420903 - 0.3433891j, 0.80468183 - 0.37828889j,\n",
    "       -0.17001017 - 0.01590874j, -0.00860685 - 0.28232261j, -0.10595894 - 0.29869833j,\n",
    "       0.17166715 + 0.01197327j, -0.3397648 + 0.56398292j, -0.37158034 + 0.15823791j,\n",
    "       0.54409558 + 0.27878125j]\n",
    "U22 = [0.39021299 + 0.19550829j, 0.51227196 + 0.31891725j, 0.29405574 - 0.23122613j,\n",
    "       0.05455699 + 0.54997163j, -0.01534597 + 0.4880493j, 0.32273224 - 0.0277232j,\n",
    "       -0.78572909 - 0.00924454j, -0.19764638 - 0.01131186j, 0.61343005 + 0.33688749j,\n",
    "       -0.55122531 + 0.10760665j, -0.08187687 - 0.30746768j, 0.22104702 - 0.21137614j,\n",
    "       0.1761403 + 0.22420457j, 0.45391289 - 0.09736075j, 0.37273568 + 0.04937567j,\n",
    "       -0.14723682 - 0.73494378j]\n",
    "U23 = [0.09993947 + 0.22310773j, -0.52519719 - 0.19872825j, 0.49386529 + 0.09293278j,\n",
    "       -0.45451301 + 0.40717139j, 0.15789114 + 0.17890024j, 0.01504621 - 0.04207803j,\n",
    "       -0.6909489 + 0.35722228j, -0.03586294 + 0.5785878j, 0.40172155 - 0.35194883j,\n",
    "       -0.31727546 - 0.66402832j, -0.20322529 - 0.28188923j, 0.2074951 - 0.0966345j,\n",
    "       -0.75580237 + 0.16375204j, -0.07412908 - 0.36821951j, 0.02474916 - 0.14514768j,\n",
    "       0.40442414 + 0.27500556j]"
   ],
   "metadata": {
    "collapsed": false
   }
  },
  {
   "cell_type": "code",
   "execution_count": 10,
   "outputs": [],
   "source": [
    "U21 = np.array(U21).reshape((4, 4))\n",
    "U22 = np.array(U22).reshape((4, 4))\n",
    "U23 = np.array(U23).reshape((4, 4))"
   ],
   "metadata": {
    "collapsed": false
   }
  },
  {
   "cell_type": "code",
   "execution_count": 86,
   "outputs": [],
   "source": [
    "import pennylane as qml\n",
    "from pennylane import numpy as np\n",
    "\n",
    "\n",
    "def qpe_qnode(U, eigvec, n_estimation_wires):\n",
    "\n",
    "    n_trg_wires = int(np.log2(len(U)))\n",
    "    target_wires = np.arange(0, n_trg_wires).tolist()\n",
    "    estimation_wires = np.arange(n_trg_wires, n_estimation_wires+n_trg_wires).tolist()\n",
    "\n",
    "    dev = qml.device(\"default.qubit\", wires=estimation_wires+target_wires)\n",
    "\n",
    "    @qml.qnode(dev)\n",
    "    def qnode():\n",
    "        qml.MottonenStatePreparation(eigvec, wires=target_wires)\n",
    "        qml.QuantumPhaseEstimation(\n",
    "            U,\n",
    "            target_wires=target_wires,\n",
    "            estimation_wires=estimation_wires\n",
    "        )\n",
    "        return qml.probs(wires=estimation_wires)\n",
    "    return qnode\n",
    "\n",
    "def estimate_phases(U, starting_state):\n",
    "    \"\"\"Use QPE to estimate all eigenvalues of a unitary matrix when\n",
    "    the eigenvectors are unknown.\n",
    "\n",
    "    Your code will be tested on 1-qubit unitaries, and 2-qubit unitaries.\n",
    "\n",
    "    Use the QuantumPhaseEstimation template; and implement as many helper\n",
    "    functions as needed.\n",
    "\n",
    "    Args:\n",
    "        U (array[complex]): A random 1-qubit or 2-qubit unitary matrix.\n",
    "        starting_state (array[complex]): The state that the target register\n",
    "            starts in; it is guaranteed to be in a non-trivial linear combination\n",
    "            of the eigenstates of U.\n",
    "\n",
    "    Returns:\n",
    "        QNode, List[complex]: The QNode, and a list of complex numbers that are\n",
    "        estimates of the phases of U. These numbers should be the complex values\n",
    "        exp[2*pi*i*theta], where theta is the real-valued phase estimate\n",
    "        obtained from the QPE procedure. Do not worry about the order; the test\n",
    "        function will sort the values.\n",
    "    \"\"\"\n",
    "    # Should be length 2 or 4, depending on size of input\n",
    "    eigenvalues = []\n",
    "\n",
    "    # Note: using 12 estimation wires should yield results that pass the test\n",
    "    # cases at the specified tolerance. But if it is too much for your hardware,\n",
    "    # try reducing to 11; the tolerance in the test files is fairly generous.\n",
    "    n_estimation_wires = 12\n",
    "\n",
    "    # YOUR CODE HERE\n",
    "    # Set up a QNode that prepares the target register and performs QPE.\n",
    "    # Then, run it and use the results to determine the eigenvalues.\n",
    "    def run_qpe():\n",
    "        qnode = qpe_qnode(U, starting_state, n_estimation_wires)\n",
    "        return qnode\n",
    "\n",
    "    # eigvals, eigvecs = np.linalg.eig(U)\n",
    "\n",
    "    num_e_vals = U.shape[0]\n",
    "\n",
    "    qnode = run_qpe()\n",
    "\n",
    "    measurements = qnode()\n",
    "\n",
    "    eig_vals = np.argsort(measurements)[-num_e_vals:]\n",
    "    eig_vals = eig_vals/(2**12)\n",
    "    eig_vals = np.exp(1j*2*np.pi*eig_vals)\n",
    "\n",
    "    return qnode, eig_vals"
   ],
   "metadata": {
    "collapsed": false
   }
  },
  {
   "cell_type": "code",
   "execution_count": 90,
   "outputs": [],
   "source": [
    "eigenvector = np.array([ 0.878242  +0.j        , -0.45675296-0.14166061j])\n",
    "node, e_vector = estimate_phases(U11, eigenvector)"
   ],
   "metadata": {
    "collapsed": false
   }
  },
  {
   "cell_type": "code",
   "execution_count": 91,
   "outputs": [
    {
     "data": {
      "text/plain": "tensor([-0.79490713-0.60673113j,  0.99997059+0.00766983j], requires_grad=True)"
     },
     "execution_count": 91,
     "metadata": {},
     "output_type": "execute_result"
    }
   ],
   "source": [
    "e_vector"
   ],
   "metadata": {
    "collapsed": false
   }
  },
  {
   "cell_type": "code",
   "execution_count": 17,
   "outputs": [],
   "source": [
    "result = node()"
   ],
   "metadata": {
    "collapsed": false
   }
  },
  {
   "cell_type": "code",
   "execution_count": 19,
   "outputs": [
    {
     "data": {
      "text/plain": "tensor([1.98510234e-05, 3.11091178e-05, 5.56180221e-05, ...,\n        7.73724139e-06, 1.01060410e-05, 1.37643186e-05], requires_grad=True)"
     },
     "execution_count": 19,
     "metadata": {},
     "output_type": "execute_result"
    }
   ],
   "source": [
    "result"
   ],
   "metadata": {
    "collapsed": false
   }
  },
  {
   "cell_type": "code",
   "execution_count": 58,
   "outputs": [
    {
     "data": {
      "text/plain": "array([ 0.99997102+0.00761294j, -0.79535932-0.60613822j])"
     },
     "execution_count": 58,
     "metadata": {},
     "output_type": "execute_result"
    }
   ],
   "source": [
    "e_vector"
   ],
   "metadata": {
    "collapsed": false
   }
  },
  {
   "cell_type": "code",
   "execution_count": 59,
   "outputs": [
    {
     "data": {
      "text/plain": "array([ 0.99997102+0.00761294j, -0.79535932-0.60613822j])"
     },
     "execution_count": 59,
     "metadata": {},
     "output_type": "execute_result"
    }
   ],
   "source": [
    "e_vector"
   ],
   "metadata": {
    "collapsed": false
   }
  },
  {
   "cell_type": "code",
   "execution_count": 75,
   "outputs": [
    {
     "data": {
      "text/plain": "tensor([2473,    5], requires_grad=True)"
     },
     "execution_count": 75,
     "metadata": {},
     "output_type": "execute_result"
    }
   ],
   "source": [
    "e_vals = np.argsort(result)[-2:]\n",
    "e_vals"
   ],
   "metadata": {
    "collapsed": false
   }
  },
  {
   "cell_type": "code",
   "execution_count": 76,
   "outputs": [
    {
     "data": {
      "text/plain": "tensor([0.27546815, 0.35474221], requires_grad=True)"
     },
     "execution_count": 76,
     "metadata": {},
     "output_type": "execute_result"
    }
   ],
   "source": [
    "result[np.argsort(result)[-2:]]"
   ],
   "metadata": {
    "collapsed": false
   }
  },
  {
   "cell_type": "code",
   "execution_count": 77,
   "outputs": [
    {
     "data": {
      "text/plain": "tensor([0.60375977, 0.0012207 ], requires_grad=True)"
     },
     "execution_count": 77,
     "metadata": {},
     "output_type": "execute_result"
    }
   ],
   "source": [
    "e_vals = e_vals/(2**12)\n",
    "e_vals"
   ],
   "metadata": {
    "collapsed": false
   }
  },
  {
   "cell_type": "code",
   "execution_count": 78,
   "outputs": [
    {
     "data": {
      "text/plain": "tensor([-0.79490713-0.60673113j,  0.99997059+0.00766983j], requires_grad=True)"
     },
     "execution_count": 78,
     "metadata": {},
     "output_type": "execute_result"
    }
   ],
   "source": [
    "np.exp(1j*2*np.pi*e_vals)"
   ],
   "metadata": {
    "collapsed": false
   }
  },
  {
   "cell_type": "code",
   "execution_count": 23,
   "outputs": [
    {
     "data": {
      "text/plain": "2"
     },
     "execution_count": 23,
     "metadata": {},
     "output_type": "execute_result"
    }
   ],
   "source": [
    "U11.shape[0]"
   ],
   "metadata": {
    "collapsed": false
   }
  },
  {
   "cell_type": "code",
   "execution_count": 39,
   "outputs": [
    {
     "data": {
      "text/plain": "tensor([1, 2, 3, 0], requires_grad=True)"
     },
     "execution_count": 39,
     "metadata": {},
     "output_type": "execute_result"
    }
   ],
   "source": [
    "np.argsort([12,0,2,8])"
   ],
   "metadata": {
    "collapsed": false
   }
  },
  {
   "cell_type": "code",
   "execution_count": 54,
   "outputs": [
    {
     "data": {
      "text/plain": "tensor([3, 0], requires_grad=True)"
     },
     "execution_count": 54,
     "metadata": {},
     "output_type": "execute_result"
    }
   ],
   "source": [
    "np.argsort([12,0,2,8])[-2:]"
   ],
   "metadata": {
    "collapsed": false
   }
  },
  {
   "cell_type": "code",
   "execution_count": null,
   "outputs": [],
   "source": [],
   "metadata": {
    "collapsed": false
   }
  }
 ],
 "metadata": {
  "kernelspec": {
   "name": "pennylane",
   "language": "python",
   "display_name": "pennylane"
  },
  "language_info": {
   "codemirror_mode": {
    "name": "ipython",
    "version": 2
   },
   "file_extension": ".py",
   "mimetype": "text/x-python",
   "name": "python",
   "nbconvert_exporter": "python",
   "pygments_lexer": "ipython2",
   "version": "2.7.6"
  }
 },
 "nbformat": 4,
 "nbformat_minor": 0
}
