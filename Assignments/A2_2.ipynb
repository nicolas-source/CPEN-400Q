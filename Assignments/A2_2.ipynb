{
 "cells": [
  {
   "cell_type": "code",
   "execution_count": 1,
   "metadata": {
    "collapsed": true
   },
   "outputs": [],
   "source": [
    "import pennylane as qml\n",
    "from pennylane import numpy as np"
   ]
  },
  {
   "cell_type": "code",
   "execution_count": 119,
   "outputs": [
    {
     "data": {
      "text/plain": "tensor([ 0.00000000e+00+0.00000000e+00j,  0.00000000e+00+0.00000000e+00j,\n         0.00000000e+00+0.00000000e+00j,  0.00000000e+00+0.00000000e+00j,\n         0.00000000e+00+0.00000000e+00j,  7.07106781e-01+0.00000000e+00j,\n        -2.16432722e-17-1.14967359e-17j, -7.07106781e-01-1.38777878e-17j], requires_grad=True)"
     },
     "execution_count": 119,
     "metadata": {},
     "output_type": "execute_result"
    }
   ],
   "source": [
    "T = qml.T.compute_matrix()\n",
    "X = qml.PauliX.compute_matrix()\n",
    "I = np.eye(2)\n",
    "\n",
    "U = np.kron(T, np.kron(X, I))\n",
    "\n",
    "U\n",
    "\n",
    "eigvals, eigvecs = np.linalg.eig(U)\n",
    "\n",
    "target_eigvec = eigvecs[:, 7]\n",
    "target_eigval = eigvals[7]\n",
    "np.angle(target_eigval) / (2 * np.pi)  # 001\n",
    "target_eigvec"
   ],
   "metadata": {
    "collapsed": false
   }
  },
  {
   "cell_type": "code",
   "execution_count": 120,
   "outputs": [
    {
     "data": {
      "text/plain": "-0.375"
     },
     "execution_count": 120,
     "metadata": {},
     "output_type": "execute_result"
    }
   ],
   "source": [
    "np.angle(target_eigval) / (2 * np.pi) # 001"
   ],
   "metadata": {
    "collapsed": false
   }
  },
  {
   "cell_type": "code",
   "execution_count": 121,
   "outputs": [],
   "source": [
    "U11 = [0.58939515 - 0.13274642j, 0.64381996 + 0.46956108j, 0.79653634 + 0.02283875j, -0.38478345 - 0.46577886j]\n",
    "U12 = [-0.25432824 + 0.63921011j, -0.62853537 - 0.3628648j, 0.56165482 + 0.45964273j, 0.50800259 - 0.46390278j]\n",
    "U13 = [0.18203758 + 0.17691194j, -0.73088329 - 0.63354092j, 0.96399606 - 0.07922173j, 0.25139533 - 0.03515543j]"
   ],
   "metadata": {
    "collapsed": false
   }
  },
  {
   "cell_type": "code",
   "execution_count": 122,
   "outputs": [],
   "source": [
    "U11 = np.array(U11).reshape((2, 2))\n",
    "U12 = np.array(U12).reshape((2, 2))\n",
    "U13 = np.array(U13).reshape((2, 2))"
   ],
   "metadata": {
    "collapsed": false
   }
  },
  {
   "cell_type": "code",
   "execution_count": 123,
   "outputs": [],
   "source": [
    "U21 = [-0.38244183 - 0.12961519j, -0.58523477 - 0.07874502j, 0.30743697 - 0.1900339j,\n",
    "       0.35244239 - 0.48310622j, 0.0520515 + 0.11832368j, -0.31650125 - 0.29741055j,\n",
    "       -0.43985789 + 0.65802989j, -0.22420903 - 0.3433891j, 0.80468183 - 0.37828889j,\n",
    "       -0.17001017 - 0.01590874j, -0.00860685 - 0.28232261j, -0.10595894 - 0.29869833j,\n",
    "       0.17166715 + 0.01197327j, -0.3397648 + 0.56398292j, -0.37158034 + 0.15823791j,\n",
    "       0.54409558 + 0.27878125j]\n",
    "U22 = [0.39021299 + 0.19550829j, 0.51227196 + 0.31891725j, 0.29405574 - 0.23122613j,\n",
    "       0.05455699 + 0.54997163j, -0.01534597 + 0.4880493j, 0.32273224 - 0.0277232j,\n",
    "       -0.78572909 - 0.00924454j, -0.19764638 - 0.01131186j, 0.61343005 + 0.33688749j,\n",
    "       -0.55122531 + 0.10760665j, -0.08187687 - 0.30746768j, 0.22104702 - 0.21137614j,\n",
    "       0.1761403 + 0.22420457j, 0.45391289 - 0.09736075j, 0.37273568 + 0.04937567j,\n",
    "       -0.14723682 - 0.73494378j]\n",
    "U23 = [0.09993947 + 0.22310773j, -0.52519719 - 0.19872825j, 0.49386529 + 0.09293278j,\n",
    "       -0.45451301 + 0.40717139j, 0.15789114 + 0.17890024j, 0.01504621 - 0.04207803j,\n",
    "       -0.6909489 + 0.35722228j, -0.03586294 + 0.5785878j, 0.40172155 - 0.35194883j,\n",
    "       -0.31727546 - 0.66402832j, -0.20322529 - 0.28188923j, 0.2074951 - 0.0966345j,\n",
    "       -0.75580237 + 0.16375204j, -0.07412908 - 0.36821951j, 0.02474916 - 0.14514768j,\n",
    "       0.40442414 + 0.27500556j]"
   ],
   "metadata": {
    "collapsed": false
   }
  },
  {
   "cell_type": "code",
   "execution_count": 124,
   "outputs": [],
   "source": [
    "U21 = np.array(U21).reshape((4, 4))\n",
    "U22 = np.array(U22).reshape((4, 4))\n",
    "U23 = np.array(U23).reshape((4, 4))"
   ],
   "metadata": {
    "collapsed": false
   }
  },
  {
   "cell_type": "code",
   "execution_count": 125,
   "outputs": [],
   "source": [
    "eigvals, eigvecs = np.linalg.eig(U11)"
   ],
   "metadata": {
    "collapsed": false
   }
  },
  {
   "cell_type": "code",
   "execution_count": 126,
   "outputs": [
    {
     "data": {
      "text/plain": "(0.9999710236265978+0.007612942034758319j)"
     },
     "execution_count": 126,
     "metadata": {},
     "output_type": "execute_result"
    }
   ],
   "source": [
    "eigvals[0]"
   ],
   "metadata": {
    "collapsed": false
   }
  },
  {
   "cell_type": "code",
   "execution_count": 127,
   "outputs": [
    {
     "data": {
      "text/plain": "0.001211649057380608"
     },
     "execution_count": 127,
     "metadata": {},
     "output_type": "execute_result"
    }
   ],
   "source": [
    "np.angle(eigvals[0]) / (2 * np.pi)"
   ],
   "metadata": {
    "collapsed": false
   }
  },
  {
   "cell_type": "code",
   "execution_count": 128,
   "outputs": [
    {
     "data": {
      "text/plain": "tensor([ 0.878242  +0.j        , -0.45675296-0.14166061j], requires_grad=True)"
     },
     "execution_count": 128,
     "metadata": {},
     "output_type": "execute_result"
    }
   ],
   "source": [
    "eigvecs[0]"
   ],
   "metadata": {
    "collapsed": false
   }
  },
  {
   "cell_type": "code",
   "execution_count": 128,
   "outputs": [],
   "source": [],
   "metadata": {
    "collapsed": false
   }
  },
  {
   "cell_type": "code",
   "execution_count": 132,
   "outputs": [
    {
     "data": {
      "text/plain": "([0.5, 0.75], 0.625)"
     },
     "execution_count": 132,
     "metadata": {},
     "output_type": "execute_result"
    }
   ],
   "source": [
    "import pennylane as qml\n",
    "from pennylane import numpy as np\n",
    "\n",
    "\n",
    "def construct_estimation_qnode(U, eigvec, n_estimation_wires):\n",
    "    \"\"\"Construct and return a QNode that will perform QPE with a given number\n",
    "    of estimation wires.\n",
    "\n",
    "    Use the QuantumPhaseEstimation template.\n",
    "\n",
    "    Args:\n",
    "        U (array[complex]): A random 1-qubit or 2-qubit unitary matrix.\n",
    "        eigvec (array[complex]): An eigenvector whose eigenvalue we are trying to find.\n",
    "        n_estimation_wires (int): The number of estimation wires to use.\n",
    "\n",
    "    Returns:\n",
    "        QNode: A QNode that performs QPE for U and the given eigenvector\n",
    "        and uses the provided number of estimation wires.\n",
    "    \"\"\"\n",
    "\n",
    "    n_trg_wires = int(np.log2(len(U)))\n",
    "\n",
    "    target_wires = np.arange(0, n_trg_wires).tolist()\n",
    "    estimation_wires = np.arange(n_trg_wires, n_estimation_wires + n_trg_wires).tolist()\n",
    "\n",
    "    dev = qml.device(\"default.qubit\", wires=estimation_wires + target_wires)\n",
    "\n",
    "    @qml.qnode(dev)\n",
    "    def qnode():\n",
    "        \"\"\"Your QNode should not take any parameters as input.\"\"\"\n",
    "        qml.MottonenStatePreparation(eigvec, wires=target_wires)\n",
    "        qml.QuantumPhaseEstimation(\n",
    "            U,\n",
    "            target_wires=target_wires,\n",
    "            estimation_wires=estimation_wires\n",
    "        )\n",
    "        # return qml.sample(wires=n_estimation_wires)\n",
    "        return qml.probs(wires=estimation_wires)\n",
    "\n",
    "    return qnode\n",
    "\n",
    "\n",
    "# From L11 Demo\n",
    "def fractional_binary_to_float(sample):\n",
    "    \"\"\"Convert an n-bit sample [k1, k2, ..., kn] to a floating point\n",
    "    value using fractional binary representation,\n",
    "\n",
    "        k = (k1 / 2) + (k2 / 2 ** 2) + ... + (kn / 2 ** n)\n",
    "\n",
    "    Args:\n",
    "        sample (list[int] or array[int]): A list or array of bits, e.g.,\n",
    "            the sample output of quantum circuit.\n",
    "\n",
    "    Returns:\n",
    "        float: The floating point value corresponding computed from the\n",
    "        fractional binary representation.\n",
    "    \"\"\"\n",
    "    return np.sum(\n",
    "        [int(sample[bit]) / 2 ** (bit + 1) for bit in range(len(sample))]\n",
    "    )\n",
    "\n",
    "\n",
    "def dec_to_bin(x):\n",
    "    if x == 0:\n",
    "        return [0]\n",
    "    bit = []\n",
    "    while x:\n",
    "        bit.append(x % 2)\n",
    "        x >>= 1\n",
    "    return bit[::-1]\n",
    "\n",
    "\n",
    "def compute_estimation_window(U, eigvec):\n",
    "    \"\"\"Use QPE to compute a phase window that bounds the value of a phase\n",
    "    that cannot be expressed exactly using t bits.\n",
    "\n",
    "    Suppose the true value of the phase is exp(2 * np.pi * 1j * theta).  The\n",
    "    phase window should be an array of two real numbers [theta_lower,\n",
    "    theta_upper], such that the interval between them contains the true value of\n",
    "    theta. The width of the window should be no larger than 1e-3; you will need\n",
    "    to determine the number of estimation wires required to obtain a window to\n",
    "    this precision.\n",
    "\n",
    "    Your code will be tested on 1-qubit unitaries, and 2-qubit unitaries.\n",
    "\n",
    "    Args:\n",
    "        U (array[complex]): A random 1-qubit or 2-qubit unitary matrix.\n",
    "        eigvec (array[complex]): An eigenvector whose eigenvalue we are trying to find.\n",
    "\n",
    "    Returns:\n",
    "        array[float]: An array representing the lower and upper bound of the\n",
    "        value of the phase we are estimating (the absolute difference between\n",
    "        the two values should be less than 1e-3).\n",
    "    \"\"\"\n",
    "\n",
    "    # Need 10 wires for window width < 0.001 where 1/(2^10) = 0.000976\n",
    "\n",
    "    phase_window = [0.0, 1.0]\n",
    "\n",
    "    n_est_wires = 3\n",
    "\n",
    "    target = construct_estimation_qnode(U, eigvec, n_est_wires)()\n",
    "\n",
    "    # eigen_value = (1 / (2 ** (np.argmax(target) + 1)))\n",
    "\n",
    "    theta = np.argmax(target) / (2 ** n_est_wires)\n",
    "\n",
    "    # return [eigen_value - (1 / (2 ** n_est_wires)), eigen_value + (1 / (2 ** n_est_wires))], eigen_value\n",
    "    return [theta - (1 / (2 ** n_est_wires)), theta + (1 / (2 ** n_est_wires))], theta\n",
    "\n",
    "\n",
    "# compute_estimation_window(U11, eigvecs[0])\n",
    "compute_estimation_window(U, target_eigvec)"
   ],
   "metadata": {
    "collapsed": false
   }
  },
  {
   "cell_type": "code",
   "execution_count": 133,
   "outputs": [
    {
     "data": {
      "text/plain": "tensor([5.84611416e-33, 5.91857596e-32, 5.19858605e-33, 2.36034631e-32,\n        2.11816813e-31, 1.00000000e+00, 6.53859303e-31, 2.35389673e-31], requires_grad=True)"
     },
     "execution_count": 133,
     "metadata": {},
     "output_type": "execute_result"
    }
   ],
   "source": [
    "construct_estimation_qnode(U, target_eigvec, 3)()"
   ],
   "metadata": {
    "collapsed": false
   }
  },
  {
   "cell_type": "code",
   "execution_count": 131,
   "outputs": [
    {
     "data": {
      "text/plain": "tensor([5.84611416e-33, 5.91857596e-32, 5.19858605e-33, 2.36034631e-32,\n        2.11816813e-31, 1.00000000e+00, 6.53859303e-31, 2.35389673e-31], requires_grad=True)"
     },
     "execution_count": 131,
     "metadata": {},
     "output_type": "execute_result"
    }
   ],
   "source": [
    "construct_estimation_qnode(U, target_eigvec, 3)()"
   ],
   "metadata": {
    "collapsed": false
   }
  },
  {
   "cell_type": "code",
   "execution_count": 33,
   "outputs": [
    {
     "data": {
      "text/plain": "0.125"
     },
     "execution_count": 33,
     "metadata": {},
     "output_type": "execute_result"
    }
   ],
   "source": [
    "1 / (2 ** 3)"
   ],
   "metadata": {
    "collapsed": false
   }
  },
  {
   "cell_type": "code",
   "execution_count": null,
   "outputs": [],
   "source": [],
   "metadata": {
    "collapsed": false
   }
  }
 ],
 "metadata": {
  "kernelspec": {
   "display_name": "Python 3",
   "language": "python",
   "name": "python3"
  },
  "language_info": {
   "codemirror_mode": {
    "name": "ipython",
    "version": 2
   },
   "file_extension": ".py",
   "mimetype": "text/x-python",
   "name": "python",
   "nbconvert_exporter": "python",
   "pygments_lexer": "ipython2",
   "version": "2.7.6"
  }
 },
 "nbformat": 4,
 "nbformat_minor": 0
}
