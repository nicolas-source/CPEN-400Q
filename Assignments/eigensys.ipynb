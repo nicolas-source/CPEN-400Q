{
 "cells": [
  {
   "cell_type": "code",
   "execution_count": 40,
   "metadata": {
    "collapsed": true
   },
   "outputs": [],
   "source": [
    "import pennylane as qml\n",
    "from pennylane import numpy as np\n",
    "# np.set_printoptions(formatter={'float': lambda x: \"{0:0.2f}\".format(x)})\n",
    "# np.set_printoptions(formatter={'complex_kind': '{:.2f}'.format})\n",
    "np.set_printoptions(precision=2)"
   ]
  },
  {
   "cell_type": "code",
   "execution_count": 52,
   "outputs": [
    {
     "name": "stdout",
     "output_type": "stream",
     "text": [
      "[[0 1]\n",
      " [1 0]]\n",
      "[[ 0.+0.j -0.-1.j]\n",
      " [ 0.+1.j  0.+0.j]]\n",
      "[[ 1  0]\n",
      " [ 0 -1]]\n",
      "[[1 0]\n",
      " [0 1]]\n"
     ]
    }
   ],
   "source": [
    "X = np.array([[0, 1], [1, 0]])\n",
    "Z = np.array([[1, 0], [0, -1]])\n",
    "Y = np.array([[0, -1j], [1j, 0]])\n",
    "I = np.array([[1,0],[0,1]])\n",
    "\n",
    "print(X)\n",
    "print(Y)\n",
    "print(Z)\n",
    "print(I)"
   ],
   "metadata": {
    "collapsed": false
   }
  },
  {
   "cell_type": "code",
   "execution_count": 53,
   "outputs": [
    {
     "name": "stdout",
     "output_type": "stream",
     "text": [
      "(array([ 1., -1.]), tensor([[ 0.71, -0.71],\n",
      "        [ 0.71,  0.71]], requires_grad=True))\n",
      "(array([ 1.+0.j, -1.+0.j]), tensor([[-0.  -0.71j,  0.71+0.j  ],\n",
      "        [ 0.71+0.j  ,  0.  -0.71j]], requires_grad=True))\n",
      "(array([ 1., -1.]), tensor([[1., 0.],\n",
      "        [0., 1.]], requires_grad=True))\n",
      "(array([1., 1.]), tensor([[1., 0.],\n",
      "        [0., 1.]], requires_grad=True))\n"
     ]
    }
   ],
   "source": [
    "print(np.linalg.eig(X))\n",
    "print(np.linalg.eig(Y))\n",
    "print(np.linalg.eig(Z))\n",
    "print(np.linalg.eig(I))"
   ],
   "metadata": {
    "collapsed": false
   }
  },
  {
   "cell_type": "code",
   "execution_count": 54,
   "outputs": [
    {
     "name": "stdout",
     "output_type": "stream",
     "text": [
      "[[ 0.71  0.71  0.    0.  ]\n",
      " [ 0.    0.   -0.71 -0.71]\n",
      " [ 0.71 -0.71  0.    0.  ]\n",
      " [ 0.    0.   -0.71  0.71]]\n",
      "[[ 0.71 -0.71  0.    0.  ]\n",
      " [ 0.71  0.71  0.    0.  ]\n",
      " [ 0.    0.    0.71 -0.71]\n",
      " [ 0.    0.    0.71  0.71]]\n",
      "[[-0.  -0.71j  0.71+0.j    0.  +0.j    0.  +0.j  ]\n",
      " [ 0.  +0.j    0.  +0.j    0.  -0.71j  0.71+0.j  ]\n",
      " [ 0.71+0.j    0.  -0.71j  0.  +0.j    0.  +0.j  ]\n",
      " [ 0.  +0.j    0.  +0.j    0.71+0.j    0.  -0.71j]]\n",
      "[[-0.  -0.71j  0.71+0.j    0.  +0.j    0.  +0.j  ]\n",
      " [ 0.71+0.j    0.  -0.71j  0.  +0.j    0.  +0.j  ]\n",
      " [ 0.  +0.j    0.  +0.j   -0.  -0.71j  0.71+0.j  ]\n",
      " [ 0.  +0.j    0.  +0.j    0.71+0.j    0.  -0.71j]]\n",
      "[[1. 0. 0. 0.]\n",
      " [0. 1. 0. 0.]\n",
      " [0. 0. 1. 0.]\n",
      " [0. 0. 0. 1.]]\n",
      "[[1. 0. 0. 0.]\n",
      " [0. 1. 0. 0.]\n",
      " [0. 0. 1. 0.]\n",
      " [0. 0. 0. 1.]]\n"
     ]
    }
   ],
   "source": [
    "print(np.linalg.eig(np.kron(X, I))[1])\n",
    "print(np.linalg.eig(np.kron(I, X))[1])\n",
    "print(np.linalg.eig(np.kron(Y, I))[1])\n",
    "print(np.linalg.eig(np.kron(I, Y))[1])\n",
    "print(np.linalg.eig(np.kron(Z, I))[1])\n",
    "print(np.linalg.eig(np.kron(I, Z))[1])"
   ],
   "metadata": {
    "collapsed": false
   }
  },
  {
   "cell_type": "code",
   "execution_count": 55,
   "outputs": [
    {
     "name": "stdout",
     "output_type": "stream",
     "text": [
      "[[ 0.71  0.71  0.    0.  ]\n",
      " [ 0.    0.   -0.71  0.71]\n",
      " [ 0.71 -0.71  0.    0.  ]\n",
      " [ 0.    0.    0.71  0.71]]\n",
      "[[ 0.71 -0.71  0.    0.  ]\n",
      " [ 0.71  0.71  0.    0.  ]\n",
      " [ 0.    0.    0.71  0.71]\n",
      " [ 0.    0.   -0.71  0.71]]\n",
      "[[-0.  -0.71j  0.71+0.j    0.  +0.j    0.  +0.j  ]\n",
      " [ 0.  +0.j    0.  +0.j    0.71+0.j    0.71+0.j  ]\n",
      " [ 0.  +0.j    0.  +0.j   -0.  -0.71j  0.  +0.71j]\n",
      " [ 0.71+0.j    0.  -0.71j  0.  +0.j    0.  +0.j  ]]\n",
      "[[-0.  -0.71j  0.71+0.j    0.  +0.j    0.  +0.j  ]\n",
      " [ 0.  +0.j    0.  +0.j    0.71+0.j    0.71+0.j  ]\n",
      " [ 0.  +0.j    0.  +0.j    0.  +0.71j  0.  -0.71j]\n",
      " [ 0.71+0.j    0.  -0.71j  0.  +0.j    0.  +0.j  ]]\n",
      "[[-0.  -0.71j  0.71+0.j    0.  +0.j    0.  +0.j  ]\n",
      " [ 0.71+0.j    0.  -0.71j  0.  +0.j    0.  +0.j  ]\n",
      " [ 0.  +0.j    0.  +0.j    0.  +0.71j  0.71+0.j  ]\n",
      " [ 0.  +0.j    0.  +0.j    0.71+0.j   -0.  +0.71j]]\n",
      "[[-0.  -0.71j  0.71+0.j    0.  +0.j    0.  +0.j  ]\n",
      " [ 0.  +0.j    0.  +0.j   -0.  +0.71j  0.71+0.j  ]\n",
      " [ 0.71+0.j    0.  -0.71j  0.  +0.j    0.  +0.j  ]\n",
      " [ 0.  +0.j    0.  +0.j    0.71+0.j    0.  +0.71j]]\n"
     ]
    }
   ],
   "source": [
    "print(np.linalg.eig(np.kron(X, Z))[1])\n",
    "print(np.linalg.eig(np.kron(Z, X))[1])\n",
    "print(np.linalg.eig(np.kron(X, Y))[1])\n",
    "print(np.linalg.eig(np.kron(Y, X))[1])\n",
    "print(np.linalg.eig(np.kron(Z, Y))[1])\n",
    "print(np.linalg.eig(np.kron(Y, Z))[1])"
   ],
   "metadata": {
    "collapsed": false
   }
  },
  {
   "cell_type": "code",
   "execution_count": 56,
   "outputs": [
    {
     "name": "stdout",
     "output_type": "stream",
     "text": [
      "[ 1. -1.  1. -1.]\n",
      "[ 1. -1.  1. -1.]\n",
      "[ 1.+0.j -1.+0.j  1.+0.j -1.+0.j]\n",
      "[ 1.+0.j -1.+0.j  1.+0.j -1.+0.j]\n",
      "[ 1.+0.j -1.+0.j  1.+0.j -1.+0.j]\n",
      "[ 1.+0.j -1.+0.j  1.+0.j -1.+0.j]\n"
     ]
    }
   ],
   "source": [
    "print(np.linalg.eig(np.kron(X, Z))[0])\n",
    "print(np.linalg.eig(np.kron(Z, X))[0])\n",
    "print(np.linalg.eig(np.kron(X, Y))[0])\n",
    "print(np.linalg.eig(np.kron(Y, X))[0])\n",
    "print(np.linalg.eig(np.kron(Z, Y))[0])\n",
    "print(np.linalg.eig(np.kron(Y, Z))[0])"
   ],
   "metadata": {
    "collapsed": false
   }
  },
  {
   "cell_type": "code",
   "execution_count": 64,
   "outputs": [],
   "source": [
    "XI = np.kron(X, I)\n",
    "IX = np.kron(I, X)"
   ],
   "metadata": {
    "collapsed": false
   }
  },
  {
   "cell_type": "code",
   "execution_count": 65,
   "outputs": [],
   "source": [
    "ZI = np.kron(Z, I)\n",
    "IZ = np.kron(I, Z)\n"
   ],
   "metadata": {
    "collapsed": false
   }
  },
  {
   "cell_type": "code",
   "execution_count": 66,
   "outputs": [
    {
     "data": {
      "text/plain": "tensor([[ 0,  0, -2,  0],\n        [ 0,  0,  0, -2],\n        [ 2,  0,  0,  0],\n        [ 0,  2,  0,  0]], requires_grad=True)"
     },
     "execution_count": 66,
     "metadata": {},
     "output_type": "execute_result"
    }
   ],
   "source": [
    "XI @ ZI - ZI @ XI"
   ],
   "metadata": {
    "collapsed": false
   }
  },
  {
   "cell_type": "code",
   "execution_count": 67,
   "outputs": [
    {
     "data": {
      "text/plain": "tensor([[0, 0, 0, 0],\n        [0, 0, 0, 0],\n        [0, 0, 0, 0],\n        [0, 0, 0, 0]], requires_grad=True)"
     },
     "execution_count": 67,
     "metadata": {},
     "output_type": "execute_result"
    }
   ],
   "source": [
    "XI @ IZ - IZ @ XI"
   ],
   "metadata": {
    "collapsed": false
   }
  },
  {
   "cell_type": "code",
   "execution_count": null,
   "outputs": [],
   "source": [],
   "metadata": {
    "collapsed": false
   }
  }
 ],
 "metadata": {
  "kernelspec": {
   "name": "pennylane",
   "language": "python",
   "display_name": "PennyLane"
  },
  "language_info": {
   "codemirror_mode": {
    "name": "ipython",
    "version": 2
   },
   "file_extension": ".py",
   "mimetype": "text/x-python",
   "name": "python",
   "nbconvert_exporter": "python",
   "pygments_lexer": "ipython2",
   "version": "2.7.6"
  }
 },
 "nbformat": 4,
 "nbformat_minor": 0
}
