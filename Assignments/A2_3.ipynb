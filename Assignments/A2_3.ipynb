{
 "cells": [
  {
   "cell_type": "code",
   "execution_count": null,
   "outputs": [],
   "source": [
    "import pennylane as qml\n",
    "from pennylane import numpy as np"
   ],
   "metadata": {
    "collapsed": false,
    "pycharm": {
     "is_executing": true
    }
   }
  },
  {
   "cell_type": "code",
   "execution_count": null,
   "outputs": [],
   "source": [
    "import pennylane as qml\n",
    "from pennylane import numpy as np\n",
    "\n",
    "\n",
    "def estimate_phases(U, starting_state):\n",
    "    \"\"\"Use QPE to estimate all eigenvalues of a unitary matrix when\n",
    "    the eigenvectors are unknown.\n",
    "\n",
    "    Your code will be tested on 1-qubit unitaries, and 2-qubit unitaries.\n",
    "\n",
    "    Use the QuantumPhaseEstimation template; and implement as many helper\n",
    "    functions as needed.\n",
    "\n",
    "    Args:\n",
    "        U (array[complex]): A random 1-qubit or 2-qubit unitary matrix.\n",
    "        starting_state (array[complex]): The state that the target register\n",
    "            starts in; it is guaranteed to be in a non-trivial linear combination\n",
    "            of the eigenstates of U.\n",
    "\n",
    "    Returns:\n",
    "        QNode, List[complex]: The QNode, and a list of complex numbers that are\n",
    "        estimates of the phases of U. These numbers should be the complex values\n",
    "        exp[2*pi*i*theta], where theta is the real-valued phase estimate\n",
    "        obtained from the QPE procedure. Do not worry about the order; the test\n",
    "        function will sort the values.\n",
    "    \"\"\"\n",
    "    # Should be length 2 or 4, depending on size of input\n",
    "    eigenvalues = []\n",
    "\n",
    "    # Note: using 12 estimation wires should yield results that pass the test\n",
    "    # cases at the specified tolerance. But if it is too much for your hardware,\n",
    "    # try reducing to 11; the tolerance in the test files is fairly generous.\n",
    "    n_estimation_wires = 12\n",
    "\n",
    "    n_target_wires = 0\n",
    "\n",
    "\n",
    "    # YOUR CODE HERE\n",
    "    # Set up a QNode that prepares the target register and performs QPE.\n",
    "    # Then, run it and use the results to determine the eigenvalues.\n",
    "    def run_qpe():\n",
    "\n",
    "        return\n",
    "\n",
    "    return run_qpe, eigenvalues"
   ],
   "metadata": {
    "collapsed": false
   }
  },
  {
   "cell_type": "code",
   "execution_count": null,
   "outputs": [],
   "source": [],
   "metadata": {
    "collapsed": false
   }
  }
 ],
 "metadata": {
  "kernelspec": {
   "display_name": "Python 3",
   "language": "python",
   "name": "python3"
  },
  "language_info": {
   "codemirror_mode": {
    "name": "ipython",
    "version": 2
   },
   "file_extension": ".py",
   "mimetype": "text/x-python",
   "name": "python",
   "nbconvert_exporter": "python",
   "pygments_lexer": "ipython2",
   "version": "2.7.6"
  }
 },
 "nbformat": 4,
 "nbformat_minor": 0
}
