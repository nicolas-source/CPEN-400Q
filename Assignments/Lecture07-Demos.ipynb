{
 "cells": [
  {
   "cell_type": "markdown",
   "id": "1ecc2235-07c3-4098-8bb1-cd170f86e5c5",
   "metadata": {},
   "source": [
    "# Demos: Lecture 07"
   ]
  },
  {
   "cell_type": "code",
   "execution_count": null,
   "outputs": [],
   "source": [],
   "metadata": {
    "collapsed": false
   }
  },
  {
   "cell_type": "markdown",
   "id": "bf943dfd-0559-45ce-93c8-2e73db83f52a",
   "metadata": {},
   "source": [
    "## Demo 1: Expectation values"
   ]
  },
  {
   "cell_type": "code",
   "execution_count": 1,
   "id": "3708a41d-3006-4e4c-b3f1-bb5d745c26e0",
   "metadata": {},
   "outputs": [],
   "source": [
    "import pennylane as qml\n",
    "from pennylane import numpy as np"
   ]
  },
  {
   "cell_type": "code",
   "execution_count": 95,
   "outputs": [],
   "source": [
    "phi = np.array([1/(np.sqrt(2)), -1/(np.sqrt(2))])"
   ],
   "metadata": {
    "collapsed": false
   }
  },
  {
   "cell_type": "code",
   "execution_count": 96,
   "outputs": [],
   "source": [
    "B = np.array([[4, 3j], [-3j, -2]])"
   ],
   "metadata": {
    "collapsed": false
   }
  },
  {
   "cell_type": "code",
   "execution_count": 98,
   "outputs": [
    {
     "data": {
      "text/plain": "(0.9999999999999998+0j)"
     },
     "execution_count": 98,
     "metadata": {},
     "output_type": "execute_result"
    }
   ],
   "source": [
    "phi @ B @ phi"
   ],
   "metadata": {
    "collapsed": false
   }
  },
  {
   "cell_type": "code",
   "execution_count": 75,
   "id": "c01e5bc5-d30a-45d9-a171-7279221431ff",
   "metadata": {},
   "outputs": [],
   "source": [
    "dev = qml.device('default.qubit', wires=1, shots=10)\n",
    "\n",
    "@qml.qnode(dev)\n",
    "def sample():\n",
    "    qml.PauliX(wires=0)\n",
    "    qml.PauliZ(wires=0)\n",
    "    return qml.sample(qml.PauliZ(wires=0))"
   ]
  },
  {
   "cell_type": "code",
   "execution_count": 76,
   "outputs": [
    {
     "data": {
      "text/plain": "tensor([-1, -1, -1, -1, -1, -1, -1, -1, -1, -1], requires_grad=True)"
     },
     "execution_count": 76,
     "metadata": {},
     "output_type": "execute_result"
    }
   ],
   "source": [
    "sample()"
   ],
   "metadata": {
    "collapsed": false
   }
  },
  {
   "cell_type": "code",
   "execution_count": 45,
   "id": "8cbd4431-835f-4298-9cf5-7703990ad15a",
   "metadata": {},
   "outputs": [
    {
     "data": {
      "text/plain": "tensor(0.7, requires_grad=True)"
     },
     "execution_count": 45,
     "metadata": {},
     "output_type": "execute_result"
    }
   ],
   "source": [
    "np.mean(sample())"
   ]
  },
  {
   "cell_type": "code",
   "execution_count": 117,
   "id": "afa49a2e-1a55-496b-bf3b-59258cbecdde",
   "metadata": {},
   "outputs": [],
   "source": [
    "dev = qml.device(\"default.qubit\", wires=1)\n",
    "\n",
    "@qml.qnode(dev)\n",
    "def expectation():\n",
    "    qml.PauliX(wires=0)\n",
    "    qml.Hadamard(wires=0)\n",
    "    # qml.PauliX(wires=0)\n",
    "    # qml.PauliZ(wires=0)\n",
    "    # qml.PauliX(wires=0)\n",
    "    return qml.expval(qml.PauliX(wires=0))"
   ]
  },
  {
   "cell_type": "code",
   "execution_count": 118,
   "id": "9152fca8-334c-405f-9d88-7833162b9dba",
   "metadata": {},
   "outputs": [
    {
     "data": {
      "text/plain": "tensor(-1., requires_grad=True)"
     },
     "execution_count": 118,
     "metadata": {},
     "output_type": "execute_result"
    }
   ],
   "source": [
    "expectation()"
   ]
  },
  {
   "cell_type": "code",
   "execution_count": 86,
   "outputs": [
    {
     "data": {
      "text/plain": "tensor([0.5, 0.5], requires_grad=True)"
     },
     "execution_count": 86,
     "metadata": {},
     "output_type": "execute_result"
    }
   ],
   "source": [
    "dev = qml.device(\"default.qubit\", wires=1)\n",
    "\n",
    "@qml.qnode(dev)\n",
    "def state():\n",
    "    qml.Hadamard(wires=0)\n",
    "    return qml.probs()\n",
    "\n",
    "state()"
   ],
   "metadata": {
    "collapsed": false
   }
  },
  {
   "cell_type": "code",
   "execution_count": 99,
   "id": "a2346f9b-dd7b-44dd-b3f6-c80c476898db",
   "metadata": {},
   "outputs": [],
   "source": [
    "dev = qml.device(\"default.qubit\", wires=2)\n",
    "\n",
    "@qml.qnode(dev)\n",
    "def circuit(x):\n",
    "    qml.Hadamard(wires=0)\n",
    "    qml.CRX(x, wires=[0, 1])\n",
    "    return qml.expval(qml.PauliZ(0) @ qml.PauliZ(1) )"
   ]
  },
  {
   "cell_type": "code",
   "execution_count": 100,
   "id": "78759801-87d5-438b-abbc-e3c1460a2f65",
   "metadata": {},
   "outputs": [
    {
     "data": {
      "text/plain": "tensor(0.00996671, requires_grad=True)"
     },
     "execution_count": 100,
     "metadata": {},
     "output_type": "execute_result"
    }
   ],
   "source": [
    "circuit(0.2)"
   ]
  },
  {
   "cell_type": "code",
   "execution_count": 126,
   "outputs": [
    {
     "data": {
      "text/plain": "tensor(1., requires_grad=True)"
     },
     "execution_count": 126,
     "metadata": {},
     "output_type": "execute_result"
    }
   ],
   "source": [
    "dev = qml.device(\"default.qubit\", wires=2, shots=10000)\n",
    "\n",
    "@qml.qnode(dev)\n",
    "def circuit():\n",
    "    return qml.expval(qml.PauliZ(0) )\n",
    "    qml.Hadamard\n",
    "np.mean(circuit())\n"
   ],
   "metadata": {
    "collapsed": false
   }
  },
  {
   "cell_type": "code",
   "execution_count": 125,
   "id": "a1e3a4d2-7cac-4ea1-b037-4f8bb86a5fef",
   "metadata": {},
   "outputs": [],
   "source": [
    "@qml.qnode(dev)\n",
    "def circuit(x):\n",
    "    qml.Hadamard(wires=0)\n",
    "    qml.CRX(x, wires=[0, 1])\n",
    "    return qml.expval(qml.PauliZ(0)), qml.expval(qml.PauliZ(1))"
   ]
  },
  {
   "cell_type": "code",
   "execution_count": 36,
   "id": "8dd990a0-30f9-4890-a1ab-9b082c2ffda9",
   "metadata": {},
   "outputs": [
    {
     "data": {
      "text/plain": "tensor([5.55111512e-17, 9.90033289e-01], requires_grad=True)"
     },
     "execution_count": 36,
     "metadata": {},
     "output_type": "execute_result"
    }
   ],
   "source": [
    "circuit(0.2)"
   ]
  },
  {
   "cell_type": "markdown",
   "id": "34443a94-f07f-4753-82d0-da1141c44c63",
   "metadata": {},
   "source": [
    "## Demo 2: gradient of a quantum circuit"
   ]
  },
  {
   "cell_type": "markdown",
   "id": "0cc23870-1160-4015-a479-c24122426349",
   "metadata": {},
   "source": [
    "<img src=\"fig/pauliz_opt.png\" width=\"400px\">"
   ]
  },
  {
   "cell_type": "code",
   "execution_count": 10,
   "id": "4cebd3ce-edeb-4fbd-84fe-91cfac99c467",
   "metadata": {},
   "outputs": [],
   "source": [
    "dev = qml.device(\"default.qubit\", wires=1)\n",
    "\n",
    "@qml.qnode(dev)\n",
    "def pqc(theta):\n",
    "    qml.RY(theta, wires=0)\n",
    "    return qml.expval(qml.PauliZ(0))"
   ]
  },
  {
   "cell_type": "code",
   "execution_count": 11,
   "id": "c64ee679-bd0d-4b83-860a-459ce47f6597",
   "metadata": {},
   "outputs": [],
   "source": [
    "import matplotlib.pyplot as plt"
   ]
  },
  {
   "cell_type": "code",
   "execution_count": 12,
   "id": "256e0666-4ebd-4138-a709-5f2467abd046",
   "metadata": {},
   "outputs": [],
   "source": [
    "theta_vals = np.linspace(-2*np.pi, 2*np.pi, 10000)"
   ]
  },
  {
   "cell_type": "code",
   "execution_count": 13,
   "id": "76c47bae-f177-47ce-9bb5-c1f9cdf2ff58",
   "metadata": {},
   "outputs": [
    {
     "data": {
      "text/plain": "[<matplotlib.lines.Line2D at 0x7fbcc89b70a0>]"
     },
     "execution_count": 13,
     "metadata": {},
     "output_type": "execute_result"
    },
    {
     "data": {
      "text/plain": "<Figure size 640x480 with 1 Axes>",
      "image/png": "[encoded data removed]"
     },
     "metadata": {},
     "output_type": "display_data"
    }
   ],
   "source": [
    "plt.plot(theta_vals, [pqc(t) for t in theta_vals])"
   ]
  },
  {
   "cell_type": "code",
   "execution_count": 14,
   "id": "dfef45ed-fc62-4fc6-ae81-9df17211f778",
   "metadata": {},
   "outputs": [],
   "source": [
    "gradient_function = qml.grad(pqc)"
   ]
  },
  {
   "cell_type": "code",
   "execution_count": 15,
   "id": "1aef621a-46e4-4048-8fc8-a1254b2a1577",
   "metadata": {},
   "outputs": [
    {
     "data": {
      "text/plain": "[<matplotlib.lines.Line2D at 0x7fbcdbf7a5b0>]"
     },
     "execution_count": 15,
     "metadata": {},
     "output_type": "execute_result"
    },
    {
     "data": {
      "text/plain": "<Figure size 640x480 with 1 Axes>",
      "image/png": "[encoded data removed]"
     },
     "metadata": {},
     "output_type": "display_data"
    }
   ],
   "source": [
    "plt.plot(theta_vals, [gradient_function(t) for t in theta_vals])"
   ]
  },
  {
   "cell_type": "markdown",
   "id": "82018df8-dc4b-4455-87cf-ed96251e7fd6",
   "metadata": {
    "tags": []
   },
   "source": [
    "## Demo 3: training a small PQC"
   ]
  },
  {
   "cell_type": "code",
   "execution_count": 16,
   "id": "bd0255e5-2eec-450d-8983-46a7796dbbc6",
   "metadata": {},
   "outputs": [],
   "source": [
    "opt = qml.GradientDescentOptimizer(stepsize=0.1)\n",
    "\n",
    "num_iterations = 50\n",
    "\n",
    "storage = []\n",
    "\n",
    "init_param = np.array(0.2)\n",
    "params = init_param.copy()\n",
    "\n",
    "for _ in range(num_iterations):\n",
    "    params, _cost = opt.step_and_cost(pqc, params)\n",
    "    storage.append(_cost)"
   ]
  },
  {
   "cell_type": "code",
   "execution_count": 17,
   "id": "fac6c503-6f8a-4c65-820c-efe5fbd7ac02",
   "metadata": {},
   "outputs": [
    {
     "data": {
      "text/plain": "[<matplotlib.lines.Line2D at 0x7fbcc8899bb0>]"
     },
     "execution_count": 17,
     "metadata": {},
     "output_type": "execute_result"
    },
    {
     "data": {
      "text/plain": "<Figure size 640x480 with 1 Axes>",
      "image/png": "[encoded data removed]"
     },
     "metadata": {},
     "output_type": "display_data"
    }
   ],
   "source": [
    "plt.plot(storage)"
   ]
  },
  {
   "cell_type": "code",
   "execution_count": 18,
   "id": "03e4dfe0-76e8-4408-81a8-14f5a793a688",
   "metadata": {},
   "outputs": [],
   "source": [
    "import numpy as np\n",
    "import pennylane as qml\n",
    "\n",
    "dev = qml.device(\"default.qubit\", wires=3)\n",
    "\n",
    "def original_operations():\n",
    "    for wire in range(3):\n",
    "        qml.Hadamard(wires=wire)\n",
    "    qml.CZ(wires=[0, 1])\n",
    "    qml.CZ(wires=[1, 2])\n",
    "\n",
    "\n",
    "def question_mark_box(y):\n",
    "    qml.RY(y, wires=1)\n",
    "    \n",
    "def create_entangled_state(wires):\n",
    "    qml.Hadamard(wires=wires[0])\n",
    "    qml.CNOT(wires=[wires[0], wires[1]])\n",
    "\n",
    "\n",
    "@qml.qnode(dev)\n",
    "def quiz_3_qnode(y):\n",
    "    original_operations()\n",
    "    \n",
    "    m1 = qml.measure(wires=0)\n",
    "    qml.cond(m1, qml.RY)(y, wires=1)\n",
    "    qml.cond(m1, qml.adjoint(create_entangled_state))([1, 2])\n",
    "    \n",
    "    return qml.probs(wires=[1, 2])"
   ]
  },
  {
   "cell_type": "code",
   "execution_count": 19,
   "id": "b1d68b72-0bd2-43a8-814c-825381151b41",
   "metadata": {},
   "outputs": [
    {
     "data": {
      "text/plain": "tensor([0.47235459, 0.125     , 0.125     , 0.27764541], requires_grad=True)"
     },
     "execution_count": 19,
     "metadata": {},
     "output_type": "execute_result"
    }
   ],
   "source": [
    "quiz_3_qnode(0.4)"
   ]
  },
  {
   "cell_type": "code",
   "execution_count": 147,
   "id": "27e2482b-8db9-4d95-ba45-44d9608121d8",
   "metadata": {},
   "outputs": [],
   "source": [
    "dev = qml.device('default.qubit', wires=2, shots=100000)\n",
    "\n",
    "@qml.qnode(dev)\n",
    "def measure_z():\n",
    "    # qml.RX(2*np.pi/3, wires=0)\n",
    "    return qml.sample(qml.PauliX(1))"
   ]
  },
  {
   "cell_type": "code",
   "execution_count": 148,
   "outputs": [
    {
     "data": {
      "text/plain": "tensor([ 1,  1, -1, ...,  1, -1, -1], requires_grad=True)"
     },
     "execution_count": 148,
     "metadata": {},
     "output_type": "execute_result"
    }
   ],
   "source": [
    "measure_z()"
   ],
   "metadata": {
    "collapsed": false
   }
  },
  {
   "cell_type": "code",
   "execution_count": 149,
   "outputs": [
    {
     "data": {
      "text/plain": "tensor(0.00166, requires_grad=True)"
     },
     "execution_count": 149,
     "metadata": {},
     "output_type": "execute_result"
    }
   ],
   "source": [
    "np.mean(measure_z())"
   ],
   "metadata": {
    "collapsed": false
   }
  },
  {
   "cell_type": "code",
   "execution_count": null,
   "outputs": [],
   "source": [],
   "metadata": {
    "collapsed": false
   }
  }
 ],
 "metadata": {
  "kernelspec": {
   "name": "pennylane",
   "language": "python",
   "display_name": "PennyLane"
  },
  "language_info": {
   "codemirror_mode": {
    "name": "ipython",
    "version": 3
   },
   "file_extension": ".py",
   "mimetype": "text/x-python",
   "name": "python",
   "nbconvert_exporter": "python",
   "pygments_lexer": "ipython3",
   "version": "3.9.12"
  }
 },
 "nbformat": 4,
 "nbformat_minor": 5
}
