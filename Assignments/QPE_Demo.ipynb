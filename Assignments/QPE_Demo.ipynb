{
 "cells": [
  {
   "cell_type": "code",
   "execution_count": 2,
   "outputs": [],
   "source": [
    "import pennylane as qml\n",
    "from pennylane import numpy as np\n",
    "np.set_printoptions(precision=2)"
   ],
   "metadata": {
    "collapsed": false
   }
  },
  {
   "cell_type": "markdown",
   "source": [
    "## Demo 1: Quantum phase estimation"
   ],
   "metadata": {
    "collapsed": false
   }
  },
  {
   "cell_type": "markdown",
   "source": [
    "<img src=\"fig/qpe-full-screencap.png\" width=\"500px\">"
   ],
   "metadata": {
    "collapsed": false
   }
  },
  {
   "cell_type": "code",
   "execution_count": 3,
   "outputs": [
    {
     "data": {
      "text/plain": "tensor([[0.  +0.j  , 0.  +0.j  , 1.  +0.j  , 0.  +0.j  , 0.  +0.j  ,\n         0.  +0.j  , 0.  +0.j  , 0.  +0.j  ],\n        [0.  +0.j  , 0.  +0.j  , 0.  +0.j  , 1.  +0.j  , 0.  +0.j  ,\n         0.  +0.j  , 0.  +0.j  , 0.  +0.j  ],\n        [1.  +0.j  , 0.  +0.j  , 0.  +0.j  , 0.  +0.j  , 0.  +0.j  ,\n         0.  +0.j  , 0.  +0.j  , 0.  +0.j  ],\n        [0.  +0.j  , 1.  +0.j  , 0.  +0.j  , 0.  +0.j  , 0.  +0.j  ,\n         0.  +0.j  , 0.  +0.j  , 0.  +0.j  ],\n        [0.  +0.j  , 0.  +0.j  , 0.  +0.j  , 0.  +0.j  , 0.  +0.j  ,\n         0.  +0.j  , 0.71+0.71j, 0.  +0.j  ],\n        [0.  +0.j  , 0.  +0.j  , 0.  +0.j  , 0.  +0.j  , 0.  +0.j  ,\n         0.  +0.j  , 0.  +0.j  , 0.71+0.71j],\n        [0.  +0.j  , 0.  +0.j  , 0.  +0.j  , 0.  +0.j  , 0.71+0.71j,\n         0.  +0.j  , 0.  +0.j  , 0.  +0.j  ],\n        [0.  +0.j  , 0.  +0.j  , 0.  +0.j  , 0.  +0.j  , 0.  +0.j  ,\n         0.71+0.71j, 0.  +0.j  , 0.  +0.j  ]], requires_grad=True)"
     },
     "execution_count": 3,
     "metadata": {},
     "output_type": "execute_result"
    }
   ],
   "source": [
    "T = qml.T.compute_matrix()\n",
    "X = qml.PauliX.compute_matrix()\n",
    "I = np.eye(2)\n",
    "\n",
    "U = np.kron(T, np.kron(X, I))\n",
    "\n",
    "U"
   ],
   "metadata": {
    "collapsed": false
   }
  },
  {
   "cell_type": "code",
   "execution_count": 29,
   "outputs": [],
   "source": [
    "eigvals, eigvecs = np.linalg.eig(U)\n",
    "\n",
    "target_eigvec = eigvecs[:, 0]\n",
    "target_eigval = eigvals[0]"
   ],
   "metadata": {
    "collapsed": false
   }
  },
  {
   "cell_type": "code",
   "execution_count": 30,
   "outputs": [
    {
     "data": {
      "text/plain": "(-0.7071067811865476-0.7071067811865475j)"
     },
     "execution_count": 30,
     "metadata": {},
     "output_type": "execute_result"
    }
   ],
   "source": [
    "eigvals[7]"
   ],
   "metadata": {
    "collapsed": false
   }
  },
  {
   "cell_type": "code",
   "execution_count": 31,
   "outputs": [
    {
     "data": {
      "text/plain": "0.0"
     },
     "execution_count": 31,
     "metadata": {},
     "output_type": "execute_result"
    }
   ],
   "source": [
    "np.angle(target_eigval) / (2 * np.pi) # 001"
   ],
   "metadata": {
    "collapsed": false
   }
  },
  {
   "cell_type": "code",
   "execution_count": 16,
   "outputs": [
    {
     "data": {
      "text/plain": "tensor([ 0.00e+00+0.00e+00j,  0.00e+00+0.00e+00j,  0.00e+00+0.00e+00j,\n         0.00e+00+0.00e+00j,  0.00e+00+0.00e+00j,  7.07e-01+0.00e+00j,\n        -2.16e-17-1.15e-17j, -7.07e-01-1.39e-17j], requires_grad=True)"
     },
     "execution_count": 16,
     "metadata": {},
     "output_type": "execute_result"
    }
   ],
   "source": [
    "target_eigvec"
   ],
   "metadata": {
    "collapsed": false
   }
  },
  {
   "cell_type": "code",
   "execution_count": 17,
   "outputs": [],
   "source": [
    "estimation_wires = [0,1,2]\n",
    "target_wires = [3,4,5]\n",
    "\n",
    "dev = qml.device('default.qubit', wires=estimation_wires+target_wires, shots=1)"
   ],
   "metadata": {
    "collapsed": false
   }
  },
  {
   "cell_type": "code",
   "execution_count": 18,
   "outputs": [],
   "source": [
    "@qml.qnode(dev)\n",
    "def qpe_with_template():\n",
    "    qml.MottonenStatePreparation(target_eigvec, wires=target_wires)\n",
    "    qml.QuantumPhaseEstimation(\n",
    "        U,\n",
    "        target_wires=target_wires,\n",
    "        estimation_wires=estimation_wires\n",
    "    )\n",
    "    return qml.probs(wires=estimation_wires)"
   ],
   "metadata": {
    "collapsed": false
   }
  },
  {
   "cell_type": "code",
   "execution_count": 19,
   "outputs": [
    {
     "data": {
      "text/plain": "tensor([0., 0., 0., 0., 0., 1., 0., 0.], requires_grad=True)"
     },
     "execution_count": 19,
     "metadata": {},
     "output_type": "execute_result"
    }
   ],
   "source": [
    "qpe_with_template()"
   ],
   "metadata": {
    "collapsed": false
   }
  },
  {
   "cell_type": "markdown",
   "source": [
    "## Demo 2: Order finding"
   ],
   "metadata": {
    "collapsed": false
   }
  },
  {
   "cell_type": "code",
   "execution_count": 24,
   "outputs": [],
   "source": [
    "from lecture11_helpers import *"
   ],
   "metadata": {
    "collapsed": false
   }
  },
  {
   "cell_type": "code",
   "execution_count": 25,
   "outputs": [],
   "source": [
    "N = 13\n",
    "a = 5"
   ],
   "metadata": {
    "collapsed": false
   }
  },
  {
   "cell_type": "code",
   "execution_count": 26,
   "outputs": [
    {
     "name": "stdout",
     "output_type": "stream",
     "text": [
      "The order of 5 is 4\n"
     ]
    }
   ],
   "source": [
    "for exp in range(1, N):\n",
    "    if (a ** exp) % N == 1:\n",
    "        print(f\"The order of {a} is {exp}\")\n",
    "        break"
   ],
   "metadata": {
    "collapsed": false
   }
  },
  {
   "cell_type": "code",
   "execution_count": 11,
   "outputs": [],
   "source": [
    "U_Na = get_U_Na(a, N)\n",
    "\n",
    "num_estimation_qubits = 10\n",
    "num_target_qubits = int(np.log2(len(U_Na)))\n",
    "\n",
    "estimation_wires = range(num_estimation_qubits)\n",
    "target_wires = range(num_estimation_qubits, num_estimation_qubits + num_target_qubits)"
   ],
   "metadata": {
    "collapsed": false
   }
  },
  {
   "cell_type": "code",
   "execution_count": 12,
   "outputs": [],
   "source": [
    "dev = qml.device('default.qubit', wires=num_estimation_qubits+num_target_qubits, shots=1)\n",
    "\n",
    "@qml.qnode(dev)\n",
    "def find_order():\n",
    "\n",
    "    return qml.sample(wires=estimation_wires)"
   ],
   "metadata": {
    "collapsed": false
   }
  },
  {
   "cell_type": "code",
   "execution_count": 13,
   "outputs": [],
   "source": [
    "possible_r = []\n",
    "\n",
    "for _ in range(10):\n",
    "    sample = find_order()\n",
    "    phase = fractional_binary_to_float(sample)\n",
    "    est_r = phase_to_order(phase, N)\n",
    "    possible_r.append(est_r)"
   ],
   "metadata": {
    "collapsed": false
   }
  },
  {
   "cell_type": "code",
   "execution_count": 13,
   "outputs": [],
   "source": [],
   "metadata": {
    "collapsed": false
   }
  }
 ],
 "metadata": {
  "kernelspec": {
   "display_name": "Python 3",
   "language": "python",
   "name": "python3"
  },
  "language_info": {
   "codemirror_mode": {
    "name": "ipython",
    "version": 2
   },
   "file_extension": ".py",
   "mimetype": "text/x-python",
   "name": "python",
   "nbconvert_exporter": "python",
   "pygments_lexer": "ipython2",
   "version": "2.7.6"
  }
 },
 "nbformat": 4,
 "nbformat_minor": 0
}
