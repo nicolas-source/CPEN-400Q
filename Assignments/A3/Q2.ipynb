{
 "cells": [
  {
   "cell_type": "code",
   "execution_count": 1,
   "metadata": {
    "collapsed": true,
    "ExecuteTime": {
     "start_time": "2023-04-01T18:43:11.035320Z",
     "end_time": "2023-04-01T18:43:11.035412Z"
    }
   },
   "outputs": [],
   "source": [
    "import pennylane as qml\n",
    "import numpy as np"
   ]
  },
  {
   "cell_type": "code",
   "execution_count": 99,
   "outputs": [],
   "source": [
    "import pennylane as qml\n",
    "import numpy as np\n",
    "\n",
    "\n",
    "lookup_table = {\n",
    "    \"000\":\"01\",\n",
    "    \"001\":\"10\",\n",
    "    \"010\":\"11\",\n",
    "    \"011\":\"11\"\n",
    "}\n",
    "\n",
    "def qrom(lookup_table):\n",
    "    \"\"\"A subroutine that applies gates to implement the qROM oracle.\n",
    "\n",
    "    This particular qROM should work with variable n-bit address register with\n",
    "    m-bit data values at each location. Given an address register prepared in\n",
    "    the address |a> = |a0 a1 ... an> to query at, the qROM should write the\n",
    "    contents of the address |b_a> = |b_a0 b_a1 ... b_am> to a data register,\n",
    "    like so:\n",
    "           _______\n",
    "     a0 ---|     |--- a0\n",
    "     a1 ---|  q  |--- a1\n",
    "     .. ---|  R  |--- ..\n",
    "     an ---|  O  |--- an\n",
    "      0 ---|  M  |--- b_a0\n",
    "     .. ---|     |--- ..\n",
    "      0 ---|     |--- b_am\n",
    "           -------\n",
    "\n",
    "    Args:\n",
    "        lookup_table (Dict[str, str]): The contents of the memory, in the form\n",
    "            {address: contents} where address is an n-bit string, and contents is\n",
    "            an m-bit string (see examples in test cases).\n",
    "    \"\"\"\n",
    "    # YOUR CODE HERE\n",
    "    return lookup_table\n",
    "\n",
    "\n",
    "def problem_3(lookup_table):\n",
    "    \"\"\"Implement a quantum lookup table, or qROM.\n",
    "\n",
    "    A few things to note:\n",
    "        - the same QNode will be used for any address in the lookup table; only a different\n",
    "          address will be passed each time\n",
    "        - some addresses may not have any data stored at them; consider\n",
    "          |b_a> = |0...0> for this case.\n",
    "        - you can assume there will be no repeated addresses in the lookup table\n",
    "\n",
    "    Args:\n",
    "        lookup_table (Dict[str, str]): The contents of the memory, in the form\n",
    "            {address: contents} where address is an n-bit string, and contents is\n",
    "            an m-bit string (see examples in test cases).\n",
    "\n",
    "    Returns:\n",
    "        qml.QNode: Your qROM QNode. The QNode itself should return a single\n",
    "        sample obtained from measuring the data wires.\n",
    "    \"\"\"\n",
    "\n",
    "    # YOUR CODE HERE: create a device of appropriate size, with shots=1\n",
    "    addr = range(3)\n",
    "    data = range(3, len(addr)+2)\n",
    "    dev = qml.device(\"default.qubit\", wires=len(addr)+len(data), shots=1)\n",
    "\n",
    "    @qml.qnode(dev)\n",
    "    def query_qrom(address=None):\n",
    "        \"\"\"Query the qROM at the provided address.\n",
    "\n",
    "        This QNode should make use of the qROM oracle you implemented above.\n",
    "\n",
    "        Args:\n",
    "            address (str): An n-bit string indicating the address to query at.\n",
    "\n",
    "        Returns:\n",
    "            array[int]: Results of measuring a single sample of the data wires\n",
    "            (corresponds to the content of the qROM at the input address). The\n",
    "            length of the sample should be m.\n",
    "        \"\"\"\n",
    "\n",
    "        # qml.PauliX(wires=[0])\n",
    "        # qml.PauliX(wires=[0])\n",
    "        qml.PauliX(wires=[2])\n",
    "\n",
    "\n",
    "        # qml.PauliX(wires=data[0])\n",
    "        qml.MultiControlledX(control_wires=[addr[0]], wires=[data[1]])\n",
    "\n",
    "        qml.MultiControlledX(control_wires=[addr[1]], wires=[data[0]])\n",
    "\n",
    "        qml.MultiControlledX(control_wires=[addr[0], addr[1]], wires=[data[0]])\n",
    "        qml.MultiControlledX(control_wires=[addr[0], addr[1]], wires=[data[1]])\n",
    "\n",
    "        qml.MultiControlledX(control_wires=[addr[2]], wires=[data[0]])\n",
    "        qml.MultiControlledX(control_wires=[addr[2]], wires=[data[1]])\n",
    "\n",
    "        #\n",
    "        # qml.MultiControlledX(wires=(addr[2],data[0]))\n",
    "        #\n",
    "        # qml.MultiControlledX(wires=(addr[1],data[0]))\n",
    "        # qml.MultiControlledX(wires=(addr[1],data[1]))\n",
    "        #\n",
    "        # qml.MultiControlledX(wires=([addr[1], addr[2]],data[0]))\n",
    "        # qml.MultiControlledX(wires=([addr[1], addr[2]],data[1]))\n",
    "\n",
    "\n",
    "\n",
    "        # YOUR CODE HERE\n",
    "        # return qml.sample(qml.Identity(wires=3)), qml.sample(qml.Identity(wires=4))\n",
    "        # return qml.sample(wires=[4,3])\n",
    "        return qml.sample(wires=[3,4])\n",
    "    return query_qrom\n",
    "    # return lookup_table"
   ],
   "metadata": {
    "collapsed": false,
    "ExecuteTime": {
     "start_time": "2023-04-01T19:04:56.152240Z",
     "end_time": "2023-04-01T19:04:56.152343Z"
    }
   }
  },
  {
   "cell_type": "code",
   "execution_count": 100,
   "outputs": [
    {
     "data": {
      "text/plain": "tensor([1, 1], requires_grad=True)"
     },
     "execution_count": 100,
     "metadata": {},
     "output_type": "execute_result"
    }
   ],
   "source": [
    "lookup_table = {\n",
    "    \"000\":\"01\",\n",
    "    \"001\":\"10\",\n",
    "    \"010\":\"11\",\n",
    "    \"011\":\"11\"\n",
    "}\n",
    "\n",
    "problem_3(None)()"
   ],
   "metadata": {
    "collapsed": false,
    "ExecuteTime": {
     "start_time": "2023-04-01T19:04:56.451979Z",
     "end_time": "2023-04-01T19:04:56.452064Z"
    }
   }
  },
  {
   "cell_type": "code",
   "execution_count": 33,
   "outputs": [
    {
     "name": "stderr",
     "output_type": "stream",
     "text": [
      "/Users/nicolas/miniforge3/envs/quantum/lib/python3.10/site-packages/pennylane/ops/qubit/non_parametric_ops.py:2289: UserWarning: The control_wires keyword will be removed soon. Use wires = (control_wires, target_wire) instead. See the documentation for more information.\n",
      "  warnings.warn(\n"
     ]
    },
    {
     "data": {
      "text/plain": "(<Figure size 800x600 with 1 Axes>, <Axes: >)"
     },
     "execution_count": 33,
     "metadata": {},
     "output_type": "execute_result"
    },
    {
     "data": {
      "text/plain": "<Figure size 800x600 with 1 Axes>",
      "image/png": "[encoded data removed]"
     },
     "metadata": {},
     "output_type": "display_data"
    }
   ],
   "source": [
    "qml.draw_mpl(problem_3(None))()"
   ],
   "metadata": {
    "collapsed": false,
    "ExecuteTime": {
     "start_time": "2023-04-01T18:50:43.504175Z",
     "end_time": "2023-04-01T18:50:43.504329Z"
    }
   }
  },
  {
   "cell_type": "code",
   "execution_count": 4,
   "outputs": [],
   "source": [],
   "metadata": {
    "collapsed": false,
    "ExecuteTime": {
     "start_time": "2023-04-01T18:43:11.176065Z",
     "end_time": "2023-04-01T18:43:11.176132Z"
    }
   }
  }
 ],
 "metadata": {
  "kernelspec": {
   "name": "quantum",
   "language": "python",
   "display_name": "quantum"
  },
  "language_info": {
   "codemirror_mode": {
    "name": "ipython",
    "version": 2
   },
   "file_extension": ".py",
   "mimetype": "text/x-python",
   "name": "python",
   "nbconvert_exporter": "python",
   "pygments_lexer": "ipython2",
   "version": "2.7.6"
  }
 },
 "nbformat": 4,
 "nbformat_minor": 0
}
