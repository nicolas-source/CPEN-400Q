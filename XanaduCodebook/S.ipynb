{
 "cells": [
  {
   "cell_type": "code",
   "execution_count": 1,
   "outputs": [],
   "source": [
    "import pennylane as qml\n",
    "from pennylane import numpy as np"
   ],
   "metadata": {
    "collapsed": false
   }
  },
  {
   "cell_type": "code",
   "execution_count": 5,
   "outputs": [
    {
     "name": "stdout",
     "output_type": "stream",
     "text": [
      "13 = 8 (3) is False\n",
      "13 = 7 (6) is True\n"
     ]
    }
   ],
   "source": [
    "def is_equivalent(a, b, m):\n",
    "    \"\"\"Return a boolean indicating whether the equivalence is satisfied.\n",
    "\n",
    "    Args:\n",
    "        a (int): First number to check the equivalence.\n",
    "        b (int): Second number to check the equivalence.\n",
    "        m (int): Modulus of the equivalence.\n",
    "\n",
    "    Returns:\n",
    "        bool: True if a = b (m), False otherwise.\n",
    "    \"\"\"\n",
    "\n",
    "    ##################\n",
    "    # YOUR CODE HERE #\n",
    "    ##################\n",
    "    return True if a % m == b % m else False\n",
    "\n",
    "\n",
    "\n",
    "print(f\"13 = 8 (3) is {is_equivalent(13, 8, 3)}\")\n",
    "print(f\"13 = 7 (6) is {is_equivalent(13, 7, 6)}\")\n"
   ],
   "metadata": {
    "collapsed": false
   }
  },
  {
   "cell_type": "code",
   "execution_count": 6,
   "outputs": [
    {
     "name": "stdout",
     "output_type": "stream",
     "text": [
      "(5,15) False\n",
      "(7,15) True\n"
     ]
    }
   ],
   "source": [
    "def has_inverse(a, m):\n",
    "    \"\"\"Returns a boolean indicating whether a number has an inverse modulo m.\n",
    "\n",
    "    Args:\n",
    "        a (int): Number to find the inverse modulus m.\n",
    "        m (int): Modulus of the equivalence.\n",
    "\n",
    "    Returns:\n",
    "        bool: True if c exists (ac = 1 (m)), False otherwise\n",
    "    \"\"\"\n",
    "\n",
    "    ##################\n",
    "    # YOUR CODE HERE #\n",
    "    ##################\n",
    "    for c in range(m):\n",
    "        if a*c % m == 1 % m:\n",
    "            return True\n",
    "\n",
    "    return False\n",
    "\n",
    "print(\"(5,15)\", has_inverse(5,15))\n",
    "print(\"(7,15)\", has_inverse(7,15))\n"
   ],
   "metadata": {
    "collapsed": false
   }
  },
  {
   "cell_type": "code",
   "execution_count": 9,
   "outputs": [
    {
     "name": "stdout",
     "output_type": "stream",
     "text": [
      "137\n"
     ]
    }
   ],
   "source": [
    "def nontrivial_square_root(m):\n",
    "    \"\"\"Return the first nontrivial square root modulo m.\n",
    "\n",
    "    Args:\n",
    "        m (int): modulus for which want to find the nontrivial square root\n",
    "\n",
    "    Returns:\n",
    "        int: the first nontrivial square root of m\n",
    "    \"\"\"\n",
    "\n",
    "    ##################\n",
    "    # YOUR CODE HERE #\n",
    "    ##################\n",
    "    for x in range(2, m):\n",
    "        if x ** 2 % m == 1 % m:\n",
    "            return x\n",
    "\n",
    "\n",
    "\n",
    "print(nontrivial_square_root(391))\n"
   ],
   "metadata": {
    "collapsed": false
   }
  },
  {
   "cell_type": "code",
   "execution_count": 2,
   "outputs": [
    {
     "name": "stdout",
     "output_type": "stream",
     "text": [
      "391 = 17 x 23\n"
     ]
    }
   ],
   "source": [
    "def factorization(N):\n",
    "\n",
    "    \"\"\"Return the factors of N.\n",
    "\n",
    "    Args:\n",
    "        N (int): number we want to factor.\n",
    "\n",
    "    Returns:\n",
    "        array[int]: [p,q] factors of N.\n",
    "    \"\"\"\n",
    "    ##################\n",
    "    # YOUR CODE HERE #\n",
    "    ##################\n",
    "    x = None\n",
    "    for x_value in range(2, N):\n",
    "        if x_value ** 2 % N == 1 % N:\n",
    "            x = x_value\n",
    "            break\n",
    "\n",
    "    p = np.gcd(x-1, N)\n",
    "    q = np.gcd(x+1, N)\n",
    "    return p, q\n",
    "\n",
    "N = 391\n",
    "p, q = factorization(N)\n",
    "print(f\"{N} = {p} x {q}\")\n"
   ],
   "metadata": {
    "collapsed": false
   }
  },
  {
   "cell_type": "code",
   "execution_count": 6,
   "outputs": [
    {
     "name": "stdout",
     "output_type": "stream",
     "text": [
      "[1 0 0]\n",
      "shot 1, phase: 0.5\n",
      "[0 0 0]\n",
      "shot 2, phase: 0.0\n",
      "[1 1 0]\n",
      "shot 3, phase: 0.25\n",
      "[0 0 0]\n",
      "shot 4, phase: 0.25\n",
      "[1 1 0]\n",
      "shot 5, phase: 0.0\n"
     ]
    }
   ],
   "source": [
    "def U():\n",
    "    qml.SWAP(wires=[2,3])\n",
    "    qml.SWAP(wires=[1,2])\n",
    "    qml.SWAP(wires=[0,1])\n",
    "    for i in range(4):\n",
    "        qml.PauliX(wires=i)\n",
    "\n",
    "matrix = qml.matrix(U, wire_order=range(4))()\n",
    "\n",
    "n_target_wires = 4\n",
    "target_wires = range(n_target_wires)\n",
    "n_estimation_wires = 3\n",
    "estimation_wires = range(4, 4 + n_estimation_wires)\n",
    "\n",
    "\n",
    "dev = qml.device(\"default.qubit\", shots=1, wires=n_target_wires+n_estimation_wires)\n",
    "\n",
    "@qml.qnode(dev)\n",
    "def circuit(matrix):\n",
    "    \"\"\"Return a sample after taking a shot at the estimation wires.\n",
    "\n",
    "    Args:\n",
    "        matrix (array[complex]): matrix representation of U.\n",
    "\n",
    "    Returns:\n",
    "        array[float]: a sample after taking a shot at the estimation wires.\n",
    "    \"\"\"\n",
    "\n",
    "    ##################\n",
    "    # YOUR CODE HERE #\n",
    "    ##################\n",
    "\n",
    "    # CREATE THE INITIAL STATE |0001> ON TARGET WIRES\n",
    "    qml.PauliX(wires=target_wires[-1])\n",
    "\n",
    "    # USE THE SUBROUTINE QUANTUM PHASE ESTIMATION\n",
    "    qml.QuantumPhaseEstimation(\n",
    "        matrix,\n",
    "        estimation_wires=estimation_wires,\n",
    "        target_wires=target_wires\n",
    "    )\n",
    "\n",
    "    return qml.sample(wires=estimation_wires)\n",
    "\n",
    "def get_phase(matrix):\n",
    "    binary = \"\".join([str(b) for b in circuit(matrix)])\n",
    "    return int(binary, 2) / 2 ** n_estimation_wires\n",
    "\n",
    "for i in range(5):\n",
    "    print(circuit(matrix))\n",
    "    print(f\"shot {i+1}, phase:\",get_phase(matrix))\n"
   ],
   "metadata": {
    "collapsed": false
   }
  },
  {
   "cell_type": "code",
   "execution_count": 9,
   "outputs": [
    {
     "name": "stdout",
     "output_type": "stream",
     "text": [
      "0 1\n",
      "1/2 2\n",
      "1/4 4\n",
      "0 1\n",
      "3/4 4\n",
      "0 1\n",
      "1/2 2\n",
      "3/4 4\n",
      "1/2 2\n",
      "1/4 4\n",
      "4\n"
     ]
    }
   ],
   "source": [
    "from fractions import Fraction\n",
    "def U():\n",
    "    qml.SWAP(wires=[2,3])\n",
    "    qml.SWAP(wires=[1,2])\n",
    "    qml.SWAP(wires=[0,1])\n",
    "    for i in range(4):\n",
    "        qml.PauliX(wires=i)\n",
    "\n",
    "matrix = qml.matrix(U, wire_order=range(4))()\n",
    "\n",
    "target_wires = range(4)\n",
    "n_estimation_wires = 3\n",
    "estimation_wires = range(4, 4 + n_estimation_wires)\n",
    "\n",
    "def get_period(matrix):\n",
    "    \"\"\"Return the period of the state using the already-defined\n",
    "    get_phase function.\n",
    "\n",
    "    Args:\n",
    "        matrix (array[complex]): matrix associated with the operator U\n",
    "\n",
    "    Returns:\n",
    "        int: Obtained period of the state.\n",
    "    \"\"\"\n",
    "\n",
    "    shots = 10\n",
    "\n",
    "    ##################\n",
    "    # YOUR CODE HERE #\n",
    "    ##################\n",
    "    denoms = []\n",
    "    for i in range(shots):\n",
    "        x = get_phase(matrix)\n",
    "        f = Fraction(x).limit_denominator(2 ** n_estimation_wires)\n",
    "        print(f, f.denominator)\n",
    "        if x == 0:\n",
    "            continue\n",
    "        else:\n",
    "            denoms.append(f.denominator)\n",
    "\n",
    "    lcm = 1\n",
    "    for i in denoms:\n",
    "        lcm = lcm * i // np.gcd(lcm, i)\n",
    "    return lcm\n",
    "\n",
    "\n",
    "\n",
    "\n",
    "print(get_period(matrix))\n"
   ],
   "metadata": {
    "collapsed": false
   }
  },
  {
   "cell_type": "code",
   "execution_count": null,
   "outputs": [],
   "source": [],
   "metadata": {
    "collapsed": false
   }
  }
 ],
 "metadata": {
  "kernelspec": {
   "name": "pennylane",
   "language": "python",
   "display_name": "pennylane"
  },
  "language_info": {
   "codemirror_mode": {
    "name": "ipython",
    "version": 2
   },
   "file_extension": ".py",
   "mimetype": "text/x-python",
   "name": "python",
   "nbconvert_exporter": "python",
   "pygments_lexer": "ipython2",
   "version": "2.7.6"
  }
 },
 "nbformat": 4,
 "nbformat_minor": 0
}
