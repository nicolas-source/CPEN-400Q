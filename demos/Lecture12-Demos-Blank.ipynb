{
 "cells": [
  {
   "cell_type": "markdown",
   "metadata": {},
   "source": [
    "# Demos: Lecture 12"
   ]
  },
  {
   "cell_type": "code",
   "execution_count": 1,
   "metadata": {},
   "outputs": [],
   "source": [
    "import pennylane as qml\n",
    "import numpy as np\n",
    "\n",
    "from lecture12_helpers import *"
   ]
  },
  {
   "cell_type": "markdown",
   "metadata": {
    "tags": []
   },
   "source": [
    "## Demo 1: Order finding"
   ]
  },
  {
   "cell_type": "code",
   "execution_count": 2,
   "metadata": {},
   "outputs": [],
   "source": [
    "N = 13\n",
    "a = 5"
   ]
  },
  {
   "cell_type": "code",
   "execution_count": 3,
   "metadata": {},
   "outputs": [
    {
     "name": "stdout",
     "output_type": "stream",
     "text": [
      "The order of 5 is 4\n"
     ]
    }
   ],
   "source": [
    "for exp in range(1, N):\n",
    "    if (a ** exp) % N == 1:\n",
    "        print(f\"The order of {a} is {exp}\")\n",
    "        break"
   ]
  },
  {
   "cell_type": "code",
   "execution_count": 4,
   "metadata": {},
   "outputs": [],
   "source": [
    "def run_order_finding(a, N):\n",
    "    U_Na = get_U_Na(a, N)\n",
    "    \n",
    "    num_estimation_qubits = 10\n",
    "    num_target_qubits = int(np.log2(len(U_Na)))\n",
    "    \n",
    "    estimation_wires = range(num_estimation_qubits)\n",
    "    target_wires = range(num_estimation_qubits, num_estimation_qubits + num_target_qubits)\n",
    "    \n",
    "    dev = qml.device('default.qubit', wires=num_estimation_qubits+num_target_qubits, shots=1)\n",
    "    \n",
    "    @qml.qnode(dev)\n",
    "    def find_order():\n",
    "        # Prepare target register, use PauliX as the starting state\n",
    "        qml.PauliX(wires=target_wires[-1])\n",
    "\n",
    "        # Do phase estimation\n",
    "        qml.QuantumPhaseEstimation(\n",
    "            U_Na,   # matrix\n",
    "            estimation_wires=estimation_wires,\n",
    "            target_wires=target_wires\n",
    "        )\n",
    "\n",
    "        return qml.sample(wires=estimation_wires)\n",
    "\n",
    "    possible_r = []\n",
    "    \n",
    "    for _ in range(10):\n",
    "        sample = find_order()\n",
    "        print(f\"Sample = {sample}\")\n",
    "        phase = fractional_binary_to_float(sample)\n",
    "        print(f\"Numerical phase = {phase}\")\n",
    "        est_r = phase_to_order(phase, N)\n",
    "        print(f\"Guess for r = {est_r}\")\n",
    "        possible_r.append(est_r)\n",
    "        \n",
    "    return max(possible_r)"
   ]
  },
  {
   "cell_type": "code",
   "execution_count": 6,
   "outputs": [
    {
     "name": "stdout",
     "output_type": "stream",
     "text": [
      "Sample = [1 0 0 0 0 0 0 0 0 0]\n",
      "Numerical phase = 0.5\n",
      "Guess for r = 2\n",
      "Sample = [1 1 0 0 0 0 0 0 0 0]\n",
      "Numerical phase = 0.75\n",
      "Guess for r = 4\n",
      "Sample = [1 0 0 0 0 0 0 0 0 0]\n",
      "Numerical phase = 0.5\n",
      "Guess for r = 2\n",
      "Sample = [0 1 0 0 0 0 0 0 0 0]\n",
      "Numerical phase = 0.25\n",
      "Guess for r = 4\n",
      "Sample = [1 0 0 0 0 0 0 0 0 0]\n",
      "Numerical phase = 0.5\n",
      "Guess for r = 2\n",
      "Sample = [1 0 0 0 0 0 0 0 0 0]\n",
      "Numerical phase = 0.5\n",
      "Guess for r = 2\n",
      "Sample = [0 1 0 0 0 0 0 0 0 0]\n",
      "Numerical phase = 0.25\n",
      "Guess for r = 4\n",
      "Sample = [1 0 0 0 0 0 0 0 0 0]\n",
      "Numerical phase = 0.5\n",
      "Guess for r = 2\n",
      "Sample = [0 0 0 0 0 0 0 0 0 0]\n",
      "Numerical phase = 0.0\n",
      "Guess for r = 1\n",
      "Sample = [0 0 0 0 0 0 0 0 0 0]\n",
      "Numerical phase = 0.0\n",
      "Guess for r = 1\n"
     ]
    },
    {
     "data": {
      "text/plain": "4"
     },
     "execution_count": 6,
     "metadata": {},
     "output_type": "execute_result"
    }
   ],
   "source": [
    "run_order_finding(a,N)"
   ],
   "metadata": {
    "collapsed": false
   }
  },
  {
   "cell_type": "markdown",
   "metadata": {},
   "source": [
    "## Demo 2: Shor's algorithm"
   ]
  },
  {
   "cell_type": "markdown",
   "metadata": {},
   "source": [
    "<img src=\"fig/shor-flowchart.jpeg\" width=\"300px\">"
   ]
  },
  {
   "cell_type": "code",
   "execution_count": 10,
   "metadata": {},
   "outputs": [],
   "source": [
    "def shors_algorithm(N):\n",
    "    for _ in range(10):\n",
    "        a = np.random.choice(list(range(2, N-1)))\n",
    "\n",
    "        if np.gcd(a, N) != 1:\n",
    "            print(\"We got lucky!\")\n",
    "            p = np.gcd(a, N)\n",
    "            q = N // p\n",
    "            return p, q\n",
    "\n",
    "        r = run_order_finding(a, N)\n",
    "\n",
    "        if r % 2 != 1:\n",
    "            x = (a ** (r // 2)) % N\n",
    "\n",
    "            if x != 1 and x != (-1 % N):\n",
    "                p = np.gcd(x - 1, N)\n",
    "                q = np.gcd(x + 1, N)\n",
    "\n",
    "                return p, q"
   ]
  },
  {
   "cell_type": "code",
   "execution_count": 11,
   "metadata": {},
   "outputs": [
    {
     "name": "stdout",
     "output_type": "stream",
     "text": [
      "Sample = [0 1 0 0 0 0 0 0 0 0]\n",
      "Numerical phase = 0.25\n",
      "Guess for r = 4\n",
      "Sample = [0 1 0 0 0 0 0 0 0 0]\n",
      "Numerical phase = 0.25\n",
      "Guess for r = 4\n",
      "Sample = [0 0 0 0 0 0 0 0 0 0]\n",
      "Numerical phase = 0.0\n",
      "Guess for r = 1\n",
      "Sample = [0 0 0 0 1 0 0 1 0 0]\n",
      "Numerical phase = 0.03515625\n",
      "Guess for r = 142\n",
      "Sample = [0 0 1 1 0 1 1 1 0 0]\n",
      "Numerical phase = 0.21484375\n",
      "Guess for r = 135\n",
      "Sample = [0 0 1 1 1 0 0 0 0 0]\n",
      "Numerical phase = 0.21875\n",
      "Guess for r = 32\n",
      "Sample = [1 1 0 1 1 0 1 1 1 0]\n",
      "Numerical phase = 0.857421875\n",
      "Guess for r = 7\n",
      "Sample = [0 0 1 0 0 1 0 0 1 0]\n",
      "Numerical phase = 0.142578125\n",
      "Guess for r = 7\n",
      "Sample = [0 1 1 0 0 1 0 0 1 0]\n",
      "Numerical phase = 0.392578125\n",
      "Guess for r = 135\n",
      "Sample = [1 1 0 0 1 0 0 1 0 0]\n",
      "Numerical phase = 0.78515625\n",
      "Guess for r = 135\n",
      "Sample = [1 1 0 1 0 1 0 1 0 0]\n",
      "Numerical phase = 0.83203125\n",
      "Guess for r = 131\n",
      "Sample = [0 0 0 0 0 0 0 0 0 0]\n",
      "Numerical phase = 0.0\n",
      "Guess for r = 1\n",
      "Sample = [1 1 0 1 0 1 0 1 0 1]\n",
      "Numerical phase = 0.8330078125\n",
      "Guess for r = 6\n",
      "Sample = [0 1 0 1 0 1 0 1 0 1]\n",
      "Numerical phase = 0.3330078125\n",
      "Guess for r = 3\n",
      "Sample = [0 1 0 1 0 1 0 1 0 1]\n",
      "Numerical phase = 0.3330078125\n",
      "Guess for r = 3\n",
      "Sample = [0 1 0 1 0 1 0 1 0 1]\n",
      "Numerical phase = 0.3330078125\n",
      "Guess for r = 3\n",
      "Sample = [0 1 0 1 0 1 0 0 1 1]\n",
      "Numerical phase = 0.3310546875\n",
      "Guess for r = 145\n",
      "Sample = [0 0 0 0 0 0 0 0 0 0]\n",
      "Numerical phase = 0.0\n",
      "Guess for r = 1\n",
      "Sample = [0 1 0 1 0 1 0 1 0 1]\n",
      "Numerical phase = 0.3330078125\n",
      "Guess for r = 3\n",
      "Sample = [1 0 1 0 1 0 1 0 1 1]\n",
      "Numerical phase = 0.6669921875\n",
      "Guess for r = 3\n",
      "Sample = [0 1 0 1 0 1 0 1 0 1]\n",
      "Numerical phase = 0.3330078125\n",
      "Guess for r = 3\n",
      "Sample = [1 1 1 0 1 0 1 0 1 1]\n",
      "Numerical phase = 0.9169921875\n",
      "Guess for r = 181\n",
      "Sample = [1 0 0 1 0 0 1 1 1 1]\n",
      "Numerical phase = 0.5771484375\n",
      "Guess for r = 175\n",
      "Sample = [1 1 1 0 1 0 1 0 1 1]\n",
      "Numerical phase = 0.9169921875\n",
      "Guess for r = 181\n",
      "Sample = [0 1 0 1 0 1 0 1 0 1]\n",
      "Numerical phase = 0.3330078125\n",
      "Guess for r = 3\n",
      "Sample = [1 1 0 0 0 0 0 0 0 0]\n",
      "Numerical phase = 0.75\n",
      "Guess for r = 4\n",
      "Sample = [1 1 0 1 0 1 0 1 0 1]\n",
      "Numerical phase = 0.8330078125\n",
      "Guess for r = 6\n",
      "Sample = [0 1 1 0 1 0 1 0 1 0]\n",
      "Numerical phase = 0.416015625\n",
      "Guess for r = 125\n",
      "Sample = [1 0 0 1 0 1 0 1 0 1]\n",
      "Numerical phase = 0.5830078125\n",
      "Guess for r = 187\n",
      "Sample = [0 1 0 1 0 1 0 1 0 1]\n",
      "Numerical phase = 0.3330078125\n",
      "Guess for r = 3\n",
      "We got lucky!\n",
      "p=17\n",
      "q=11\n"
     ]
    }
   ],
   "source": [
    "N = 187\n",
    "\n",
    "for _ in range(10):\n",
    "    p, q = shors_algorithm(N)\n",
    "    if p * q == N:\n",
    "        print(f\"p={p}\\nq={q}\")\n",
    "        break"
   ]
  },
  {
   "cell_type": "code",
   "execution_count": null,
   "outputs": [],
   "source": [],
   "metadata": {
    "collapsed": false
   }
  }
 ],
 "metadata": {
  "kernelspec": {
   "name": "pennylane",
   "language": "python",
   "display_name": "PennyLane"
  },
  "language_info": {
   "codemirror_mode": {
    "name": "ipython",
    "version": 3
   },
   "file_extension": ".py",
   "mimetype": "text/x-python",
   "name": "python",
   "nbconvert_exporter": "python",
   "pygments_lexer": "ipython3",
   "version": "3.9.7"
  }
 },
 "nbformat": 4,
 "nbformat_minor": 4
}
