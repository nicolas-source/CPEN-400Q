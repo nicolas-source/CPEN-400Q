{
 "cells": [
  {
   "cell_type": "markdown",
   "id": "1ecc2235-07c3-4098-8bb1-cd170f86e5c5",
   "metadata": {},
   "source": [
    "# Demos: Lecture 8"
   ]
  },
  {
   "cell_type": "code",
   "execution_count": 1,
   "id": "65812e14-324c-435f-ade6-362f6a9ff4be",
   "metadata": {},
   "outputs": [],
   "source": [
    "import pennylane as qml\n",
    "from pennylane import numpy as np\n",
    "from lecture08_helpers import compute_accuracy\n",
    "from lecture08_helpers import *\n",
    "import matplotlib.pyplot as plt\n",
    "\n",
    "# Loads the training and testing data for you\n",
    "train_X = np.load(\"data/l8_train_X.npy\")\n",
    "train_y = np.load(\"data/l8_train_y.npy\")\n",
    "test_X = np.load(\"data/l8_test_X.npy\")\n",
    "test_y = np.load(\"data/l8_test_y.npy\")\n",
    "\n",
    "train_X = np.array(train_X, requires_grad=False)\n",
    "train_y = np.array(train_y, requires_grad=False)\n",
    "test_X = np.array(test_X, requires_grad=False)\n",
    "test_y = np.array(test_y, requires_grad=False)"
   ]
  },
  {
   "cell_type": "code",
   "execution_count": 2,
   "outputs": [],
   "source": [
    "np.set_printoptions(suppress=True)"
   ],
   "metadata": {
    "collapsed": false
   }
  },
  {
   "cell_type": "code",
   "execution_count": 3,
   "outputs": [
    {
     "data": {
      "text/plain": "tensor([[-0.07161386, -0.22872007,  0.88470143, -0.10581928],\n        [ 1.64567103, -0.66481804, -0.57328593,  0.07178712],\n        [ 0.26837931,  0.42790794,  0.15068389, -0.45816579],\n        [ 0.23364672,  0.32846986,  0.6326616 , -0.09151491],\n        [-1.05684875, -1.42349957, -1.3374081 ,  1.93054905],\n        [-0.64311332, -2.00718505, -1.60691971,  1.43026965],\n        [ 0.13988981,  0.28099617,  0.50405069, -0.44432248],\n        [ 0.05787516,  0.09546232,  1.28959618, -0.14956287],\n        [-0.42451288,  0.00777202,  0.83388789, -0.23143627],\n        [ 2.15115809,  0.02331367, -0.83677661,  0.59475188],\n        [ 2.38297868, -1.03423083, -0.66092546,  0.68480826],\n        [ 1.95689934, -0.60490362, -0.8247449 , -0.00755088],\n        [-0.51139536, -0.1408783 , -0.29199464, -0.09000482],\n        [-0.61007558, -2.01992869, -1.49499303,  1.90725233],\n        [ 1.88651323, -0.70172563, -0.54178926,  0.28770913],\n        [ 0.47585128,  0.4080172 ,  0.01257563, -0.14044039],\n        [-0.5143055 , -1.03751845, -1.27556374,  1.54726928],\n        [ 2.08588783, -0.89500879, -1.02836716,  0.32759538],\n        [ 0.38887878,  0.48568269,  0.23482376, -0.14717955],\n        [-1.28201385, -1.74837971, -1.16734096,  1.95234288],\n        [ 1.92703718, -0.64785521, -0.32767537,  0.89906089],\n        [-0.69192357, -1.92965718, -1.75235649,  1.90982797],\n        [ 1.19544338, -0.62386218, -0.60968516, -0.10546999],\n        [ 0.62243795,  0.0970107 ,  0.41501119,  0.12895509],\n        [ 0.09521039, -0.02572425,  0.21108246, -0.07145817],\n        [-0.02280704,  0.20118728,  0.54449577, -0.84614546],\n        [-0.12711453, -0.15579507,  0.4903614 , -0.48130691],\n        [-0.17364775, -0.15983536,  0.0882144 ,  0.01074919],\n        [-1.22690569, -1.2550638 , -0.97486657,  1.66321592],\n        [-0.46218481,  0.81401419,  0.1809002 , -0.4291516 ],\n        [ 1.83053273, -0.20749595, -0.28371946, -0.12061734],\n        [-1.26453952, -1.49440832, -1.12864661,  1.80406456],\n        [-1.17507852, -1.25494588, -0.99818376,  1.76867666],\n        [-1.48407355, -1.05878584, -1.55640528,  1.63507614],\n        [ 1.94312769, -1.0289288 , -0.57768804,  0.15151588],\n        [ 0.20703644,  0.40606702,  0.12999374,  0.17149224],\n        [-0.94464439, -1.21887534, -0.9806999 ,  2.20846684],\n        [ 2.17107237, -0.6690854 , -0.91132546,  0.22258746],\n        [-0.774864  , -1.8920977 , -1.025828  ,  1.46864307],\n        [ 1.60141869,  0.43956814, -0.58256841,  0.49817361],\n        [-1.52492964, -1.39719588, -0.85408926,  1.72426919],\n        [-0.45227555,  0.23236524,  0.8241167 ,  0.02890293],\n        [ 0.5110872 , -0.01664523,  0.92810599, -0.16885533],\n        [-1.15938411, -1.19108019, -1.33144069,  1.46450453],\n        [-1.16333175, -1.70045152, -1.19780563,  1.61611838],\n        [ 0.56297203,  0.08692899,  1.14958082, -0.09909477],\n        [ 1.86671724, -0.80547652, -0.73786036,  0.99708209],\n        [-1.49065882, -1.81326296, -1.01608834,  2.02086156],\n        [-1.09953314, -1.70676539, -0.58961773,  1.63478568],\n        [ 1.70659588, -1.02739668, -0.88746166,  0.36700138],\n        [ 1.98132706, -0.87210913, -0.52239302,  0.26888068],\n        [ 1.7973304 , -0.7629594 , -0.47408134, -0.08283167],\n        [ 1.62146585, -0.89484357, -0.67353102,  0.21917219],\n        [ 2.02109855, -0.46923982, -0.16720192,  0.55392231],\n        [ 2.13766664, -0.32188401, -1.3807471 ,  0.29554881],\n        [-0.70560376, -1.34573435, -1.1336461 ,  1.478987  ],\n        [-0.0746666 ,  0.06494707,  0.63972834, -0.09333582],\n        [-1.2586682 , -1.12515908, -1.22388337,  1.53308056],\n        [ 1.74756553, -0.2948207 , -0.87999491,  0.87285002],\n        [-1.09787142, -1.4832972 , -1.13328012,  1.3670349 ]], requires_grad=False)"
     },
     "execution_count": 3,
     "metadata": {},
     "output_type": "execute_result"
    }
   ],
   "source": [
    "test_X"
   ],
   "metadata": {
    "collapsed": false
   }
  },
  {
   "cell_type": "markdown",
   "id": "6e121ef6-0c3f-4e61-aec2-0ec7b1c360b3",
   "metadata": {},
   "source": [
    "## Hands-on\n"
   ]
  },
  {
   "cell_type": "markdown",
   "id": "45b903c3-b99c-43d4-818c-42c3b789e7e3",
   "metadata": {},
   "source": [
    "Design your own VQC to classify this data! Try to beat my record of 93.3\\% accuracy."
   ]
  },
  {
   "cell_type": "code",
   "execution_count": 4,
   "outputs": [],
   "source": [
    "NUM_WIRES = 4\n",
    "NUM_PARAMS = 3\n",
    "NUM_LAYERS = 2"
   ],
   "metadata": {
    "collapsed": false
   }
  },
  {
   "cell_type": "code",
   "execution_count": 5,
   "outputs": [],
   "source": [
    "weights = np.random.normal(size=(NUM_WIRES*NUM_LAYERS, NUM_PARAMS))"
   ],
   "metadata": {
    "collapsed": false
   }
  },
  {
   "cell_type": "code",
   "execution_count": 6,
   "outputs": [
    {
     "data": {
      "text/plain": "tensor([[-1.51912792,  1.14954625, -0.18405269],\n        [ 0.98275933, -0.74081779, -1.32335415],\n        [ 1.31473985, -0.17146874, -1.38557605],\n        [ 0.38983346,  0.39128117,  1.93891118],\n        [-0.0716272 , -0.9895772 , -1.23892093],\n        [-1.7189187 ,  0.57680439,  1.96789488],\n        [ 1.33150642, -1.05369049,  0.90675358],\n        [-0.99039184, -0.41692748, -0.37955812]], requires_grad=True)"
     },
     "execution_count": 6,
     "metadata": {},
     "output_type": "execute_result"
    }
   ],
   "source": [
    "weights"
   ],
   "metadata": {
    "collapsed": false
   }
  },
  {
   "cell_type": "code",
   "execution_count": 7,
   "outputs": [
    {
     "data": {
      "text/plain": "tensor([-1.51912792,  1.14954625, -0.18405269], requires_grad=True)"
     },
     "execution_count": 7,
     "metadata": {},
     "output_type": "execute_result"
    }
   ],
   "source": [
    "weights[0]"
   ],
   "metadata": {
    "collapsed": false
   }
  },
  {
   "cell_type": "code",
   "execution_count": 8,
   "id": "b4fafcc0-d817-4a97-8887-176c08601e2f",
   "metadata": {},
   "outputs": [],
   "source": [
    "dev = qml.device('default.qubit', wires=NUM_WIRES)\n",
    "\n",
    "@qml.qnode(dev)\n",
    "def vqc_model(data, weights):\n",
    "    # YOUR CODE HERE\n",
    "    # Design an ansatz for this data: choose how the data is encoded\n",
    "    # and the gates that the weights are input into.\n",
    "    qml.AngleEmbedding(data, wires=[0,1,2,3])\n",
    "    qml.Rot(*weights[0], wires=0)\n",
    "    qml.Rot(*weights[1], wires=1)\n",
    "    qml.Rot(*weights[2], wires=2)\n",
    "    qml.Rot(*weights[3], wires=3)\n",
    "\n",
    "    qml.SWAP(wires=[0,1])\n",
    "    qml.SWAP(wires=[1,2])\n",
    "    qml.SWAP(wires=[2,3])\n",
    "\n",
    "    qml.Rot(*weights[4], wires=0)\n",
    "    qml.Rot(*weights[5], wires=1)\n",
    "    qml.Rot(*weights[6], wires=2)\n",
    "    qml.Rot(*weights[7], wires=3)\n",
    "\n",
    "    qml.SWAP(wires=[0,1])\n",
    "    qml.SWAP(wires=[1,2])\n",
    "    qml.SWAP(wires=[2,3])\n",
    "\n",
    "    return qml.expval(qml.PauliX(0))"
   ]
  },
  {
   "cell_type": "code",
   "execution_count": 9,
   "outputs": [
    {
     "name": "stdout",
     "output_type": "stream",
     "text": [
      "0: ──RX(-0.77)──Rot(-1.52,1.15,-0.18)─╭SWAP──Rot(-0.07,-0.99,-1.24)──────────────────────\n",
      "1: ──RX(-1.89)──Rot(0.98,-0.74,-1.32)─╰SWAP─╭SWAP────────────────────Rot(-1.72,0.58,1.97)\n",
      "2: ──RX(-1.03)──Rot(1.31,-0.17,-1.39)───────╰SWAP───────────────────╭SWAP────────────────\n",
      "3: ──RX(1.47)───Rot(0.39,0.39,1.94)─────────────────────────────────╰SWAP────────────────\n",
      "\n",
      "──╭SWAP───────────────────────────────┤  <X>\n",
      "──╰SWAP───────────────────╭SWAP───────┤     \n",
      "───Rot(1.33,-1.05,0.91)───╰SWAP─╭SWAP─┤     \n",
      "───Rot(-0.99,-0.42,-0.38)───────╰SWAP─┤     \n"
     ]
    }
   ],
   "source": [
    "print(qml.draw(vqc_model, expansion_strategy=\"device\")(train_X[0], weights))"
   ],
   "metadata": {
    "collapsed": false
   }
  },
  {
   "cell_type": "code",
   "execution_count": 10,
   "id": "9ae3951a-6052-47ad-9f9a-afbe3462ca4e",
   "metadata": {},
   "outputs": [],
   "source": [
    "def loss(weights):\n",
    "    # YOUR CODE HERE\n",
    "    # Design a new loss function, or adapt the helper function\n",
    "\n",
    "    loss_sum = 0.0\n",
    "\n",
    "    for idx in range(train_X.shape[0]):\n",
    "        point = train_X[idx]\n",
    "        true_expval = train_y[idx]\n",
    "\n",
    "        estimated_expval = vqc_model(point, weights)\n",
    "        loss_sum += (estimated_expval - true_expval) ** 2\n",
    "\n",
    "    return loss_sum / train_X.shape[0]"
   ]
  },
  {
   "cell_type": "code",
   "execution_count": 11,
   "id": "204d4adf-035d-448c-8b24-950e0ff9ca77",
   "metadata": {},
   "outputs": [
    {
     "name": "stdout",
     "output_type": "stream",
     "text": [
      "Loss at iteration 0 = 2.140714062539886  Accuracy = 0.0\n",
      "Loss at iteration 5 = 1.4635276737930143  Accuracy = 0.06666666666666667\n",
      "Loss at iteration 10 = 1.0473916009196038  Accuracy = 0.24666666666666667\n",
      "Loss at iteration 15 = 0.7233030445051635  Accuracy = 0.31333333333333335\n",
      "Loss at iteration 20 = 0.6398248178662778  Accuracy = 0.32\n",
      "Loss at iteration 25 = 0.6266502862132027  Accuracy = 0.32\n",
      "Loss at iteration 30 = 0.6242421718830921  Accuracy = 0.32666666666666666\n",
      "Loss at iteration 35 = 0.6236844533174594  Accuracy = 0.32666666666666666\n",
      "Loss at iteration 40 = 0.6235411916933492  Accuracy = 0.32666666666666666\n",
      "Loss at iteration 45 = 0.6235032180580469  Accuracy = 0.32666666666666666\n",
      "Loss at iteration 50 = 0.6234930565868112  Accuracy = 0.32666666666666666\n",
      "Loss at iteration 55 = 0.6234903283654939  Accuracy = 0.32666666666666666\n",
      "Loss at iteration 60 = 0.6234895948610173  Accuracy = 0.32666666666666666\n",
      "Loss at iteration 65 = 0.6234893975260184  Accuracy = 0.32666666666666666\n",
      "Loss at iteration 70 = 0.6234893444201696  Accuracy = 0.32666666666666666\n",
      "Loss at iteration 75 = 0.6234893301262971  Accuracy = 0.32666666666666666\n",
      "Loss at iteration 80 = 0.6234893262786703  Accuracy = 0.32666666666666666\n",
      "Loss at iteration 85 = 0.6234893252429213  Accuracy = 0.32666666666666666\n",
      "Loss at iteration 90 = 0.6234893249641005  Accuracy = 0.32666666666666666\n",
      "Loss at iteration 95 = 0.6234893248890422  Accuracy = 0.32666666666666666\n"
     ]
    }
   ],
   "source": [
    "# Set up initial parameters, and write an optimization loop to train your model.\n",
    "\n",
    "opt = qml.GradientDescentOptimizer(stepsize=0.1)\n",
    "\n",
    "n_its = 100\n",
    "\n",
    "loss_track = []\n",
    "\n",
    "for it in range(n_its):\n",
    "    weights, _loss = opt.step_and_cost(loss, weights)\n",
    "    if it % 5 == 0:\n",
    "        our_preds = make_predictions(train_X, vqc_model, weights)\n",
    "        print(f\"Loss at iteration {it} = {_loss}  Accuracy = {compute_accuracy(our_preds, train_y)}\")\n",
    "    loss_track.append(_loss)"
   ]
  },
  {
   "cell_type": "code",
   "execution_count": 12,
   "id": "13258f8e-aa83-46e4-92c3-c7ce161611db",
   "metadata": {},
   "outputs": [],
   "source": [
    "# def make_predictions(data, model, weights):\n",
    "#     # YOUR CODE HERE\n",
    "#     # Modify the make_predictions function based on how you set up your classifier.\n",
    "#\n",
    "#     return"
   ]
  },
  {
   "cell_type": "markdown",
   "id": "4b1e8d73-2e65-448e-b801-0d7126573f41",
   "metadata": {},
   "source": [
    "After training, you can use the code below to evaluate the metrics."
   ]
  },
  {
   "cell_type": "code",
   "execution_count": 13,
   "id": "b5390a0a-fb72-4ded-8d6f-641f9f9f7a93",
   "metadata": {},
   "outputs": [
    {
     "name": "stdout",
     "output_type": "stream",
     "text": [
      "Training accuracy = 0.32666666666666666\n",
      "Testing accuracy = 0.3333333333333333\n"
     ]
    }
   ],
   "source": [
    "my_training_predictions = make_predictions(train_X, vqc_model, weights)\n",
    "my_testing_predictions = make_predictions(test_X, vqc_model, weights)\n",
    "                                          \n",
    "training_accuracy = compute_accuracy(my_training_predictions, train_y)\n",
    "testing_accuracy = compute_accuracy(my_testing_predictions, test_y)\n",
    "\n",
    "print(f\"Training accuracy = {training_accuracy}\")\n",
    "print(f\"Testing accuracy = {testing_accuracy}\")"
   ]
  },
  {
   "cell_type": "code",
   "execution_count": 13,
   "id": "52c4fcd3-c5ea-4b28-be0c-d8616496b0bd",
   "metadata": {},
   "outputs": [],
   "source": []
  }
 ],
 "metadata": {
  "kernelspec": {
   "name": "pennylane",
   "language": "python",
   "display_name": "PennyLane"
  },
  "language_info": {
   "codemirror_mode": {
    "name": "ipython",
    "version": 3
   },
   "file_extension": ".py",
   "mimetype": "text/x-python",
   "name": "python",
   "nbconvert_exporter": "python",
   "pygments_lexer": "ipython3",
   "version": "3.9.7"
  }
 },
 "nbformat": 4,
 "nbformat_minor": 5
}
