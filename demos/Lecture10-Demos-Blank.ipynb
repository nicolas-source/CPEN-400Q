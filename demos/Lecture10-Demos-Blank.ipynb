{
 "cells": [
  {
   "cell_type": "markdown",
   "metadata": {},
   "source": [
    "# Demos: Lecture 09"
   ]
  },
  {
   "cell_type": "markdown",
   "metadata": {},
   "source": [
    "## Demo 1: QFT from scratch"
   ]
  },
  {
   "cell_type": "markdown",
   "metadata": {},
   "source": [
    "<img src=\"fig/qft-full.png\" width=\"800px\">"
   ]
  },
  {
   "cell_type": "markdown",
   "metadata": {},
   "source": [
    "$$\n",
    "R_k = \\begin{pmatrix} 1 & 0 \\\\ 0 & e^{2\\pi i/2^k} \\end{pmatrix}\n",
    "$$"
   ]
  },
  {
   "cell_type": "code",
   "execution_count": 20,
   "metadata": {},
   "outputs": [],
   "source": [
    "import pennylane as qml\n",
    "import numpy as np"
   ]
  },
  {
   "cell_type": "code",
   "execution_count": 30,
   "metadata": {},
   "outputs": [],
   "source": [
    "def apply_swaps(wires=None):\n",
    "    for qubit_idx in range(0, len(wires) // 2):\n",
    "        qml.SWAP(wires=[qubit_idx, len(wires) - qubit_idx - 1])"
   ]
  },
  {
   "cell_type": "code",
   "execution_count": 41,
   "metadata": {},
   "outputs": [],
   "source": [
    "def apply_controlled_rotations(target_idx=None, wires=None):\n",
    "    if len(wires) == 1:\n",
    "        qml.Hadamard(wires=wires[0])\n",
    "    else:\n",
    "        qml.Hadamard(wires=wires[0])\n",
    "        for k in range(1, len(wires)):\n",
    "            qml.ControlledPhaseShift(2 * np.pi / (2 ** (k+1)), wires=[wires[k], wires[0]])\n",
    "        apply_controlled_rotations(wires=wires[1:])"
   ]
  },
  {
   "cell_type": "code",
   "execution_count": 42,
   "metadata": {},
   "outputs": [],
   "source": [
    "dev = qml.device('default.qubit', wires=3)\n",
    "\n",
    "\n",
    "@qml.qnode(dev)\n",
    "def QFT_circuit():\n",
    "    apply_controlled_rotations(wires=dev.wires)\n",
    "    apply_swaps(wires=dev.wires)\n",
    "    return qml.state()"
   ]
  },
  {
   "cell_type": "code",
   "execution_count": 43,
   "metadata": {},
   "outputs": [
    {
     "name": "stdout",
     "output_type": "stream",
     "text": [
      "0: ──H─╭Rϕ(1.57)─╭Rϕ(0.79)─────────────────╭SWAP─┤  State\n",
      "1: ────╰●────────│──────────H─╭Rϕ(1.57)────│─────┤  State\n",
      "2: ──────────────╰●───────────╰●─────────H─╰SWAP─┤  State\n"
     ]
    }
   ],
   "source": [
    "print(qml.draw(QFT_circuit)())"
   ]
  },
  {
   "cell_type": "markdown",
   "metadata": {},
   "source": [
    "## Demo 2: QFT from template"
   ]
  },
  {
   "cell_type": "code",
   "execution_count": 37,
   "metadata": {},
   "outputs": [],
   "source": [
    "dev = qml.device('default.qubit', wires=3)\n",
    "\n",
    "\n",
    "@qml.qnode(dev)\n",
    "def QFT_with_pennylane():\n",
    "    qml.QFT(wires=dev.wires)\n",
    "    return qml.state()"
   ]
  },
  {
   "cell_type": "code",
   "execution_count": 38,
   "outputs": [
    {
     "name": "stdout",
     "output_type": "stream",
     "text": [
      "0: ─╭QFT─┤  State\n",
      "1: ─├QFT─┤  State\n",
      "2: ─╰QFT─┤  State\n"
     ]
    }
   ],
   "source": [
    "print(qml.draw(QFT_with_pennylane)())"
   ],
   "metadata": {
    "collapsed": false
   }
  },
  {
   "cell_type": "code",
   "execution_count": 39,
   "outputs": [],
   "source": [
    "dev = qml.device('default.qubit', wires=3)\n",
    "\n",
    "\n",
    "@qml.qnode(dev)\n",
    "def QFT_with_pennylane():\n",
    "    qml.QFT.compute_decomposition(wires=dev.wires, n_wires=len(dev.wires))\n",
    "    return qml.state()"
   ],
   "metadata": {
    "collapsed": false
   }
  },
  {
   "cell_type": "code",
   "execution_count": 40,
   "outputs": [
    {
     "name": "stdout",
     "output_type": "stream",
     "text": [
      "0: ──H─╭Rϕ(1.57)─╭Rϕ(0.79)─────────────────╭SWAP─┤  State\n",
      "1: ────╰●────────│──────────H─╭Rϕ(1.57)────│─────┤  State\n",
      "2: ──────────────╰●───────────╰●─────────H─╰SWAP─┤  State\n"
     ]
    }
   ],
   "source": [
    "print(qml.draw(QFT_with_pennylane)())"
   ],
   "metadata": {
    "collapsed": false
   }
  },
  {
   "cell_type": "code",
   "execution_count": null,
   "outputs": [],
   "source": [],
   "metadata": {
    "collapsed": false
   }
  }
 ],
 "metadata": {
  "kernelspec": {
   "name": "pennylane",
   "language": "python",
   "display_name": "PennyLane"
  },
  "language_info": {
   "codemirror_mode": {
    "name": "ipython",
    "version": 3
   },
   "file_extension": ".py",
   "mimetype": "text/x-python",
   "name": "python",
   "nbconvert_exporter": "python",
   "pygments_lexer": "ipython3",
   "version": "3.8.5"
  }
 },
 "nbformat": 4,
 "nbformat_minor": 4
}
