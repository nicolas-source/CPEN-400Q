{
 "cells": [
  {
   "cell_type": "markdown",
   "metadata": {},
   "source": [
    "# Demos: Lecture 6"
   ]
  },
  {
<<<<<<< HEAD
<<<<<<< HEAD
<<<<<<< HEAD
=======
=======
>>>>>>> 898a8fd (r)
   "cell_type": "code",
   "execution_count": 1,
   "outputs": [],
   "source": [
    "import pennylane as qml\n",
    "from pennylane import numpy as np"
   ],
   "metadata": {
    "collapsed": false
   }
  },
  {
<<<<<<< HEAD
=======
>>>>>>> 7b13eaa (L6 blank materials.)
=======
>>>>>>> 00ad442 (l6)
>>>>>>> 898a8fd (r)
=======
>>>>>>> main
   "cell_type": "markdown",
   "metadata": {},
   "source": [
    "## Demo 1: teleportation "
   ]
  },
  {
   "cell_type": "markdown",
   "metadata": {},
   "source": [
    " <img src=\"fig/teleportation.png\" width=\"800px\">"
   ]
  },
  {
   "cell_type": "code",
<<<<<<< HEAD
<<<<<<< HEAD
<<<<<<< HEAD
   "execution_count": 8,
   "metadata": {},
   "outputs": [],
   "source": [
    "def create_entangled_state(wires):\n",
    "    qml.Hadamard(wires=[wires[0]])\n",
    "    qml.CNOT(wires=[wires[0], wires[1]])\n",
    "\n",
    "def prepare_alice_state():\n",
    "    qml.RX(0.3, wires=0)\n",
    "    qml.RY(0.5, wires=0)\n",
    "    qml.Hadamard(wires=0)\n",
    "    qml.PauliY(wires=0)\n",
    "    qml.RX(0.1, wires=0)\n",
    "\n",
    "dev = qml.device(\"default.qubit\", wires=3)\n",
    "\n",
    "@qml.qnode(dev)\n",
    "def teleport():\n",
    "    prepare_alice_state()\n",
    "    create_entangled_state([1,2])\n",
    "    qml.adjoint(create_entangled_state)([0,1])\n",
    "\n",
    "    m1 = qml.measure(wires=0)\n",
    "    m2 = qml.measure(wires=1)\n",
    "\n",
    "    # condition on m2, do PauliX\n",
    "    qml.cond(m2, qml.PauliX)(wires=2)\n",
    "    # condition on m1, do PauliZ\n",
    "    qml.cond(m1, qml.PauliZ)(wires=2)\n",
    "\n",
    "    return qml.probs(wires=2)\n",
    "\n",
    "@qml.qnode(dev)\n",
    "def prepare_state_only():\n",
    "    prepare_alice_state()\n",
    "    return qml.probs(wires=0)"
   ]
  },
  {
   "cell_type": "code",
   "execution_count": 9,
   "outputs": [
    {
     "data": {
      "text/plain": "tensor([0.28688912, 0.71311088], requires_grad=True)"
     },
     "execution_count": 9,
     "metadata": {},
     "output_type": "execute_result"
    }
   ],
   "source": [
    "prepare_state_only()"
   ],
   "metadata": {
    "collapsed": false
   }
  },
  {
   "cell_type": "code",
   "execution_count": 10,
   "outputs": [
    {
     "data": {
      "text/plain": "tensor([0.28688912, 0.71311088], requires_grad=True)"
     },
     "execution_count": 10,
     "metadata": {},
     "output_type": "execute_result"
    }
   ],
   "source": [
    "teleport()"
   ],
   "metadata": {
    "collapsed": false
   }
=======
=======
>>>>>>> 898a8fd (r)
=======
>>>>>>> main
   "execution_count": null,
   "metadata": {},
   "outputs": [],
   "source": []
<<<<<<< HEAD
<<<<<<< HEAD
>>>>>>> 7b13eaa (L6 blank materials.)
=======
=======
   "execution_count": 8,
   "metadata": {},
   "outputs": [],
   "source": [
    "def create_entangled_state(wires):\n",
    "    qml.Hadamard(wires=[wires[0]])\n",
    "    qml.CNOT(wires=[wires[0], wires[1]])\n",
    "\n",
    "def prepare_alice_state():\n",
    "    qml.RX(0.3, wires=0)\n",
    "    qml.RY(0.5, wires=0)\n",
    "    qml.Hadamard(wires=0)\n",
    "    qml.PauliY(wires=0)\n",
    "    qml.RX(0.1, wires=0)\n",
    "\n",
    "dev = qml.device(\"default.qubit\", wires=3)\n",
    "\n",
    "@qml.qnode(dev)\n",
    "def teleport():\n",
    "    prepare_alice_state()\n",
    "    create_entangled_state([1,2])\n",
    "    qml.adjoint(create_entangled_state)([0,1])\n",
    "\n",
    "    m1 = qml.measure(wires=0)\n",
    "    m2 = qml.measure(wires=1)\n",
    "\n",
    "    # condition on m2, do PauliX\n",
    "    qml.cond(m2, qml.PauliX)(wires=2)\n",
    "    # condition on m1, do PauliZ\n",
    "    qml.cond(m1, qml.PauliZ)(wires=2)\n",
    "\n",
    "    return qml.probs(wires=2)\n",
    "\n",
    "@qml.qnode(dev)\n",
    "def prepare_state_only():\n",
    "    prepare_alice_state()\n",
    "    return qml.probs(wires=0)"
   ]
  },
  {
   "cell_type": "code",
   "execution_count": 9,
   "outputs": [
    {
     "data": {
      "text/plain": "tensor([0.28688912, 0.71311088], requires_grad=True)"
     },
     "execution_count": 9,
     "metadata": {},
     "output_type": "execute_result"
    }
   ],
   "source": [
    "prepare_state_only()"
   ],
   "metadata": {
    "collapsed": false
   }
  },
  {
   "cell_type": "code",
   "execution_count": 10,
   "outputs": [
    {
     "data": {
      "text/plain": "tensor([0.28688912, 0.71311088], requires_grad=True)"
     },
     "execution_count": 10,
     "metadata": {},
     "output_type": "execute_result"
    }
   ],
   "source": [
    "teleport()"
   ],
   "metadata": {
    "collapsed": false
   }
>>>>>>> 00ad442 (l6)
>>>>>>> 898a8fd (r)
=======
>>>>>>> main
  },
  {
   "cell_type": "markdown",
   "metadata": {},
   "source": [
    "## Demo 2: expectation values"
   ]
  },
  {
   "cell_type": "code",
   "execution_count": null,
   "metadata": {},
   "outputs": [],
   "source": []
  }
 ],
 "metadata": {
  "kernelspec": {
<<<<<<< HEAD
<<<<<<< HEAD
<<<<<<< HEAD
   "name": "pennylane",
   "language": "python",
   "display_name": "PennyLane"
=======
   "display_name": "Python 3 (ipykernel)",
   "language": "python",
   "name": "python3"
>>>>>>> 7b13eaa (L6 blank materials.)
=======
   "display_name": "Python 3 (ipykernel)",
   "language": "python",
   "name": "python3"
=======
   "name": "pennylane",
   "language": "python",
   "display_name": "PennyLane"
>>>>>>> 00ad442 (l6)
>>>>>>> 898a8fd (r)
=======
   "display_name": "Python 3 (ipykernel)",
   "language": "python",
   "name": "python3"
>>>>>>> main
  },
  "language_info": {
   "codemirror_mode": {
    "name": "ipython",
    "version": 3
   },
   "file_extension": ".py",
   "mimetype": "text/x-python",
   "name": "python",
   "nbconvert_exporter": "python",
   "pygments_lexer": "ipython3",
   "version": "3.9.7"
  }
 },
 "nbformat": 4,
 "nbformat_minor": 4
}
