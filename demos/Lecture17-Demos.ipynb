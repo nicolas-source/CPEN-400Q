{
 "cells": [
  {
   "cell_type": "markdown",
   "id": "e530df96-e795-4dba-86ff-7f969d436c0f",
   "metadata": {},
   "source": [
    "# Demos: Lecture 17"
   ]
  },
  {
   "cell_type": "code",
   "execution_count": 25,
   "id": "4cb1b2ce-b9fe-4798-be91-180b3456d1ba",
   "metadata": {},
   "outputs": [],
   "source": [
    "import pennylane as qml\n",
    "from pennylane import numpy as np"
   ]
  },
  {
   "cell_type": "code",
   "execution_count": 26,
   "id": "d9939e5d-2b41-4ad9-a539-c2bdcb03ffe2",
   "metadata": {},
   "outputs": [],
   "source": [
    "def prepare_state():\n",
    "    qml.RY(2 * np.pi/3, wires=0)\n",
    "    \n",
    "dev = qml.device(\"default.qubit\", wires=1)\n",
    "\n",
    "@qml.qnode(dev)\n",
    "def circuit():\n",
    "    prepare_state()\n",
    "    return qml.state()"
   ]
  },
  {
   "cell_type": "code",
   "execution_count": 27,
   "id": "d7c95fd4-af8a-4828-842e-742307fe5935",
   "metadata": {},
   "outputs": [
    {
     "data": {
      "text/plain": "tensor([0.5      +0.j, 0.8660254+0.j], requires_grad=True)"
     },
     "execution_count": 27,
     "metadata": {},
     "output_type": "execute_result"
    }
   ],
   "source": [
    "circuit()"
   ]
  },
  {
   "cell_type": "code",
   "execution_count": 28,
   "id": "49e400fe-f545-45bb-b20b-7f2838ad8f19",
   "metadata": {},
   "outputs": [],
   "source": [
    "dev_mixed = qml.device(\"default.mixed\", wires=1)"
   ]
  },
  {
   "cell_type": "code",
   "execution_count": 29,
   "id": "77793640-5a3c-480f-81c5-e3f9c4ca786e",
   "metadata": {},
   "outputs": [],
   "source": [
    "@qml.qnode(dev_mixed)\n",
    "def circuit():\n",
    "    prepare_state()\n",
    "    return qml.state()"
   ]
  },
  {
   "cell_type": "code",
   "execution_count": 30,
   "id": "acf5ee4b-5ffc-4c52-b4d0-35c90bff4758",
   "metadata": {},
   "outputs": [
    {
     "data": {
      "text/plain": "array([[0.25     +0.j, 0.4330127+0.j],\n       [0.4330127+0.j, 0.75     +0.j]])"
     },
     "execution_count": 30,
     "metadata": {},
     "output_type": "execute_result"
    }
   ],
   "source": [
    "circuit()"
   ]
  },
  {
   "cell_type": "code",
   "execution_count": 31,
   "id": "49098507-8161-49e7-b2e0-208beeaa8862",
   "metadata": {},
   "outputs": [],
   "source": [
    "@qml.qnode(dev_mixed)\n",
    "def circuit():\n",
    "    prepare_state()\n",
    "    qml.BitFlip(0.02, wires=0)\n",
    "    return qml.state()"
   ]
  },
  {
   "cell_type": "code",
   "execution_count": 32,
   "id": "15251e02-2db8-437a-ab6a-5a68e5cfa400",
   "metadata": {},
   "outputs": [
    {
     "data": {
      "text/plain": "array([[0.26     +0.j, 0.4330127+0.j],\n       [0.4330127+0.j, 0.74     +0.j]])"
     },
     "execution_count": 32,
     "metadata": {},
     "output_type": "execute_result"
    }
   ],
   "source": [
    "circuit()"
   ]
  },
  {
   "cell_type": "code",
   "execution_count": 40,
   "outputs": [],
   "source": [
    "@qml.qnode(dev)\n",
    "def circuit_single():\n",
    "    prepare_state()\n",
    "    # qml.RX(2 * np.pi/3, wires=0)\n",
    "    return qml.state()"
   ],
   "metadata": {
    "collapsed": false
   }
  },
  {
   "cell_type": "code",
   "execution_count": 41,
   "outputs": [],
   "source": [
    "@qml.qnode(dev_mixed)\n",
    "def circuit_mixed():\n",
    "    prepare_state()\n",
    "    # qml.RX(2 * np.pi/3, wires=0)\n",
    "    return qml.state()"
   ],
   "metadata": {
    "collapsed": false
   }
  },
  {
   "cell_type": "code",
   "execution_count": 42,
   "outputs": [
    {
     "data": {
      "text/plain": "tensor([0.5      +0.j, 0.8660254+0.j], requires_grad=True)"
     },
     "execution_count": 42,
     "metadata": {},
     "output_type": "execute_result"
    }
   ],
   "source": [
    "circuit_single()"
   ],
   "metadata": {
    "collapsed": false
   }
  },
  {
   "cell_type": "code",
   "execution_count": 43,
   "outputs": [
    {
     "data": {
      "text/plain": "array([[0.25     +0.j, 0.4330127+0.j],\n       [0.4330127+0.j, 0.75     +0.j]])"
     },
     "execution_count": 43,
     "metadata": {},
     "output_type": "execute_result"
    }
   ],
   "source": [
    "circuit_mixed()"
   ],
   "metadata": {
    "collapsed": false
   }
  },
  {
   "cell_type": "code",
   "execution_count": 47,
   "id": "a0173b92-6448-405c-9d04-03c13d7580ab",
   "metadata": {},
   "outputs": [
    {
     "data": {
      "text/plain": "array([[ 0.5      +0.j, -0.8660254-0.j],\n       [ 0.8660254+0.j,  0.5      +0.j]])"
     },
     "execution_count": 47,
     "metadata": {},
     "output_type": "execute_result"
    }
   ],
   "source": [
    "U = qml.matrix(qml.RY(2 * np.pi/3, wires=0))\n",
    "U"
   ]
  },
  {
   "cell_type": "code",
   "execution_count": 49,
   "outputs": [
    {
     "data": {
      "text/plain": "array([0.5      +0.j, 0.8660254+0.j])"
     },
     "execution_count": 49,
     "metadata": {},
     "output_type": "execute_result"
    }
   ],
   "source": [
    "U @ [1,0]"
   ],
   "metadata": {
    "collapsed": false
   }
  },
  {
   "cell_type": "code",
   "execution_count": 60,
   "outputs": [
    {
     "data": {
      "text/plain": "tensor([[0.25     +0.j, 0.4330127+0.j],\n        [0.4330127+0.j, 0.75     +0.j]], requires_grad=True)"
     },
     "execution_count": 60,
     "metadata": {},
     "output_type": "execute_result"
    }
   ],
   "source": [
    "U @ np.outer([1,0],[1,0]) @ U.T"
   ],
   "metadata": {
    "collapsed": false
   }
  },
  {
   "cell_type": "code",
   "execution_count": null,
   "outputs": [],
   "source": [],
   "metadata": {
    "collapsed": false
   }
  },
  {
   "cell_type": "code",
   "execution_count": 65,
   "outputs": [],
   "source": [
    "@qml.qnode(dev)\n",
    "def circuit_single():\n",
    "    prepare_state()\n",
    "    return qml.expval(qml.PauliX(0))"
   ],
   "metadata": {
    "collapsed": false
   }
  },
  {
   "cell_type": "code",
   "execution_count": 66,
   "outputs": [],
   "source": [
    "@qml.qnode(dev_mixed)\n",
    "def circuit_mixed():\n",
    "    prepare_state()\n",
    "    return qml.expval(qml.PauliX(0))"
   ],
   "metadata": {
    "collapsed": false
   }
  },
  {
   "cell_type": "code",
   "execution_count": 67,
   "outputs": [
    {
     "data": {
      "text/plain": "tensor(0.8660254, requires_grad=True)"
     },
     "execution_count": 67,
     "metadata": {},
     "output_type": "execute_result"
    }
   ],
   "source": [
    "circuit_single()"
   ],
   "metadata": {
    "collapsed": false
   }
  },
  {
   "cell_type": "code",
   "execution_count": 68,
   "outputs": [
    {
     "data": {
      "text/plain": "array(0.8660254)"
     },
     "execution_count": 68,
     "metadata": {},
     "output_type": "execute_result"
    }
   ],
   "source": [
    "circuit_mixed()"
   ],
   "metadata": {
    "collapsed": false
   }
  },
  {
   "cell_type": "code",
   "execution_count": 69,
   "outputs": [
    {
     "data": {
      "text/plain": "array([[ 0.5      +0.j, -0.8660254-0.j],\n       [ 0.8660254+0.j,  0.5      +0.j]])"
     },
     "execution_count": 69,
     "metadata": {},
     "output_type": "execute_result"
    }
   ],
   "source": [
    "U = qml.matrix(qml.RY(2 * np.pi/3, wires=0))\n",
    "U"
   ],
   "metadata": {
    "collapsed": false
   }
  },
  {
   "cell_type": "code",
   "execution_count": 79,
   "outputs": [
    {
     "data": {
      "text/plain": "(0.8660254037844388+0j)"
     },
     "execution_count": 79,
     "metadata": {},
     "output_type": "execute_result"
    }
   ],
   "source": [
    "(U @ [1,0]) @ qml.matrix(qml.PauliX(0)) @ (U @[1,0])"
   ],
   "metadata": {
    "collapsed": false
   }
  },
  {
   "cell_type": "code",
   "execution_count": 75,
   "outputs": [
    {
     "data": {
      "text/plain": "(0.8660254037844388+0j)"
     },
     "execution_count": 75,
     "metadata": {},
     "output_type": "execute_result"
    }
   ],
   "source": [
    "np.trace(qml.matrix(qml.PauliX(0)) @ (U @ np.outer([1,0],[1,0]) @ U.T))"
   ],
   "metadata": {
    "collapsed": false
   }
  },
  {
   "cell_type": "code",
   "execution_count": 80,
   "outputs": [
    {
     "data": {
      "text/plain": "tensor([[0.5, 0.5],\n        [0.5, 0.5]], requires_grad=True)"
     },
     "execution_count": 80,
     "metadata": {},
     "output_type": "execute_result"
    }
   ],
   "source": [
    "p_plus = np.outer([1/np.sqrt(2), 1/np.sqrt(2)], [1/np.sqrt(2), 1/np.sqrt(2)])\n",
    "p_plus"
   ],
   "metadata": {
    "collapsed": false
   }
  },
  {
   "cell_type": "code",
   "execution_count": 81,
   "outputs": [
    {
     "data": {
      "text/plain": "tensor([[ 0.5, -0.5],\n        [-0.5,  0.5]], requires_grad=True)"
     },
     "execution_count": 81,
     "metadata": {},
     "output_type": "execute_result"
    }
   ],
   "source": [
    "p_minus = np.outer([1/np.sqrt(2), -1/np.sqrt(2)], [1/np.sqrt(2), -1/np.sqrt(2)])\n",
    "p_minus"
   ],
   "metadata": {
    "collapsed": false
   }
  },
  {
   "cell_type": "code",
   "execution_count": 82,
   "outputs": [
    {
     "data": {
      "text/plain": "tensor([[0.5 , 0.25],\n        [0.25, 0.5 ]], requires_grad=True)"
     },
     "execution_count": 82,
     "metadata": {},
     "output_type": "execute_result"
    }
   ],
   "source": [
    "p_plus * 0.75 + p_minus*0.25"
   ],
   "metadata": {
    "collapsed": false
   }
  },
  {
   "cell_type": "code",
   "execution_count": 122,
   "outputs": [
    {
     "data": {
      "text/plain": "-0.25"
     },
     "execution_count": 122,
     "metadata": {},
     "output_type": "execute_result"
    }
   ],
   "source": [
    "np.trace(qml.matrix(qml.PauliZ(0)) @ [[3/8, -3/8], [-3/8, 5/8]])"
   ],
   "metadata": {
    "collapsed": false
   }
  },
  {
   "cell_type": "code",
   "execution_count": 87,
   "outputs": [
    {
     "data": {
      "text/plain": "array([[0, 1],\n       [1, 0]])"
     },
     "execution_count": 87,
     "metadata": {},
     "output_type": "execute_result"
    }
   ],
   "source": [
    "qml.matrix(qml.PauliX(0))"
   ],
   "metadata": {
    "collapsed": false
   }
  },
  {
   "cell_type": "code",
   "execution_count": null,
   "outputs": [],
   "source": [
    "[[3/8, -3/8], [-3/8, 5/8]]"
   ],
   "metadata": {
    "collapsed": false
   }
  },
  {
   "cell_type": "code",
   "execution_count": 120,
   "outputs": [],
   "source": [
    "U = np.random.random((2, 2))"
   ],
   "metadata": {
    "collapsed": false
   }
  },
  {
   "cell_type": "code",
   "execution_count": 121,
   "outputs": [
    {
     "data": {
      "text/plain": "tensor([[ 0.00476151, -0.011738  ],\n        [-0.011738  ,  0.43662103]], requires_grad=True)"
     },
     "execution_count": 121,
     "metadata": {},
     "output_type": "execute_result"
    }
   ],
   "source": [
    "U @ [[3/8, -3/8], [-3/8, 5/8]] @ U.T"
   ],
   "metadata": {
    "collapsed": false
   }
  },
  {
   "cell_type": "code",
   "execution_count": 131,
   "outputs": [
    {
     "data": {
      "text/plain": "tensor([[ 0.28143025, -0.37511655],\n        [-0.37511655,  0.53124865]], requires_grad=True)"
     },
     "execution_count": 131,
     "metadata": {},
     "output_type": "execute_result"
    }
   ],
   "source": [
    "np.array([[0, 0.5305], [0.1768, -0.7071]]) @ \\\n",
    "np.array([[0, 0.5305], [0.1768, -0.7071]]).T"
   ],
   "metadata": {
    "collapsed": false
   }
  },
  {
   "cell_type": "code",
   "execution_count": 132,
   "outputs": [
    {
     "data": {
      "text/plain": "tensor([[ 0.03125, -0.125  ],\n        [-0.125  ,  0.78125]], requires_grad=True)"
     },
     "execution_count": 132,
     "metadata": {},
     "output_type": "execute_result"
    }
   ],
   "source": [
    "np.array([[0.125, -0.125], [-0.125, 0.875]]) @ \\\n",
    "np.array([[0.125, -0.125], [-0.125, 0.875]]).T"
   ],
   "metadata": {
    "collapsed": false
   }
  },
  {
   "cell_type": "code",
   "execution_count": 133,
   "outputs": [
    {
     "data": {
      "text/plain": "tensor([[ 0.03125824, -0.12501528],\n        [-0.12501528,  0.7812085 ]], requires_grad=True)"
     },
     "execution_count": 133,
     "metadata": {},
     "output_type": "execute_result"
    }
   ],
   "source": [
    "np.array([[0, 0.1768], [0.5303, -0.7071]]) @ \\\n",
    "np.array([[0, 0.1768], [0.5303, -0.7071]]).T"
   ],
   "metadata": {
    "collapsed": false
   }
  },
  {
   "cell_type": "code",
   "execution_count": 135,
   "outputs": [
    {
     "data": {
      "text/plain": "(array([ 0.11416214, -0.82126214]),\n tensor([[ 0.84008528, -0.21045684],\n         [ 0.54245435,  0.97760315]], requires_grad=True))"
     },
     "execution_count": 135,
     "metadata": {},
     "output_type": "execute_result"
    }
   ],
   "source": [
    "np.linalg.eig(np.array([[0, 0.1768], [0.5303, -0.7071]]))"
   ],
   "metadata": {
    "collapsed": false
   }
  },
  {
   "cell_type": "code",
   "execution_count": null,
   "outputs": [],
   "source": [],
   "metadata": {
    "collapsed": false
   }
  }
 ],
 "metadata": {
  "kernelspec": {
   "name": "pennylane",
   "language": "python",
   "display_name": "pennylane"
  },
  "language_info": {
   "codemirror_mode": {
    "name": "ipython",
    "version": 3
   },
   "file_extension": ".py",
   "mimetype": "text/x-python",
   "name": "python",
   "nbconvert_exporter": "python",
   "pygments_lexer": "ipython3",
   "version": "3.9.12"
  }
 },
 "nbformat": 4,
 "nbformat_minor": 5
}
