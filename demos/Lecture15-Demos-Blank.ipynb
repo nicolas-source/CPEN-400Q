{
 "cells": [
  {
   "cell_type": "markdown",
   "id": "1ecc2235-07c3-4098-8bb1-cd170f86e5c5",
   "metadata": {},
   "source": [
    "# Demos: Lecture 15"
   ]
  },
  {
   "cell_type": "code",
   "execution_count": 6,
   "id": "f7686aae-1335-4c15-8153-2ff494c30043",
   "metadata": {},
   "outputs": [],
   "source": [
    "import pennylane as qml\n",
    "from pennylane import numpy as np\n",
    "import matplotlib.pyplot as plt"
   ]
  },
  {
   "cell_type": "markdown",
   "source": [],
   "metadata": {
    "collapsed": false
   }
  },
  {
   "cell_type": "code",
   "execution_count": 37,
   "outputs": [],
   "source": [],
   "metadata": {
    "collapsed": false
   }
  },
  {
   "cell_type": "markdown",
   "id": "ced90c99-cda8-41fa-9b8e-f3d08ed0b358",
   "metadata": {},
   "source": [
    "## Demo 1: VQE for the deuteron (solution)"
   ]
  },
  {
   "cell_type": "code",
   "execution_count": null,
   "outputs": [],
   "source": [],
   "metadata": {
    "collapsed": false
   }
  },
  {
   "cell_type": "markdown",
   "id": "d4141ec8-ff32-4448-9813-552b78ea2408",
   "metadata": {},
   "source": [
    "Below is a Hamiltonian for a _real_ physical system: a deuteron. The ground state of this Hamiltonian is a linear combination of 4 basis states with *real-valued* coefficients, i.e.,\n",
    "\n",
    "$$\n",
    "|\\psi_g\\rangle = a |1000\\rangle + b|0100\\rangle + c |0010\\rangle + d |0001\\rangle\n",
    "$$\n",
    "\n",
    "**Exercise**: Implement the VQE to find the ground state energy of this Hamiltonian.\n",
    "\n",
    "*Hint*: To create a suitable ansatz circuit, try generalizing the one from the previous demo."
   ]
  },
  {
   "cell_type": "code",
   "execution_count": 7,
   "id": "9cfb6974-922e-4297-9766-513c326bf103",
   "metadata": {},
   "outputs": [],
   "source": [
    "coeffs = [28.657, 0.218, -6.125, -9.625, -13.125, -2.143, -3.913, -5.671, -2.143, -3.913, -5.671]\n",
    "\n",
    "# comes from physics, What H should look like for a deuteron\n",
    "ops = [\n",
    "    qml.Identity(0), \n",
    "    qml.PauliZ(0),\n",
    "    qml.PauliZ(1),\n",
    "    qml.PauliZ(2),\n",
    "    qml.PauliZ(3),\n",
    "    qml.PauliX(0) @ qml.PauliX(1),\n",
    "    qml.PauliX(1) @ qml.PauliX(2),\n",
    "    qml.PauliX(2) @ qml.PauliX(3),\n",
    "    qml.PauliY(0) @ qml.PauliY(1),\n",
    "    qml.PauliY(1) @ qml.PauliY(2),\n",
    "    qml.PauliY(2) @ qml.PauliY(3)\n",
    "]\n",
    "\n",
    "H = qml.Hamiltonian(coeffs, ops)"
   ]
  },
  {
   "cell_type": "code",
   "execution_count": 8,
   "outputs": [
    {
     "name": "stdout",
     "output_type": "stream",
     "text": [
      "  (-13.125) [Z3]\n",
      "+ (-9.625) [Z2]\n",
      "+ (-6.125) [Z1]\n",
      "+ (0.218) [Z0]\n",
      "+ (28.657) [I0]\n",
      "+ (-5.671) [X2 X3]\n",
      "+ (-5.671) [Y2 Y3]\n",
      "+ (-3.913) [X1 X2]\n",
      "+ (-3.913) [Y1 Y2]\n",
      "+ (-2.143) [X0 X1]\n",
      "+ (-2.143) [Y0 Y1]\n"
     ]
    }
   ],
   "source": [
    "print(H)"
   ],
   "metadata": {
    "collapsed": false
   }
  },
  {
   "cell_type": "code",
   "execution_count": 15,
   "outputs": [],
   "source": [
    "dev = qml.device(\"default.qubit\", wires=4)\n",
    "\n",
    "@qml.qnode(dev)\n",
    "def ansatz(params):\n",
    "    # |0000> -> a|1000> + b|0100> + c|0010> + d|0001>\n",
    "\n",
    "    # |0000> -> a|0000> + b|1000>\n",
    "    qml.PauliX(wires=0)\n",
    "\n",
    "    #RY_1 |1000> -> a|1000> + b|1100>\n",
    "    qml.RY(params[0], wires=1)\n",
    "    #CNOT (RY_1) |1000> -> a|1000> + b|0100>\n",
    "    qml.CNOT(wires=[1, 0])\n",
    "\n",
    "\n",
    "    # a|1000> + b|0100> -> a|1000> + b|0100> + c|0110>\n",
    "    qml.CRY(params[1], wires=[1,2])\n",
    "    # a|1000> + b|0100> + c|0110> -> a|1000> + b|0100> + c|0010>\n",
    "    qml.CNOT(wires=[2,1])\n",
    "\n",
    "    # a|1000> + b|0100> + c|0010> -> a|1000> + b|0100> + c|0010> + d|0001>\n",
    "    qml.CRY(params[2], wires=[2,3])\n",
    "    qml.CNOT(wires=[3,2])\n",
    "\n",
    "    return qml.expval(H)"
   ],
   "metadata": {
    "collapsed": false
   }
  },
  {
   "cell_type": "code",
   "execution_count": 15,
   "outputs": [],
   "source": [],
   "metadata": {
    "collapsed": false
   }
  },
  {
   "cell_type": "code",
   "execution_count": 17,
   "outputs": [],
   "source": [
    "# Run VQE\n",
    "opt = qml.GradientDescentOptimizer()\n",
    "\n",
    "n_its = 300\n",
    "\n",
    "param = np.random.uniform(size=3)\n",
    "\n",
    "energies = []\n",
    "\n",
    "for _ in range(n_its):\n",
    "    param, _energy = opt.step_and_cost(ansatz, param)\n",
    "    energies.append(_energy)"
   ],
   "metadata": {
    "collapsed": false
   }
  },
  {
   "cell_type": "code",
   "execution_count": 20,
   "outputs": [
    {
     "name": "stdout",
     "output_type": "stream",
     "text": [
      "0: ──X────────╭X───────────────────────────┤ ╭<𝓗>\n",
      "1: ──RY(0.10)─╰●─╭●────────╭X──────────────┤ ├<𝓗>\n",
      "2: ──────────────╰RY(0.20)─╰●─╭●────────╭X─┤ ├<𝓗>\n",
      "3: ───────────────────────────╰RY(0.30)─╰●─┤ ╰<𝓗>\n"
     ]
    }
   ],
   "source": [
    "print(qml.draw(ansatz)([0.1, 0.2, 0.3]))"
   ],
   "metadata": {
    "collapsed": false
   }
  },
  {
   "cell_type": "code",
   "execution_count": 21,
   "outputs": [
    {
     "data": {
      "text/plain": "[<matplotlib.lines.Line2D at 0x12e90c850>]"
     },
     "execution_count": 21,
     "metadata": {},
     "output_type": "execute_result"
    },
    {
     "data": {
      "text/plain": "<Figure size 640x480 with 1 Axes>",
      "image/png": "[encoded data removed]"
     },
     "metadata": {},
     "output_type": "display_data"
    }
   ],
   "source": [
    "plt.plot(energies)"
   ],
   "metadata": {
    "collapsed": false
   }
  },
  {
   "cell_type": "code",
   "execution_count": 22,
   "outputs": [
    {
     "data": {
      "text/plain": "array(-2.1162561)"
     },
     "execution_count": 22,
     "metadata": {},
     "output_type": "execute_result"
    }
   ],
   "source": [
    "energies[-1]"
   ],
   "metadata": {
    "collapsed": false
   }
  },
  {
   "cell_type": "code",
   "execution_count": 9,
   "outputs": [
    {
     "data": {
      "text/plain": [
       "tensor(-1.99283622, requires_grad=True)"
      ]
     },
     "execution_count": 9,
     "metadata": {},
     "output_type": "execute_result"
    }
   ],
   "source": [
    "ansatz(param)"
   ],
   "metadata": {
    "collapsed": false
   }
  },
  {
   "cell_type": "markdown",
   "source": [
    "## Demo 2: VQE for the deuteron"
   ],
   "metadata": {
    "collapsed": false
   }
  },
  {
   "cell_type": "markdown",
   "source": [
    "Below is a Hamiltonian for a _real_ physical system: a deuteron. The ground state of this Hamiltonian is a linear combination of 4 basis states with *real-valued* coefficients, i.e.,\n",
    "\n",
    "$$\n",
    "|\\psi_g\\rangle = a |1000\\rangle + b|0100\\rangle + c |0010\\rangle + d |0001\\rangle\n",
    "$$\n",
    "\n",
    "**Exercise**: Implement the VQE to find the ground state energy of this Hamiltonian.\n",
    "\n",
    "*Hint*: To create a suitable ansatz circuit, try generalizing the one from the previous demo."
   ],
   "metadata": {
    "collapsed": false
   }
  },
  {
   "cell_type": "code",
   "execution_count": 3,
   "outputs": [],
   "source": [
    "coeffs = [28.657, 0.218, -6.125, -9.625, -13.125, -2.143, -3.913, -5.671, -2.143, -3.913, -5.671]\n",
    "\n",
    "ops = [\n",
    "    qml.Identity(0),\n",
    "    qml.PauliZ(0),\n",
    "    qml.PauliZ(1),\n",
    "    qml.PauliZ(2),\n",
    "    qml.PauliZ(3),\n",
    "    qml.PauliX(0) @ qml.PauliX(1),\n",
    "    qml.PauliX(1) @ qml.PauliX(2),\n",
    "    qml.PauliX(2) @ qml.PauliX(3),\n",
    "    qml.PauliY(0) @ qml.PauliY(1),\n",
    "    qml.PauliY(1) @ qml.PauliY(2),\n",
    "    qml.PauliY(2) @ qml.PauliY(3)\n",
    "]\n",
    "\n",
    "H = qml.Hamiltonian(coeffs, ops)"
   ],
   "metadata": {
    "collapsed": false
   }
  },
  {
   "cell_type": "code",
   "execution_count": null,
   "outputs": [],
   "source": [
    "dev = qml.device('default.qubit', wires=4)\n",
    "\n",
    "@qml.qnode(dev)\n",
    "def ansatz(theta):\n",
    "    # We will go over the solution on Monday!\n",
    "\n",
    "    return qml.expval(H)"
   ],
   "metadata": {
    "collapsed": false
   }
  },
  {
   "cell_type": "code",
   "execution_count": null,
   "outputs": [],
   "source": [
    "# Run VQE\n",
    "opt = qml.GradientDescentOptimizer()\n",
    "\n",
    "param = np.array(0.0, requires_grad=True)\n",
    "\n",
    "energies = []\n",
    "\n",
    "for _ in range(200):\n",
    "    param, _energy = opt.step_and_cost(ansatz, param)\n",
    "    energies.append(_energy)"
   ],
   "metadata": {
    "collapsed": false
   }
  }
 ],
 "metadata": {
  "kernelspec": {
   "display_name": "Python 3 (ipykernel)",
   "language": "python",
   "name": "python3"
  },
  "language_info": {
   "codemirror_mode": {
    "name": "ipython",
    "version": 3
   },
   "file_extension": ".py",
   "mimetype": "text/x-python",
   "name": "python",
   "nbconvert_exporter": "python",
   "pygments_lexer": "ipython3",
   "version": "3.9.12"
  }
 },
 "nbformat": 4,
 "nbformat_minor": 5
}
