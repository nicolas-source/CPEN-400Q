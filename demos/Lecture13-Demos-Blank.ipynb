{
 "cells": [
  {
   "cell_type": "markdown",
   "id": "1ecc2235-07c3-4098-8bb1-cd170f86e5c5",
   "metadata": {},
   "source": [
    "# Demos: Lecture 13"
   ]
  },
  {
   "cell_type": "code",
   "execution_count": 1,
   "id": "f7686aae-1335-4c15-8153-2ff494c30043",
   "metadata": {},
   "outputs": [],
   "source": [
    "import pennylane as qml\n",
    "from pennylane import numpy as np\n",
    "import matplotlib.pyplot as plt"
   ]
  },
  {
   "cell_type": "markdown",
   "id": "4db31eab-aa15-424d-aa21-825102901871",
   "metadata": {},
   "source": [
    "## Demo 1: Parameter-shift rules"
   ]
  },
  {
   "cell_type": "markdown",
   "id": "a2c1942b-5881-4f14-850a-c94776a15ec4",
   "metadata": {},
   "source": [
    "Suppose we run a parametrized circuit $U(\\theta)$ and measure $\\langle B \\rangle$. The output, $\\langle B \\rangle$, is a function of the parameter $\\theta$. The parameter-shift rule allows us to evaluate the gradient of this function at any point:\n",
    "\n",
    "$$\n",
    "\\frac{\\partial \\langle B \\rangle}{\\partial \\theta} = \\frac{1}{2} \\left( U(\\theta + \\pi/2) - U(\\theta - \\pi/2) \\right),\n",
    "$$\n",
    "\n",
    "where the notation $U(\\theta + \\pi/2)$ implicitly means the output of running $U(\\theta)$ at a particular parameter value. This works even for circuits with multiple parameters: we can apply the parameter-shift rule to each parameter independently."
   ]
  },
  {
   "cell_type": "markdown",
   "id": "674342f5-0bb5-48a4-8300-92be741ed358",
   "metadata": {},
   "source": [
    "**Exercise**: Write a QNode that implements the quantum circuit below. Then:\n",
    " - use the parameter-shift rules to compute the gradients with respect to each of the parameters ($\\theta = 0.1, \\phi = 0.2$) indepedently\n",
    " - compare this to the gradients obtained using `qml.grad` on both parameters"
   ]
  },
  {
   "cell_type": "markdown",
   "id": "c522e0b5-ffb5-4ef4-b6f9-74cff28de96f",
   "metadata": {},
   "source": [
    "<img src=\"fig/two_param_opt.png\">"
   ]
  },
  {
   "cell_type": "code",
   "execution_count": 13,
   "id": "7654f160-a7ae-4d55-8afb-2593b0ca6fa5",
   "metadata": {},
   "outputs": [],
   "source": [
    "dev = qml.device('default.qubit', wires=2)\n",
    "\n",
    "# @qml.qnode(dev)\n",
    "@qml.qnode(dev, diff_method=\"parameter-shift\")\n",
    "def paramCirc(theta, phi):\n",
    "    qml.RY(theta, wires=0)\n",
    "    qml.RX(phi, wires=1)\n",
    "    qml.CNOT(wires=[0,1])\n",
    "    qml.CNOT(wires=[1,0])\n",
    "\n",
    "    return qml.expval(qml.PauliZ(0) @ qml.PauliX(1))\n"
   ]
  },
  {
   "cell_type": "code",
   "execution_count": 14,
   "outputs": [
    {
     "data": {
      "text/plain": "tensor(0.97517033, requires_grad=True)"
     },
     "execution_count": 14,
     "metadata": {},
     "output_type": "execute_result"
    }
   ],
   "source": [
    "0.5 * (paramCirc(0.1 + np.pi/2, 0.2) - paramCirc(0.1 - np.pi/2, 0.2))"
   ],
   "metadata": {
    "collapsed": false
   }
  },
  {
   "cell_type": "code",
   "execution_count": 15,
   "outputs": [
    {
     "data": {
      "text/plain": "tensor(-0.01983384, requires_grad=True)"
     },
     "execution_count": 15,
     "metadata": {},
     "output_type": "execute_result"
    }
   ],
   "source": [
    "0.5 * (paramCirc(0.1, 0.2 + np.pi/2) - paramCirc(0.1, 0.2 - np.pi/2))"
   ],
   "metadata": {
    "collapsed": false
   }
  },
  {
   "cell_type": "code",
   "execution_count": 19,
   "outputs": [
    {
     "data": {
      "text/plain": "(tensor(0.97517033, requires_grad=True),\n tensor(-0.01983384, requires_grad=True))"
     },
     "execution_count": 19,
     "metadata": {},
     "output_type": "execute_result"
    }
   ],
   "source": [
    "theta = np.array(0.1, requires_grad = True)\n",
    "phi = np.array(0.2, requires_grad = True)\n",
    "\n",
    "grad_func = qml.grad(paramCirc)\n",
    "grad_func(theta, phi)"
   ],
   "metadata": {
    "collapsed": false
   }
  },
  {
   "cell_type": "code",
   "execution_count": 30,
   "outputs": [],
   "source": [
    "theta = np.array(0., requires_grad = True)\n",
    "phi = np.array(0., requires_grad = True)\n",
    "\n",
    "opt = qml.GradientDescentOptimizer()\n",
    "num_iter = 200\n",
    "running_costs = []\n",
    "\n",
    "for _ in range(num_iter):\n",
    "    (theta, phi), _cost = opt.step_and_cost(paramCirc, theta, phi) # Takes in 1.func to optimize, 2. Params\n",
    "    running_costs.append(_cost)"
   ],
   "metadata": {
    "collapsed": false
   }
  },
  {
   "cell_type": "code",
   "execution_count": 31,
   "outputs": [
    {
     "data": {
      "text/plain": "[<matplotlib.lines.Line2D at 0x7fd3623cb700>]"
     },
     "execution_count": 31,
     "metadata": {},
     "output_type": "execute_result"
    },
    {
     "data": {
      "text/plain": "<Figure size 640x480 with 1 Axes>",
      "image/png": "[encoded data removed]"
     },
     "metadata": {},
     "output_type": "display_data"
    }
   ],
   "source": [
    "plt.plot(running_costs) # this has range [-1, 1]"
   ],
   "metadata": {
    "collapsed": false
   }
  },
  {
   "cell_type": "code",
   "execution_count": 32,
   "outputs": [
    {
     "data": {
      "text/plain": "tensor(-1.30352431, requires_grad=True)"
     },
     "execution_count": 32,
     "metadata": {},
     "output_type": "execute_result"
    }
   ],
   "source": [
    "theta"
   ],
   "metadata": {
    "collapsed": false
   }
  },
  {
   "cell_type": "code",
   "execution_count": 33,
   "outputs": [
    {
     "data": {
      "text/plain": "tensor(0., requires_grad=True)"
     },
     "execution_count": 33,
     "metadata": {},
     "output_type": "execute_result"
    }
   ],
   "source": [
    "phi"
   ],
   "metadata": {
    "collapsed": false
   }
  },
  {
   "cell_type": "markdown",
   "id": "4e45addf-ec60-4f8e-93d6-23505cc9d2ae",
   "metadata": {},
   "source": [
    "## Demo 2: Variational eigensolver"
   ]
  },
  {
   "cell_type": "markdown",
   "id": "65172813-79c2-44c0-8941-c196106cc778",
   "metadata": {},
   "source": [
    "Below we construct the two-qubit Hamiltonian \n",
    "\n",
    "$$\n",
    "\\hat{H} = 0.5 Z \\otimes Z + 1.5 X \\otimes X\n",
    "$$\n",
    "\n",
    "and use the VQE to find its ground state energy."
   ]
  },
  {
   "cell_type": "code",
   "execution_count": 20,
   "id": "9e19ff34-8660-436f-92b0-78fa97992aae",
   "metadata": {},
   "outputs": [],
   "source": [
    "coeffs = [0.5, 1.5]\n",
    "ops = [qml.PauliZ(0) @ qml.PauliZ(1), qml.PauliX(0) @ qml.PauliX(1)]\n",
    "\n",
    "H = qml.Hamiltonian(coeffs, ops)"
   ]
  },
  {
   "cell_type": "code",
   "execution_count": null,
   "id": "f5ffcf7a-6d1e-481a-b0bc-5c1325aba43c",
   "metadata": {},
   "outputs": [],
   "source": []
  },
  {
   "cell_type": "markdown",
   "id": "ced90c99-cda8-41fa-9b8e-f3d08ed0b358",
   "metadata": {},
   "source": [
    "## Demo 3: VQE for the deuteron"
   ]
  },
  {
   "cell_type": "markdown",
   "id": "d4141ec8-ff32-4448-9813-552b78ea2408",
   "metadata": {},
   "source": [
    "Below is a Hamiltonian for a _real_ physical system: a deuteron. The ground state of this Hamiltonian is a linear combination of 4 basis states with *real-valued* coefficients, i.e.,\n",
    "\n",
    "$$\n",
    "|\\psi_g\\rangle = a |1000\\rangle + b|0100\\rangle + c |0010\\rangle + d |0001\\rangle\n",
    "$$\n",
    "\n",
    "**Exercise**: Implement the VQE to find the ground state energy of this Hamiltonian.\n",
    "\n",
    "*Hint*: To create a suitable ansatz circuit, try generalizing the one from the previous demo."
   ]
  },
  {
   "cell_type": "code",
   "execution_count": 3,
   "id": "9cfb6974-922e-4297-9766-513c326bf103",
   "metadata": {},
   "outputs": [],
   "source": [
    "coeffs = [28.657, 0.218, -6.125, -9.625, -13.125, -2.143, -3.913, -5.671, -2.143, -3.913, -5.671]\n",
    "\n",
    "ops = [\n",
    "    qml.Identity(0), \n",
    "    qml.PauliZ(0),\n",
    "    qml.PauliZ(1),\n",
    "    qml.PauliZ(2),\n",
    "    qml.PauliZ(3),\n",
    "    qml.PauliX(0) @ qml.PauliX(1),\n",
    "    qml.PauliX(1) @ qml.PauliX(2),\n",
    "    qml.PauliX(2) @ qml.PauliX(3),\n",
    "    qml.PauliY(0) @ qml.PauliY(1),\n",
    "    qml.PauliY(1) @ qml.PauliY(2),\n",
    "    qml.PauliY(2) @ qml.PauliY(3)\n",
    "]\n",
    "\n",
    "H = qml.Hamiltonian(coeffs, ops)"
   ]
  }
 ],
 "metadata": {
  "kernelspec": {
   "name": "pennylane",
   "language": "python",
   "display_name": "PennyLane"
  },
  "language_info": {
   "codemirror_mode": {
    "name": "ipython",
    "version": 3
   },
   "file_extension": ".py",
   "mimetype": "text/x-python",
   "name": "python",
   "nbconvert_exporter": "python",
   "pygments_lexer": "ipython3",
   "version": "3.9.7"
  }
 },
 "nbformat": 4,
 "nbformat_minor": 5
}
