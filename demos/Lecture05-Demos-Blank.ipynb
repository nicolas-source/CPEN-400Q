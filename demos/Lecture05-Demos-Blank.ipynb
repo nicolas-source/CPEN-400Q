{
 "cells": [
  {
   "cell_type": "markdown",
   "metadata": {},
   "source": [
    "# Demos: Lecture 5"
   ]
  },
  {
   "cell_type": "code",
   "execution_count": 1,
   "outputs": [],
   "source": [
    "import pennylane as qml\n",
    "from pennylane import numpy as np"
   ],
   "metadata": {
    "collapsed": false
   }
  },
  {
   "cell_type": "markdown",
   "metadata": {},
   "source": [
    "## Demo 1: superdense coding"
   ]
  },
  {
   "cell_type": "markdown",
   "metadata": {},
   "source": [
    "<img src=\"fig/superdense.png\" width=\"600px\"> "
   ]
  },
  {
   "cell_type": "code",
   "execution_count": 3,
   "metadata": {},
   "outputs": [],
   "source": [
    "def create_entangled_state(wires):\n",
    "    qml.Hadamard(wires=wires[0])\n",
    "    qml.CNOT(wires=[wires[0], wires[1]])\n",
    "\n",
    "def alice_does_something(b1, b2, wire):\n",
    "    if b1 == 1:\n",
    "        qml.PauliZ(wires=wire)\n",
    "    if b2 == 1:\n",
    "        qml.PauliX(wires=wire)\n",
    "\n",
    "dev = qml.device('default.qubit', wires=2, shots=1)\n",
    "\n",
    "@qml.qnode(dev)\n",
    "def superdense_coding(b1, b2):\n",
    "    create_entangled_state([0,1])\n",
    "    alice_does_something(b1, b2, 0)\n",
    "    qml.adjoint(create_entangled_state)([0,1])\n",
    "\n",
    "\n",
    "    return qml.sample()"
   ]
  },
  {
   "cell_type": "code",
   "execution_count": 9,
   "outputs": [
    {
     "data": {
      "text/plain": "tensor([1, 1], requires_grad=True)"
     },
     "execution_count": 9,
     "metadata": {},
     "output_type": "execute_result"
    }
   ],
   "source": [
    "superdense_coding(0,0)"
   ],
   "metadata": {
    "collapsed": false
   }
  },
  {
   "cell_type": "markdown",
   "metadata": {},
   "source": [
    "## Demo 2: teleportation "
   ]
  },
  {
   "cell_type": "markdown",
   "metadata": {},
   "source": [
    " <img src=\"fig/teleportation.png\" width=\"800px\">"
   ]
  },
  {
   "cell_type": "code",
   "execution_count": null,
   "outputs": [],
   "source": [],
   "metadata": {
    "collapsed": false
   }
  }
 ],
 "metadata": {
  "kernelspec": {
   "name": "pennylane",
   "language": "python",
   "display_name": "PennyLane"
  },
  "language_info": {
   "codemirror_mode": {
    "name": "ipython",
    "version": 3
   },
   "file_extension": ".py",
   "mimetype": "text/x-python",
   "name": "python",
   "nbconvert_exporter": "python",
   "pygments_lexer": "ipython3",
   "version": "3.8.5"
  }
 },
 "nbformat": 4,
 "nbformat_minor": 4
}
