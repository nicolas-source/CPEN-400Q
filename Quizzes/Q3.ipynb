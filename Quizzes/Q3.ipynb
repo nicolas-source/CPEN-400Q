{
 "cells": [
  {
   "cell_type": "code",
   "execution_count": 6,
   "metadata": {
    "collapsed": true
   },
   "outputs": [
    {
     "data": {
      "text/plain": "tensor(0.47766824, requires_grad=True)"
     },
     "execution_count": 6,
     "metadata": {},
     "output_type": "execute_result"
    }
   ],
   "source": [
    "from pennylane import numpy as np\n",
    "import pennylane as qml\n",
    "\n",
    "dev = qml.device(\"default.qubit\", wires=2)\n",
    "\n",
    "@qml.qnode(dev)\n",
    "def quiz_4_qnode(z):\n",
    "    # YOUR CODE HERE: complete the QNode as in the picture\n",
    "    qml.Hadamard(wires=0)\n",
    "    qml.Hadamard(wires=1)\n",
    "    qml.ctrl(qml.RZ, control=0)(z, wires=1)\n",
    "\n",
    "    return qml.expval(qml.PauliY(1))\n",
    "\n",
    "def compute_gradient(z):\n",
    "    # This function should, given an input z, evaluate and return\n",
    "    # the gradient of quiz_4_qnode at z.\n",
    "\n",
    "    # Do not change the next line; it is required to ensure the input\n",
    "    # parameter passed to the QNode will be differentiable.\n",
    "    z = np.array(z, requires_grad=True)\n",
    "\n",
    "    # YOUR CODE HERE\n",
    "    grad_value = 0 # CHANGE ME\n",
    "\n",
    "    grad_fn = qml.grad(quiz_4_qnode)\n",
    "    grad_value = grad_fn(z)\n",
    "\n",
    "    return grad_value\n",
    "\n",
    "quiz_4_qnode(0.3)\n",
    "compute_gradient(0.3)\n",
    "\n",
    "quiz_4_qnode(0.3)\n",
    "compute_gradient(0.3)"
   ]
  },
  {
   "cell_type": "code",
   "execution_count": null,
   "outputs": [],
   "source": [],
   "metadata": {
    "collapsed": false
   }
  }
 ],
 "metadata": {
  "kernelspec": {
   "name": "pennylane",
   "language": "python",
   "display_name": "PennyLane"
  },
  "language_info": {
   "codemirror_mode": {
    "name": "ipython",
    "version": 2
   },
   "file_extension": ".py",
   "mimetype": "text/x-python",
   "name": "python",
   "nbconvert_exporter": "python",
   "pygments_lexer": "ipython2",
   "version": "2.7.6"
  }
 },
 "nbformat": 4,
 "nbformat_minor": 0
}
